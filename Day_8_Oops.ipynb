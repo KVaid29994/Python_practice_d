{
 "cells": [
  {
   "cell_type": "markdown",
   "id": "73385810",
   "metadata": {},
   "source": [
    " Q1. Create a class Car with attributes brand and speed. Write a method to display the car info."
   ]
  },
  {
   "cell_type": "code",
   "execution_count": null,
   "id": "6e13eb0a",
   "metadata": {},
   "outputs": [],
   "source": [
    "class car: #class: Defines a blueprint (Car).\n",
    "    def __init__(self,brand, speed): ## __init__: Constructor; initializes object attributes when object is created.\n",
    "        self.brand = brand\n",
    "        self.speed = speed \n",
    "        #self: Refers to the current instance of the class.\n",
    "\n",
    "\n",
    "    def display_info(self):\n",
    "        print (f\"The brand is {self.brand} and the speed is {self.speed}\")\n",
    "\n",
    "    def accelerate(self, increase):  #Method over attributes: accelerate() is changing the object’s state.\n",
    "        self.speed += increase\n",
    "        print ((f\"The brand is {self.brand} and the new speed is {self.speed}\"))"
   ]
  },
  {
   "cell_type": "code",
   "execution_count": 7,
   "id": "f62522a0",
   "metadata": {},
   "outputs": [],
   "source": [
    "car1 = car(\"Toyota\", 180)  #car1 = Car(...): Creates an instance of Car"
   ]
  },
  {
   "cell_type": "code",
   "execution_count": 8,
   "id": "c519d89f",
   "metadata": {},
   "outputs": [
    {
     "name": "stdout",
     "output_type": "stream",
     "text": [
      "The brand is Toyota and the speed is 180\n"
     ]
    }
   ],
   "source": [
    "car1.display_info()"
   ]
  },
  {
   "cell_type": "code",
   "execution_count": 9,
   "id": "e8a079a5",
   "metadata": {},
   "outputs": [
    {
     "name": "stdout",
     "output_type": "stream",
     "text": [
      "The brand is Toyota and the new speed is 182\n"
     ]
    }
   ],
   "source": [
    "car1.accelerate(2)"
   ]
  },
  {
   "cell_type": "code",
   "execution_count": 10,
   "id": "2e68dd10",
   "metadata": {},
   "outputs": [
    {
     "name": "stdout",
     "output_type": "stream",
     "text": [
      "The brand is Toyota and the speed is 182\n"
     ]
    }
   ],
   "source": [
    "car1.display_info()"
   ]
  },
  {
   "cell_type": "markdown",
   "id": "18b3b6a8",
   "metadata": {},
   "source": [
    "Encapsulation: You hide the internal representation of data and interact via methods."
   ]
  },
  {
   "cell_type": "markdown",
   "id": "6ca518b7",
   "metadata": {},
   "source": [
    "### 3 .Create a class BankAccount with methods to deposit(), withdraw() and check_balance(). Prevent withdrawing if balance is low."
   ]
  },
  {
   "cell_type": "code",
   "execution_count": 25,
   "id": "830281d9",
   "metadata": {},
   "outputs": [],
   "source": [
    "class BankAccount:\n",
    "    def __init__(self, owner, balance):\n",
    "        self.owner = owner\n",
    "        self.balance = balance\n",
    "\n",
    "    def deposit(self, amount):\n",
    "        self.balance += amount\n",
    "        print (f\"The ampunt deposited is {amount}and the new balance is {self.balance}\")\n",
    "\n",
    "    def withdraw(self,money):\n",
    "        if self.balance < money:\n",
    "            print (\"Insufficient funds\")\n",
    "        else:\n",
    "            self.balance -= money\n",
    "            print (f\"Amount withdrawn {money}, The new balance is {self.balance}\")\n",
    "\n",
    "    def check_balance(self):\n",
    "        print(f'the current balance is {self.balance}')"
   ]
  },
  {
   "cell_type": "code",
   "execution_count": 26,
   "id": "f24c7f26",
   "metadata": {},
   "outputs": [],
   "source": [
    "bank1 = BankAccount(\"Kashish\",200)"
   ]
  },
  {
   "cell_type": "code",
   "execution_count": 27,
   "id": "ad8e6452",
   "metadata": {},
   "outputs": [
    {
     "name": "stdout",
     "output_type": "stream",
     "text": [
      "Amount withdrawn 20, The new balance is 180\n"
     ]
    }
   ],
   "source": [
    "bank1.withdraw(20)"
   ]
  },
  {
   "cell_type": "code",
   "execution_count": 28,
   "id": "d353c31b",
   "metadata": {},
   "outputs": [
    {
     "name": "stdout",
     "output_type": "stream",
     "text": [
      "the current balance is 180\n"
     ]
    }
   ],
   "source": [
    "bank1.check_balance()"
   ]
  },
  {
   "cell_type": "code",
   "execution_count": 29,
   "id": "08108b27",
   "metadata": {},
   "outputs": [
    {
     "name": "stdout",
     "output_type": "stream",
     "text": [
      "The ampunt deposited is 2000and the new balance is 2180\n"
     ]
    }
   ],
   "source": [
    "bank1.deposit(2000)"
   ]
  },
  {
   "cell_type": "markdown",
   "id": "a5eb0150",
   "metadata": {},
   "source": [
    " ### 4. Create a class Student that stores marks of 3 subjects and calculates average using a method."
   ]
  },
  {
   "cell_type": "code",
   "execution_count": 31,
   "id": "9f45f46f",
   "metadata": {},
   "outputs": [],
   "source": [
    "class Student:\n",
    "    def __init__(self, name,marks):\n",
    "        self.name  = name\n",
    "        self.marks = marks\n",
    "    def calculate_avg(self):\n",
    "        average_marks = sum(self.marks)/len(self.marks)\n",
    "        print(f\"{self.name}'s average score is {average_marks:.2f}\")"
   ]
  },
  {
   "cell_type": "code",
   "execution_count": 35,
   "id": "35592422",
   "metadata": {},
   "outputs": [],
   "source": [
    "name = input(\"Enter the name of the student: \")\n",
    "\n",
    "marks_input = input(\"Enter marks for 3 subjects (space-separated): \")\n",
    "\n",
    "marks = list(map(int, marks_input.split()))"
   ]
  },
  {
   "cell_type": "code",
   "execution_count": 36,
   "id": "403f9275",
   "metadata": {},
   "outputs": [],
   "source": [
    "student1 = Student(name, marks)"
   ]
  },
  {
   "cell_type": "code",
   "execution_count": 37,
   "id": "55053b22",
   "metadata": {},
   "outputs": [
    {
     "name": "stdout",
     "output_type": "stream",
     "text": [
      "Kashish's average score is 44.00\n"
     ]
    }
   ],
   "source": [
    "student1.calculate_avg()"
   ]
  },
  {
   "cell_type": "markdown",
   "id": "5875655e",
   "metadata": {},
   "source": [
    "### 5. Create a class Student. Let the user input N students, each with name and marks in 3 subjects. After all inputs, display a summary showing average marks of each student."
   ]
  },
  {
   "cell_type": "code",
   "execution_count": 41,
   "id": "fb2d4007",
   "metadata": {},
   "outputs": [
    {
     "name": "stdout",
     "output_type": "stream",
     "text": [
      "\n",
      "Enter details for student 1\n",
      "\n",
      "Enter details for student 2\n",
      "\n",
      "Enter details for student 3\n",
      "\n",
      "--- Student Summary Report ---\n",
      "Kashish: Average = 25.00\n",
      "Mayankn: Average = 36.33\n",
      "kash: Average = 51.33\n"
     ]
    }
   ],
   "source": [
    "class Student:\n",
    "    def __init__(self, name, marks):\n",
    "        self.name = name\n",
    "        self.marks = marks\n",
    "\n",
    "    def calculate_avg(self):\n",
    "        return sum(self.marks) / len(self.marks)\n",
    "\n",
    "\n",
    "# ---------- Input ----------\n",
    "students = []\n",
    "\n",
    "n = int(input(\"How many students? \"))\n",
    "\n",
    "for i in range(n):\n",
    "    print(f\"\\nEnter details for student {i + 1}\")\n",
    "    name = input(\"Name: \")\n",
    "    marks = list(map(int, input(\"Enter 3 marks (space-separated): \").split()))\n",
    "    student = Student(name, marks)\n",
    "    students.append(student)\n",
    "\n",
    "# ---------- Output Summary ----------\n",
    "print(\"\\n--- Student Summary Report ---\")\n",
    "for student in students:\n",
    "    avg = student.calculate_avg()\n",
    "    print(f\"{student.name}: Average = {avg:.2f}\")\n"
   ]
  },
  {
   "cell_type": "markdown",
   "id": "694d8295",
   "metadata": {},
   "source": [
    "### 🔁 1. Encapsulation (Hide internal details)\n",
    "Encapsulation means hiding data and only allowing controlled access via methods."
   ]
  },
  {
   "cell_type": "markdown",
   "id": "abd55bf7",
   "metadata": {},
   "source": [
    "### 🔁 2. Inheritance (One class reuses another)"
   ]
  },
  {
   "cell_type": "markdown",
   "id": "e892db89",
   "metadata": {},
   "source": [
    "### 🔁 3. Polymorphism (Same method behaves differently)\n",
    "You can override a method in the child class to behave differently."
   ]
  },
  {
   "cell_type": "markdown",
   "id": "82850133",
   "metadata": {},
   "source": [
    "### ✅ 4. Magic Methods / Dunder Methods (__str__)"
   ]
  },
  {
   "cell_type": "markdown",
   "id": "93958e06",
   "metadata": {},
   "source": [
    "### ✅ 5. Static Methods – For Utility, Not Tied to Instance"
   ]
  },
  {
   "cell_type": "markdown",
   "id": "20edd34a",
   "metadata": {},
   "source": [
    "______________________________________________________"
   ]
  },
  {
   "cell_type": "markdown",
   "id": "740c380f",
   "metadata": {},
   "source": []
  },
  {
   "cell_type": "markdown",
   "id": "5ca881bf",
   "metadata": {},
   "source": [
    "### 💡 What is Encapsulation?\n",
    "Encapsulation means hiding internal data and only exposing limited access through methods.\n",
    "You make attributes private (e.g., __marks) and use getter/setter methods to control access."
   ]
  },
  {
   "cell_type": "markdown",
   "id": "f1429ee0",
   "metadata": {},
   "source": [
    "✅ Question 1: Prevent Invalid Marks Entry Using Encapsulation\n",
    "\n",
    "Create a Student class. The marks attribute must be private. Use a setter to ensure no mark is above 100. If it is, print an error and don’t update."
   ]
  },
  {
   "cell_type": "code",
   "execution_count": 42,
   "id": "578d3c2a",
   "metadata": {},
   "outputs": [],
   "source": [
    "class Student:\n",
    "    def __init__(self, name, marks):\n",
    "        self.name = name\n",
    "        self.__marks = []\n",
    "        self.set_marks(marks) \n",
    "\n",
    "    def set_marks(self, marks):\n",
    "        if all(0<=m<=100 for m in marks):\n",
    "            self.__marks= marks\n",
    "        else:\n",
    "            print(\"❌ Error: Marks must be between 0 and 100.\")\n",
    "    def get_marks(self):\n",
    "        return self.__marks"
   ]
  },
  {
   "cell_type": "code",
   "execution_count": 43,
   "id": "8022fe4c",
   "metadata": {},
   "outputs": [],
   "source": [
    "s = Student(\"Kash\", [80, 90, 85])"
   ]
  },
  {
   "cell_type": "code",
   "execution_count": 44,
   "id": "dffa860c",
   "metadata": {},
   "outputs": [
    {
     "data": {
      "text/plain": [
       "[80, 90, 85]"
      ]
     },
     "execution_count": 44,
     "metadata": {},
     "output_type": "execute_result"
    }
   ],
   "source": [
    "s.get_marks()"
   ]
  },
  {
   "cell_type": "code",
   "execution_count": 45,
   "id": "5e402e3f",
   "metadata": {},
   "outputs": [
    {
     "name": "stdout",
     "output_type": "stream",
     "text": [
      "❌ Error: Marks must be between 0 and 100.\n"
     ]
    }
   ],
   "source": [
    "s = Student(\"Kash\", [810, 90, 85])"
   ]
  },
  {
   "cell_type": "markdown",
   "id": "85f70c98",
   "metadata": {},
   "source": [
    "✅ Getters\n",
    "A getter is a method used to read a private variable.\n",
    "\n",
    "Follows this format: get_<attribute>()\n",
    "\n",
    "✅ Setters\n",
    "A setter is a method used to update a private variable, with validation logic.\n",
    "\n",
    "Follows this format: set_<attribute>(new_value)"
   ]
  },
  {
   "cell_type": "markdown",
   "id": "edf379cd",
   "metadata": {},
   "source": [
    "✅ Question 1: Age Validation in a Person Class\n",
    "\n",
    "Problem:\n",
    "\n",
    "Create a Person class with a private attribute __age.\n",
    "\n",
    "Allow setting age only if it's between 0 and 120.\n",
    "\n",
    "Add a getter to read the age."
   ]
  },
  {
   "cell_type": "code",
   "execution_count": 56,
   "id": "c95e97a9",
   "metadata": {},
   "outputs": [],
   "source": [
    "class person:\n",
    "    def __init__(self, name, age):\n",
    "        self.name = name\n",
    "        self.__age = 0\n",
    "        self.set_age(age)\n",
    "\n",
    "    def get_age(self):\n",
    "        return self.__age\n",
    "        \n",
    "\n",
    "    def set_age(self,age):\n",
    "        if 0<= age <=120:\n",
    "            self.__age = age\n",
    "        else:\n",
    "            print(\"❌ Error: Age must be between 0 and 120.\")\n",
    "   \n",
    "        \n",
    "        "
   ]
  },
  {
   "cell_type": "code",
   "execution_count": 57,
   "id": "03de81e9",
   "metadata": {},
   "outputs": [],
   "source": [
    "p = person(\"Kash\", 25)"
   ]
  },
  {
   "cell_type": "code",
   "execution_count": 58,
   "id": "121bf5f0",
   "metadata": {},
   "outputs": [
    {
     "data": {
      "text/plain": [
       "25"
      ]
     },
     "execution_count": 58,
     "metadata": {},
     "output_type": "execute_result"
    }
   ],
   "source": [
    "p.get_age()"
   ]
  },
  {
   "cell_type": "code",
   "execution_count": 59,
   "id": "9fe51f54",
   "metadata": {},
   "outputs": [
    {
     "name": "stdout",
     "output_type": "stream",
     "text": [
      "❌ Error: Age must be between 0 and 120.\n"
     ]
    }
   ],
   "source": [
    "p1 = person(\"Nirman\", 11111)"
   ]
  },
  {
   "cell_type": "markdown",
   "id": "10ac3fec",
   "metadata": {},
   "source": [
    "🔷 Question: Constructor with Parameters & Destructor Tracking\n",
    "- Create a class FileHandler that simulates opening and closing a file.\n",
    "\n",
    "Requirements:\n",
    "- The constructor __init__ should take a filename as input and print:\n",
    "\"Opening file: <filename>\"\n",
    "\n",
    "- The destructor __del__ should print:\n",
    "\"Closing file: <filename>\"\n",
    "\n",
    "Task:\n",
    "- Create two FileHandler objects with filenames \"data.txt\" and \"log.txt\" respectively.\n",
    "- Delete one explicitly using del.\n",
    "- Let the other be deleted automatically at the end of the program."
   ]
  },
  {
   "cell_type": "code",
   "execution_count": 12,
   "id": "b1e7b5a8",
   "metadata": {},
   "outputs": [
    {
     "name": "stdout",
     "output_type": "stream",
     "text": [
      "Opening file: data.txt\n",
      "Opening file: log.txt\n",
      "closing file name log.txt\n",
      "closing file name data.txt\n"
     ]
    }
   ],
   "source": [
    "class FileHandler:\n",
    "    def __init__(self, filename):\n",
    "        self.filename = filename\n",
    "        print(f\"Opening file: {self.filename}\")\n",
    "\n",
    "    def __del__(self):\n",
    "        print (f\"closing file name {self.filename}\")\n",
    "\n",
    "# Creating two FileHandler objects\n",
    "file1 = FileHandler(\"data.txt\")\n",
    "file2 = FileHandler(\"log.txt\")\n",
    "\n",
    "\n",
    "del file1"
   ]
  },
  {
   "cell_type": "markdown",
   "id": "2381b8b4",
   "metadata": {},
   "source": []
  },
  {
   "cell_type": "markdown",
   "id": "9109e0a0",
   "metadata": {},
   "source": [
    "🔷 Question: Tracking Object Lifecycle in a Bank System\n",
    "\n",
    "- Create a class BankAccount that simulates opening and closing a bank account.\n",
    "\n",
    "- Requirements:\n",
    "The constructor __init__ should take two parameters: account_holder and balance, and print:\n",
    "\"Account opened for <account_holder> with balance ₹<balance>\"\n",
    "\n",
    "- The destructor __del__ should print:\n",
    "\"Account closed for <account_holder>\"\n",
    "\n",
    "🧪 Task:\n",
    "Create two BankAccount objects:\n",
    "1. \"Amit\" with ₹5000\n",
    "2. \"Neha\" with ₹10000\n",
    "3. Explicitly delete Neha's account using del.\n",
    "4. Let Amit's account close automatically when the program ends.\n",
    "\n"
   ]
  },
  {
   "cell_type": "code",
   "execution_count": 22,
   "id": "94d9fd98",
   "metadata": {},
   "outputs": [],
   "source": [
    "class BankAccount:\n",
    "    def __init__(self, account_holder, balance):\n",
    "        self.account_holder = account_holder\n",
    "        self.balance = balance\n",
    "        print (f\"Account opened for {self.account_holder} and the balance is {self.balance}\")\n",
    "\n",
    "    def __del__(self):\n",
    "        print (f\"account closed for {self.account_holder}\")"
   ]
  },
  {
   "cell_type": "code",
   "execution_count": 23,
   "id": "69728e8d",
   "metadata": {},
   "outputs": [
    {
     "name": "stdout",
     "output_type": "stream",
     "text": [
      "Account opened for Amit and the balance is 5000\n",
      "account closed for Amit\n",
      "Account opened for Neha and the balance is 10000\n",
      "account closed for Neha\n"
     ]
    }
   ],
   "source": [
    "a = BankAccount(\"Amit\", 5000)\n",
    "b = BankAccount(\"Neha\",10000)"
   ]
  },
  {
   "cell_type": "code",
   "execution_count": 17,
   "id": "ecbd71c8",
   "metadata": {},
   "outputs": [],
   "source": [
    "### 1. Create a Class for a Bank Account\n",
    "\n",
    "class BankAccount():\n",
    "    def __init__(self, name, balance =0):\n",
    "        self.name = name\n",
    "        self.balance = balance\n",
    "\n",
    "    def deposit(self,amount):\n",
    "        self.balance += amount\n",
    "        return self.balance\n",
    "    \n",
    "    def withdraw(self, amount):\n",
    "        self.balance -= amount\n",
    "        return self.balance"
   ]
  },
  {
   "cell_type": "code",
   "execution_count": 18,
   "id": "7a75ed9f",
   "metadata": {},
   "outputs": [],
   "source": [
    "a = BankAccount(name = \"Kashish\", balance= 100)"
   ]
  },
  {
   "cell_type": "code",
   "execution_count": 19,
   "id": "7e25d855",
   "metadata": {},
   "outputs": [
    {
     "name": "stdout",
     "output_type": "stream",
     "text": [
      "200\n"
     ]
    }
   ],
   "source": [
    "print (a.deposit(100))"
   ]
  },
  {
   "cell_type": "code",
   "execution_count": 20,
   "id": "668985ce",
   "metadata": {},
   "outputs": [
    {
     "name": "stdout",
     "output_type": "stream",
     "text": [
      "150\n"
     ]
    }
   ],
   "source": [
    "print(a.withdraw(50))"
   ]
  },
  {
   "cell_type": "code",
   "execution_count": 45,
   "id": "6c766687",
   "metadata": {},
   "outputs": [],
   "source": [
    "## ✅ 2. Implement Inheritance: Animal → Dog\n",
    "\n",
    "class Animal():\n",
    "    def speak(self):\n",
    "        return \"some sound\"\n",
    "    \n",
    "class Dog(Animal):\n",
    "    def speak(self):\n",
    "        return \"bark\""
   ]
  },
  {
   "cell_type": "code",
   "execution_count": 46,
   "id": "2e712e88",
   "metadata": {},
   "outputs": [
    {
     "name": "stdout",
     "output_type": "stream",
     "text": [
      "some sound\n"
     ]
    }
   ],
   "source": [
    "a = Animal()\n",
    "print (a.speak())"
   ]
  },
  {
   "cell_type": "code",
   "execution_count": 47,
   "id": "89137f3f",
   "metadata": {},
   "outputs": [
    {
     "name": "stdout",
     "output_type": "stream",
     "text": [
      "bark\n"
     ]
    }
   ],
   "source": [
    "b = Dog()\n",
    "print (b.speak())"
   ]
  },
  {
   "cell_type": "code",
   "execution_count": 48,
   "id": "92dea8a1",
   "metadata": {},
   "outputs": [],
   "source": [
    "## Goal: Create a base class Vehicle with a method start_engine(). Inherit it in Car and call the method.\n",
    "\n",
    "class Vehicle():\n",
    "    def start_engine(self):\n",
    "        return \"engine started\"\n",
    "    \n",
    "    def opt_method(self):\n",
    "        return \"let us see\"\n",
    "    \n",
    "class Car(Vehicle):\n",
    "    pass"
   ]
  },
  {
   "cell_type": "code",
   "execution_count": 50,
   "id": "5c2696df",
   "metadata": {},
   "outputs": [
    {
     "data": {
      "text/plain": [
       "'let us see'"
      ]
     },
     "execution_count": 50,
     "metadata": {},
     "output_type": "execute_result"
    }
   ],
   "source": [
    "my_car = Car()\n",
    "\n",
    "my_car.opt_method()"
   ]
  },
  {
   "cell_type": "code",
   "execution_count": 51,
   "id": "f7e59d29",
   "metadata": {},
   "outputs": [],
   "source": [
    "## Demonstrate method overriding using a parent class Animal and child classes Dog and Cat."
   ]
  },
  {
   "cell_type": "code",
   "execution_count": 53,
   "id": "e6ca5318",
   "metadata": {},
   "outputs": [
    {
     "name": "stdout",
     "output_type": "stream",
     "text": [
      "Woof!\n",
      "Meow!\n"
     ]
    }
   ],
   "source": [
    "class Dog(Animal):\n",
    "    def speak(self):\n",
    "        print(\"Woof!\")\n",
    "\n",
    "class Cat(Animal):\n",
    "    def speak(self):\n",
    "        print(\"Meow!\")\n",
    "\n",
    "# Test\n",
    "a1 = Animal()\n",
    "a2 = Dog()\n",
    "a3 = Cat()\n",
    "\n",
    "a1.speak()  # Output: Some generic animal sound\n",
    "a2.speak()  # Output: Woof!\n",
    "a3.speak()  # Output: Meow!"
   ]
  },
  {
   "cell_type": "code",
   "execution_count": 54,
   "id": "6f3164cd",
   "metadata": {},
   "outputs": [],
   "source": [
    "## Q3. Employee → Manager (Using super() for Constructor & Methods)"
   ]
  },
  {
   "cell_type": "code",
   "execution_count": 55,
   "id": "c52e1db2",
   "metadata": {},
   "outputs": [
    {
     "name": "stdout",
     "output_type": "stream",
     "text": [
      "Name: Kashish\n",
      "Salary: ₹85000\n",
      "Department: Data Science\n"
     ]
    }
   ],
   "source": [
    "class Employee:\n",
    "    def __init__(self, name, salary):\n",
    "        self.name = name\n",
    "        self.salary = salary\n",
    "\n",
    "    def show_details(self):\n",
    "        print(f\"Name: {self.name}\")\n",
    "        print(f\"Salary: ₹{self.salary}\")\n",
    "\n",
    "class Manager(Employee):\n",
    "    def __init__(self, name, salary, department):\n",
    "        super().__init__(name, salary)\n",
    "        self.department = department\n",
    "\n",
    "    def show_details(self):\n",
    "        super().show_details()  # Call parent's method\n",
    "        print(f\"Department: {self.department}\")\n",
    "\n",
    "\n",
    "m1 = Manager(\"Kashish\", 85000, \"Data Science\")\n",
    "m1.show_details()"
   ]
  },
  {
   "cell_type": "code",
   "execution_count": 68,
   "id": "ca8d4e14",
   "metadata": {},
   "outputs": [],
   "source": [
    "class Person:\n",
    "    def __init__(self, name):\n",
    "        self.name = name\n",
    "    def introduce(self):\n",
    "         print(f\"Hi, I am {self.name}.\")\n",
    "    \n",
    "class Student(Person):\n",
    "    def __init__(self, name,school):\n",
    "        super().__init__(name)\n",
    "        self.school = school\n",
    "\n",
    "    def introduce(self):\n",
    "        super().introduce()\n",
    "        print(f\"I study at {self.school}.\")\n",
    "    \n"
   ]
  },
  {
   "cell_type": "code",
   "execution_count": 69,
   "id": "78278098",
   "metadata": {},
   "outputs": [
    {
     "name": "stdout",
     "output_type": "stream",
     "text": [
      "Hi, I am Kashish.\n",
      "I study at DAV.\n"
     ]
    }
   ],
   "source": [
    "A = Student(\"Kashish\", \"DAV\")\n",
    "\n",
    "A.introduce()"
   ]
  },
  {
   "cell_type": "code",
   "execution_count": null,
   "id": "238a7e7b",
   "metadata": {},
   "outputs": [],
   "source": []
  }
 ],
 "metadata": {
  "kernelspec": {
   "display_name": "base",
   "language": "python",
   "name": "python3"
  },
  "language_info": {
   "codemirror_mode": {
    "name": "ipython",
    "version": 3
   },
   "file_extension": ".py",
   "mimetype": "text/x-python",
   "name": "python",
   "nbconvert_exporter": "python",
   "pygments_lexer": "ipython3",
   "version": "3.12.7"
  }
 },
 "nbformat": 4,
 "nbformat_minor": 5
}
