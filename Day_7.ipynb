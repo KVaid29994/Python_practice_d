{
 "cells": [
  {
   "cell_type": "markdown",
   "id": "3b9e3f4b",
   "metadata": {},
   "source": [
    "### MAP(), ZIP(), FOR, while, enumerate()"
   ]
  },
  {
   "cell_type": "markdown",
   "id": "2d2d8226",
   "metadata": {},
   "source": [
    "#### 1.Square each number in a list using map()"
   ]
  },
  {
   "cell_type": "markdown",
   "id": "3756a62a",
   "metadata": {},
   "source": [
    "The map() function in Python applies a given function to each item in an iterable (like a list) and returns a map object (iterator) with the results."
   ]
  },
  {
   "cell_type": "markdown",
   "id": "06f23323",
   "metadata": {},
   "source": [
    "map(function, iterable)"
   ]
  },
  {
   "cell_type": "code",
   "execution_count": 3,
   "id": "05b9121a",
   "metadata": {},
   "outputs": [
    {
     "name": "stdout",
     "output_type": "stream",
     "text": [
      "[1, 4, 16, 25, 49]\n"
     ]
    }
   ],
   "source": [
    "list_1 = [1,2,4,5,7]\n",
    "result = list(map(lambda x: x**2,list_1))\n",
    "print (result)"
   ]
  },
  {
   "cell_type": "markdown",
   "id": "f1470725",
   "metadata": {},
   "source": [
    "2. Use map() to add 5 to each number in the list:"
   ]
  },
  {
   "cell_type": "code",
   "execution_count": 4,
   "id": "caf96f05",
   "metadata": {},
   "outputs": [
    {
     "name": "stdout",
     "output_type": "stream",
     "text": [
      "[6, 8, 9, 10, 11]\n"
     ]
    }
   ],
   "source": [
    "list_2 = [1,3,4,5,6]\n",
    "\n",
    "result_2 = list(map(lambda x : x+5, list_2))\n",
    "print (result_2)"
   ]
  },
  {
   "cell_type": "markdown",
   "id": "40e968a1",
   "metadata": {},
   "source": [
    "3. Convert a list of strings to uppercase using map():"
   ]
  },
  {
   "cell_type": "code",
   "execution_count": null,
   "id": "1bc6150f",
   "metadata": {},
   "outputs": [],
   "source": [
    "string_1 = \"Kashish\"\n",
    "def upper(str1):\n",
    "    print (str1.upper())\n"
   ]
  },
  {
   "cell_type": "code",
   "execution_count": 12,
   "id": "0c2171d7",
   "metadata": {},
   "outputs": [
    {
     "name": "stdout",
     "output_type": "stream",
     "text": [
      "['UPPER, LOWER']\n"
     ]
    }
   ],
   "source": [
    "words = [\"upper, lower\"]\n",
    "result = list(map(str.upper, words))\n",
    "print(result)"
   ]
  },
  {
   "cell_type": "markdown",
   "id": "1e16e3f7",
   "metadata": {},
   "source": [
    "4. Use map() to find the length of each string in the list:"
   ]
  },
  {
   "cell_type": "code",
   "execution_count": 24,
   "id": "0e684f52",
   "metadata": {},
   "outputs": [
    {
     "name": "stdout",
     "output_type": "stream",
     "text": [
      "[7, 4]\n"
     ]
    }
   ],
   "source": [
    "string_2 = [\"Kashish\", \"Vaid\"]\n",
    "\n",
    "result = list(map(len,string_2 ))\n",
    "print (result)"
   ]
  },
  {
   "cell_type": "markdown",
   "id": "cb745828",
   "metadata": {},
   "source": [
    "5. Multiply each number in the list by 10 using map():"
   ]
  },
  {
   "cell_type": "code",
   "execution_count": 25,
   "id": "0213619a",
   "metadata": {},
   "outputs": [
    {
     "name": "stdout",
     "output_type": "stream",
     "text": [
      "[5, 15, 20, 25, 25, 30]\n"
     ]
    }
   ],
   "source": [
    "list_3 = [1,3,4,5,5,6]\n",
    "\n",
    "result_3 = list(map(lambda x:x*5, list_3))\n",
    "print(result_3)"
   ]
  },
  {
   "cell_type": "markdown",
   "id": "ab813e95",
   "metadata": {},
   "source": [
    "6.  Convert a list of temperatures from Celsius to Fahrenheit using map()"
   ]
  },
  {
   "cell_type": "code",
   "execution_count": 27,
   "id": "81e0fea9",
   "metadata": {},
   "outputs": [
    {
     "name": "stdout",
     "output_type": "stream",
     "text": [
      "[39.2, 41.0, 42.8, 42.8, 46.4]\n"
     ]
    }
   ],
   "source": [
    "temp = [4,5,6,6,8]\n",
    "\n",
    "farh_temp = list(map(lambda x : (x*1.8)+32, temp))\n",
    "print (farh_temp)"
   ]
  },
  {
   "cell_type": "markdown",
   "id": "85d08478",
   "metadata": {},
   "source": [
    "8. Remove leading and trailing whitespaces from each string in the list:"
   ]
  },
  {
   "cell_type": "code",
   "execution_count": 29,
   "id": "fdba37a9",
   "metadata": {},
   "outputs": [
    {
     "name": "stdout",
     "output_type": "stream",
     "text": [
      "['apple', 'banana', 'cherry']\n"
     ]
    }
   ],
   "source": [
    "dirty_words = ['  apple ', ' banana  ', '  cherry ']\n",
    "\n",
    "clean_words = list(map(str.strip, dirty_words))\n",
    "print (clean_words)"
   ]
  },
  {
   "cell_type": "markdown",
   "id": "5ee79f2e",
   "metadata": {},
   "source": [
    "7. Square only the positive numbers; replace negatives with 0:"
   ]
  },
  {
   "cell_type": "code",
   "execution_count": 31,
   "id": "ea760d17",
   "metadata": {},
   "outputs": [
    {
     "name": "stdout",
     "output_type": "stream",
     "text": [
      "[0, 16, 0, 25, 3025, 64]\n"
     ]
    }
   ],
   "source": [
    "nums = [-3, 4, -2, 5,55,8]\n",
    "\n",
    "result_nums= list(map (lambda x : x**2 if x>0 else 0, nums))\n",
    "print (result_nums)\n"
   ]
  },
  {
   "cell_type": "markdown",
   "id": "46c59a19",
   "metadata": {},
   "source": [
    "8. Round a list of floats to 1 decimal place:"
   ]
  },
  {
   "cell_type": "code",
   "execution_count": 33,
   "id": "6e4a1c77",
   "metadata": {},
   "outputs": [
    {
     "name": "stdout",
     "output_type": "stream",
     "text": [
      "[12.3, 67.9, 3.1]\n"
     ]
    }
   ],
   "source": [
    "prices = [12.345, 67.891, 3.1415]\n",
    "\n",
    "round_list = list(map(lambda x : round(x,1),prices))\n",
    "print(round_list)"
   ]
  },
  {
   "cell_type": "markdown",
   "id": "e1cc5c9e",
   "metadata": {},
   "source": [
    "10. Flatten and double nested list elements (1 level only)"
   ]
  },
  {
   "cell_type": "code",
   "execution_count": 35,
   "id": "a3c9f329",
   "metadata": {},
   "outputs": [
    {
     "name": "stdout",
     "output_type": "stream",
     "text": [
      "[1, 2, 3, 4, 5]\n",
      "[2, 4, 6, 8, 10]\n"
     ]
    }
   ],
   "source": [
    "data_1 = [[1, 2], [3, 4], [5]]\n",
    "\n",
    "flattened = sum(data_1, [])\n",
    "print (flattened)\n",
    "\n",
    "result_f = list(map(lambda x :x*2 , flattened))\n",
    "print (result_f)"
   ]
  },
  {
   "cell_type": "markdown",
   "id": "664a9719",
   "metadata": {},
   "source": [
    "12. Extract scores from a list of dictionaries:"
   ]
  },
  {
   "cell_type": "code",
   "execution_count": 40,
   "id": "2978391c",
   "metadata": {},
   "outputs": [
    {
     "name": "stdout",
     "output_type": "stream",
     "text": [
      "[88, 92, 85]\n"
     ]
    }
   ],
   "source": [
    "students = [\n",
    "    {'name': 'Alice', 'score': 88},\n",
    "    {'name': 'Bob', 'score': 92},\n",
    "    {'name': 'Charlie', 'score': 85}]\n",
    "\n",
    "scores = [student['score'] for student in students]\n",
    "print (scores)"
   ]
  },
  {
   "cell_type": "code",
   "execution_count": 41,
   "id": "f9d47bf1",
   "metadata": {},
   "outputs": [
    {
     "name": "stdout",
     "output_type": "stream",
     "text": [
      "[88, 92, 85]\n"
     ]
    }
   ],
   "source": [
    "students = [\n",
    "    {'name': 'Alice', 'score': 88},\n",
    "    {'name': 'Bob', 'score': 92},\n",
    "    {'name': 'Charlie', 'score': 85}]\n",
    "\n",
    "scores_1 = list(map(lambda x : x['score'],students))\n",
    "print (scores_1)"
   ]
  },
  {
   "cell_type": "markdown",
   "id": "af63554c",
   "metadata": {},
   "source": [
    "13. Convert a list of full names to email addresses using map + lambda:"
   ]
  },
  {
   "cell_type": "code",
   "execution_count": 45,
   "id": "fd30f4b4",
   "metadata": {},
   "outputs": [
    {
     "name": "stdout",
     "output_type": "stream",
     "text": [
      "['john.doe@gmail.com', 'jane.smith@gmail.com']\n"
     ]
    }
   ],
   "source": [
    "names = ['John Doe', 'Jane Smith']\n",
    "\n",
    "emails = list(map (lambda x: x.lower().replace(\" \", \".\") +\"@gmail.com\", names))\n",
    "print (emails)"
   ]
  },
  {
   "cell_type": "markdown",
   "id": "d97da3e6",
   "metadata": {},
   "source": [
    "14. Double only the even numbers in the list"
   ]
  },
  {
   "cell_type": "code",
   "execution_count": 48,
   "id": "2766efda",
   "metadata": {},
   "outputs": [
    {
     "name": "stdout",
     "output_type": "stream",
     "text": [
      "[1, 4, 3, 8, 5, 12]\n"
     ]
    }
   ],
   "source": [
    "nums = [1, 2, 3, 4, 5, 6]\n",
    "\n",
    "eve_num = list(map(lambda x : x*2 if x%2==0 else x, nums))\n",
    "print (eve_num)"
   ]
  },
  {
   "cell_type": "markdown",
   "id": "9eac596c",
   "metadata": {},
   "source": [
    "15. From a list of strings, keep only those longer than 3 characters and convert to uppercase"
   ]
  },
  {
   "cell_type": "code",
   "execution_count": 50,
   "id": "9cdab420",
   "metadata": {},
   "outputs": [
    {
     "name": "stdout",
     "output_type": "stream",
     "text": [
      "['APPLE', 'BANANA']\n"
     ]
    }
   ],
   "source": [
    "words = ['cat', 'apple', 'hi', 'banana']\n",
    "\n",
    "results_11 = list(map(str.upper , filter(lambda x : len(x)>3, words)))\n",
    "print (results_11)"
   ]
  },
  {
   "cell_type": "markdown",
   "id": "59a2fcca",
   "metadata": {},
   "source": [
    "16. Filter out negative numbers and cube the rest"
   ]
  },
  {
   "cell_type": "code",
   "execution_count": 55,
   "id": "5c69b08a",
   "metadata": {},
   "outputs": [
    {
     "name": "stdout",
     "output_type": "stream",
     "text": [
      "[0, 27, 125]\n"
     ]
    }
   ],
   "source": [
    "nums = [-2, 0, 3, -1, 5]\n",
    "\n",
    "cube_list = list(map (lambda x :x**3, filter(lambda x :x>=0, nums)))\n",
    "print (cube_list)"
   ]
  },
  {
   "cell_type": "code",
   "execution_count": null,
   "id": "0735c865",
   "metadata": {},
   "outputs": [],
   "source": []
  }
 ],
 "metadata": {
  "kernelspec": {
   "display_name": "base",
   "language": "python",
   "name": "python3"
  },
  "language_info": {
   "codemirror_mode": {
    "name": "ipython",
    "version": 3
   },
   "file_extension": ".py",
   "mimetype": "text/x-python",
   "name": "python",
   "nbconvert_exporter": "python",
   "pygments_lexer": "ipython3",
   "version": "3.12.7"
  }
 },
 "nbformat": 4,
 "nbformat_minor": 5
}
