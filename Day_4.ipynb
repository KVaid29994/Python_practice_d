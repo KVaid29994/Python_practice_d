{
 "cells": [
  {
   "cell_type": "markdown",
   "id": "7c0da152",
   "metadata": {},
   "source": [
    "19. Find All Duplicates in a List\n",
    "Write a function that takes a list and returns a list of all duplicate elements."
   ]
  },
  {
   "cell_type": "markdown",
   "id": "b55bfa4d",
   "metadata": {},
   "source": []
  },
  {
   "cell_type": "code",
   "execution_count": 26,
   "id": "211c5bf8",
   "metadata": {},
   "outputs": [],
   "source": [
    "def find_duplicates(list1):\n",
    "    seen = []\n",
    "    duplicates = []\n",
    "\n",
    "    for i in list1:\n",
    "        if i in seen:\n",
    "            duplicates.append(i)\n",
    "        else:\n",
    "            seen.append(i)    \n",
    "    return list(duplicates)       \n",
    "\n"
   ]
  },
  {
   "cell_type": "code",
   "execution_count": 27,
   "id": "c4989094",
   "metadata": {},
   "outputs": [
    {
     "name": "stdout",
     "output_type": "stream",
     "text": [
      "[2, 3]\n"
     ]
    }
   ],
   "source": [
    "print(find_duplicates([4, 3, 2, 7, 8, 2, 3, 1]))\n",
    "    "
   ]
  },
  {
   "cell_type": "markdown",
   "id": "1ab949c0",
   "metadata": {},
   "source": [
    "20.  Flatten a Nested List"
   ]
  },
  {
   "cell_type": "code",
   "execution_count": 37,
   "id": "db57e746",
   "metadata": {},
   "outputs": [],
   "source": [
    "def flat_list(nested_list):\n",
    "    result = []\n",
    "    for item in nested_list:\n",
    "        if isinstance(item, list):\n",
    "            result.extend(flat_list(item))\n",
    "        else:\n",
    "            result.append(item)\n",
    "    return result"
   ]
  },
  {
   "cell_type": "code",
   "execution_count": 38,
   "id": "c1baed2c",
   "metadata": {},
   "outputs": [
    {
     "name": "stdout",
     "output_type": "stream",
     "text": [
      "[1, 2, 3, 4, 5, 6]\n"
     ]
    }
   ],
   "source": [
    "list_11 = [1, [2, [3, 4], 5], 6]\n",
    "\n",
    "print(flat_list(list_11))"
   ]
  },
  {
   "cell_type": "code",
   "execution_count": 48,
   "id": "8defb61d",
   "metadata": {},
   "outputs": [],
   "source": [
    "def flat_list(nested_list):\n",
    "    result = []\n",
    "\n",
    "    for i in nested_list:\n",
    "        if isinstance(i, list):\n",
    "            result.extend(flat_list(i))\n",
    "        else:\n",
    "            result.append(i)\n",
    "    return result"
   ]
  },
  {
   "cell_type": "code",
   "execution_count": 49,
   "id": "70c94184",
   "metadata": {},
   "outputs": [],
   "source": [
    "nested_list =[1,2,[3,4,[5,7]]]"
   ]
  },
  {
   "cell_type": "code",
   "execution_count": 50,
   "id": "8ce0522d",
   "metadata": {},
   "outputs": [
    {
     "data": {
      "text/plain": [
       "[1, 2, 3, 4, 5, 7]"
      ]
     },
     "execution_count": 50,
     "metadata": {},
     "output_type": "execute_result"
    }
   ],
   "source": [
    "flat_list(nested_list)"
   ]
  },
  {
   "cell_type": "markdown",
   "id": "7952a60a",
   "metadata": {},
   "source": [
    "20. Check if Two Strings are Anagrams"
   ]
  },
  {
   "cell_type": "code",
   "execution_count": 55,
   "id": "f6869ba2",
   "metadata": {},
   "outputs": [],
   "source": [
    "def check_anagrams(sent1, sent2):\n",
    "        return sorted(sent1) == sorted(sent2)"
   ]
  },
  {
   "cell_type": "code",
   "execution_count": 58,
   "id": "b6bbf5ad",
   "metadata": {},
   "outputs": [
    {
     "data": {
      "text/plain": [
       "True"
      ]
     },
     "execution_count": 58,
     "metadata": {},
     "output_type": "execute_result"
    }
   ],
   "source": [
    "check_anagrams(\"listen\", \"silent\")"
   ]
  },
  {
   "cell_type": "markdown",
   "id": "053247a6",
   "metadata": {},
   "source": [
    "21. Remove Consecutive Duplicates from a List\n",
    "\n",
    "🔹 Problem:\n",
    "Given a list, return a new list where consecutive duplicate elements are reduced to a single element.\n",
    "\n",
    "✅ Example:\n",
    "[1, 1, 2, 2, 3, 1, 1] → [1, 2, 3, 1]\n",
    "\n"
   ]
  },
  {
   "cell_type": "code",
   "execution_count": 2,
   "id": "f172645a",
   "metadata": {},
   "outputs": [],
   "source": [
    "def remove_conse_dupl(lst):\n",
    "    if not lst:\n",
    "        return []\n",
    "    result = [lst[0]]\n",
    "    for item in lst[1:]:\n",
    "        if item !=result[-1]:\n",
    "            result.append(item)\n",
    "    return result"
   ]
  },
  {
   "cell_type": "code",
   "execution_count": 3,
   "id": "e44f1a52",
   "metadata": {},
   "outputs": [
    {
     "name": "stdout",
     "output_type": "stream",
     "text": [
      "[1, 2, 4, 1, 7]\n"
     ]
    }
   ],
   "source": [
    "print (remove_conse_dupl([1,1,2,2,4,1,1,1,1,7]))"
   ]
  },
  {
   "cell_type": "code",
   "execution_count": 20,
   "id": "1bba92e9",
   "metadata": {},
   "outputs": [],
   "source": [
    "\n",
    "\n",
    "def remove_consecutive_duplicates(lst):\n",
    "    if not lst:\n",
    "        return []\n",
    "    result = [lst[0]]\n",
    "    for item in lst[1:]:\n",
    "        if item != result[-1]:\n",
    "            result.append(item)\n",
    "    return result"
   ]
  },
  {
   "cell_type": "code",
   "execution_count": 23,
   "id": "528ed6dd",
   "metadata": {},
   "outputs": [
    {
     "name": "stdout",
     "output_type": "stream",
     "text": [
      "[1, 2, 3, 4, 5, 7, 9]\n"
     ]
    }
   ],
   "source": [
    "lst1 = [1,2,3,4,5,7,7,9,9]\n",
    "\n",
    "print(remove_consecutive_duplicates(lst1))"
   ]
  },
  {
   "cell_type": "code",
   "execution_count": null,
   "id": "27c4bee9",
   "metadata": {},
   "outputs": [],
   "source": []
  }
 ],
 "metadata": {
  "kernelspec": {
   "display_name": "base",
   "language": "python",
   "name": "python3"
  },
  "language_info": {
   "codemirror_mode": {
    "name": "ipython",
    "version": 3
   },
   "file_extension": ".py",
   "mimetype": "text/x-python",
   "name": "python",
   "nbconvert_exporter": "python",
   "pygments_lexer": "ipython3",
   "version": "3.12.7"
  }
 },
 "nbformat": 4,
 "nbformat_minor": 5
}
