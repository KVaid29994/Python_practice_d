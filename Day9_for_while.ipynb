{
 "cells": [
  {
   "cell_type": "markdown",
   "id": "396e0aef",
   "metadata": {},
   "source": [
    "1. Odd or Even Checker\n",
    "Question:\n",
    "- Write a program that takes an integer input from the user and prints whether it is odd or even using an if-else statement."
   ]
  },
  {
   "cell_type": "code",
   "execution_count": 2,
   "id": "d7f71716",
   "metadata": {},
   "outputs": [
    {
     "name": "stdout",
     "output_type": "stream",
     "text": [
      "the number is even\n"
     ]
    }
   ],
   "source": [
    "num = int(input(\"Enter a number: \"))\n",
    "if num%2 == 0:\n",
    "    print (\"the number is even\")\n",
    "else:\n",
    "    print (\"the number is odd\")"
   ]
  },
  {
   "cell_type": "markdown",
   "id": "7b27dd2e",
   "metadata": {},
   "source": [
    "2. Find the Largest of Two Numbers\n",
    "\n",
    "Question:\n",
    "Write a program that takes two numbers as input and prints which number is greater using if-else."
   ]
  },
  {
   "cell_type": "code",
   "execution_count": 3,
   "id": "9f75f15c",
   "metadata": {},
   "outputs": [
    {
     "name": "stdout",
     "output_type": "stream",
     "text": [
      "The greater number is 24\n"
     ]
    }
   ],
   "source": [
    "num1 = int(input(\"Enter the first number: \"))\n",
    "num2 = int(input(\"Enter the second number: \"))\n",
    "\n",
    "if num1> num2:\n",
    "    print (f\"The greater number is {num1}\")\n",
    "else:\n",
    "    print (f\"The greater number is {num2}\")\n"
   ]
  },
  {
   "cell_type": "markdown",
   "id": "d5a92fd9",
   "metadata": {},
   "source": [
    "✅ 1. Grading System with Validation\n",
    "Question:\n",
    "Write a program that takes a student’s marks (0–100) as input and prints the grade according to the following rules:\n",
    "\n",
    "90–100: Grade A\n",
    "\n",
    "80–89: Grade B\n",
    "\n",
    "70–79: Grade C\n",
    "\n",
    "60–69: Grade D\n",
    "\n",
    "Below 60: Grade F\n",
    "Also, handle invalid inputs (e.g., negative or greater than 100) with an appropriate message.\n",
    "\n",
    "Logic Hint:\n",
    "Use if-elif-else with an outer if for validation."
   ]
  },
  {
   "cell_type": "code",
   "execution_count": 6,
   "id": "3a8ca0e2",
   "metadata": {},
   "outputs": [
    {
     "name": "stdout",
     "output_type": "stream",
     "text": [
      "Grade F\n"
     ]
    }
   ],
   "source": [
    "marks = int(input(\"Please enter the marks \"))\n",
    "if marks<0 or marks >100:\n",
    "    print(\"Please enter valid marks\")\n",
    "elif 90<=marks<=100:\n",
    "    print (\"Grade A\")\n",
    "elif 80<=marks<89:\n",
    "    print (\"Grade B\")\n",
    "elif 70<=marks<79:\n",
    "    print ( \"Grade C\")\n",
    "elif 60<=marks<69:\n",
    "    print (\"Grade D\")\n",
    "else:\n",
    "    print (\"Grade F\")"
   ]
  },
  {
   "cell_type": "markdown",
   "id": "1f744e5c",
   "metadata": {},
   "source": [
    "✅ 2. Traffic Signal Simulator\n",
    "Question:\n",
    "Write a program to simulate a traffic signal system. Take 2 inputs:\n",
    "\n",
    "- signal_color (Red, Yellow, Green)\n",
    "\n",
    "- is_emergency_vehicle (Yes/No)\n",
    "\n",
    "Rules:\n",
    "- If Red and not an emergency vehicle → Stop\n",
    "- If Red and emergency → Go with caution\n",
    "- If Yellow → Slow down\n",
    "\n",
    "- If Green → Go\n",
    "\n",
    "Logic Hint:\n",
    "Nested if within color condition for emergency check."
   ]
  },
  {
   "cell_type": "code",
   "execution_count": 12,
   "id": "201313b9",
   "metadata": {},
   "outputs": [
    {
     "name": "stdout",
     "output_type": "stream",
     "text": [
      "invalid color\n"
     ]
    }
   ],
   "source": [
    "signal_color = input(\"Enter the signal color\" )\n",
    "is_emergency_vehicle = input (\"Is yours an emergency vehicle , Pleae enter yes or no\")\n",
    "\n",
    "\n",
    "if signal_color == \"red\":\n",
    "        if is_emergency_vehicle ==\"yes\":\n",
    "            print (\"go with caution\")\n",
    "        else:\n",
    "            print (\"stop the car\")\n",
    "elif signal_color == \"yellow\":\n",
    "    print (\"Slow down\")\n",
    "elif signal_color == \"green\":\n",
    "    print (\"go\")\n",
    "else:\n",
    "    print(\"invalid color\")"
   ]
  },
  {
   "cell_type": "markdown",
   "id": "36f92a74",
   "metadata": {},
   "source": [
    "✅ 2. Leap Year Checker (Nested Conditions)\n",
    "Question:\n",
    "Write a program to check if a year is a leap year using nested if conditions.\n",
    "Rules:\n",
    "\n",
    "- Divisible by 4 → leap year\n",
    "- But if divisible by 100 → not a leap year\n",
    "- Unless divisible by 400 → leap year"
   ]
  },
  {
   "cell_type": "code",
   "execution_count": 20,
   "id": "3c3afddc",
   "metadata": {},
   "outputs": [
    {
     "name": "stdout",
     "output_type": "stream",
     "text": [
      "not a leap year\n"
     ]
    }
   ],
   "source": [
    "year = int(input(\"Please enter the year\"))\n",
    "\n",
    "if year%4 ==0:\n",
    "    if year%100 == 0:\n",
    "        if year%400 == 0:\n",
    "            print (\"year is a leap year\")\n",
    "        else:\n",
    "            print (\"Not a leap year\")\n",
    "    else:\n",
    "        print (\"leap year\")\n",
    "else:\n",
    "    print (\"not a leap year\")"
   ]
  },
  {
   "cell_type": "markdown",
   "id": "a5a7ab47",
   "metadata": {},
   "source": [
    "### Print numbers from 1 to 5 using a for loop."
   ]
  },
  {
   "cell_type": "code",
   "execution_count": 3,
   "id": "b40bd7d9",
   "metadata": {},
   "outputs": [
    {
     "name": "stdout",
     "output_type": "stream",
     "text": [
      "1\n",
      "2\n",
      "3\n",
      "4\n",
      "5\n"
     ]
    }
   ],
   "source": [
    "for i in range(1,6):\n",
    "    print (i)"
   ]
  },
  {
   "cell_type": "markdown",
   "id": "6ec26469",
   "metadata": {},
   "source": [
    "Iterate over a list of fruits and print each fruit."
   ]
  },
  {
   "cell_type": "code",
   "execution_count": 4,
   "id": "844fe4e3",
   "metadata": {},
   "outputs": [
    {
     "name": "stdout",
     "output_type": "stream",
     "text": [
      "apple\n",
      "banana\n",
      "cherry\n"
     ]
    }
   ],
   "source": [
    "fruits = [\"apple\", \"banana\", \"cherry\"]\n",
    "\n",
    "for i in fruits:\n",
    "    print (i)"
   ]
  },
  {
   "cell_type": "markdown",
   "id": "90e51be5",
   "metadata": {},
   "source": [
    "Print numbers from 1 to 5 using a while loop."
   ]
  },
  {
   "cell_type": "code",
   "execution_count": 7,
   "id": "50286976",
   "metadata": {},
   "outputs": [
    {
     "name": "stdout",
     "output_type": "stream",
     "text": [
      "1\n",
      "2\n",
      "3\n",
      "4\n",
      "5\n"
     ]
    }
   ],
   "source": [
    "i = 1\n",
    "while i<=5:\n",
    "    print (i)\n",
    "    i +=1"
   ]
  },
  {
   "cell_type": "markdown",
   "id": "1144411e",
   "metadata": {},
   "source": [
    "✅ 2. Keep asking the user to enter a password until they enter \"open123\""
   ]
  },
  {
   "cell_type": "code",
   "execution_count": 13,
   "id": "dfa82259",
   "metadata": {},
   "outputs": [
    {
     "name": "stdout",
     "output_type": "stream",
     "text": [
      "incorrect password\n",
      "Access granted\n"
     ]
    }
   ],
   "source": [
    "password  = \" \"\n",
    "while password != \"open123\":\n",
    "    password = input(\"Please enter your password\")\n",
    "    if password != \"open123\":\n",
    "        print (\"incorrect password\")\n",
    "        \n",
    "print (\"Access granted\")"
   ]
  },
  {
   "cell_type": "markdown",
   "id": "391ef9a5",
   "metadata": {},
   "source": [
    "🔁 Question 1: Sum of numbers until user enters 0\n",
    "Prompt:\n",
    "\n",
    "- Keep asking the user to enter numbers. Add them to a running total. Stop when the user enters 0, then print the total sum."
   ]
  },
  {
   "cell_type": "code",
   "execution_count": 15,
   "id": "348a4bd0",
   "metadata": {},
   "outputs": [
    {
     "name": "stdout",
     "output_type": "stream",
     "text": [
      "Total sum 48\n"
     ]
    }
   ],
   "source": [
    "total = 0\n",
    "num = int(input(\"Please enter the number \"))\n",
    "\n",
    "while num !=0:\n",
    "    total +=num\n",
    "    num =int(input(\"Enter number: \"))\n",
    "print (\"Total sum\", total)"
   ]
  },
  {
   "cell_type": "markdown",
   "id": "28ebc07f",
   "metadata": {},
   "source": [
    "### 🔁 Question 2: Guess the secret number\n",
    "\n",
    "Prompt:\n",
    "- Set a secret number (e.g., 7). Keep asking the user to guess the number until they get it right.\n",
    "- Print \"Too high\" or \"Too low\" accordingly. Once they guess correctly, print \"Correct!\"."
   ]
  },
  {
   "cell_type": "code",
   "execution_count": 17,
   "id": "8d428346",
   "metadata": {},
   "outputs": [
    {
     "name": "stdout",
     "output_type": "stream",
     "text": [
      "number is too low\n",
      "number is too low\n",
      "number is too low\n",
      "number is too hig\n",
      "number is too hig\n",
      "You guessed the number correctly 22\n"
     ]
    }
   ],
   "source": [
    "secret_number = int(input(\"please enter the secret number \"))\n",
    "guess_number = int(input(\"please enter the first guess number \"))\n",
    "\n",
    "while guess_number != secret_number:\n",
    "    if guess_number > secret_number:\n",
    "        print (\"number is too hig\")\n",
    "    else:\n",
    "        print (\"number is too low\")\n",
    "    \n",
    "    guess_number = int(input(\"please enter the guess number \"))\n",
    "print (f\"You guessed the number correctly {secret_number}\")\n",
    "        "
   ]
  },
  {
   "cell_type": "markdown",
   "id": "01a3051b",
   "metadata": {},
   "source": [
    "#### **🔁 For Loop Question: Count vowels in a string**\n",
    "\n",
    "Question:\n",
    "- Ask the user to enter a string and count how many vowels (a, e, i, o, u) are in it."
   ]
  },
  {
   "cell_type": "code",
   "execution_count": 25,
   "id": "2b8bd672",
   "metadata": {},
   "outputs": [
    {
     "name": "stdout",
     "output_type": "stream",
     "text": [
      "Number of vowels: 2\n"
     ]
    }
   ],
   "source": [
    "str_input = input(\"Please enter the words\")\n",
    "num = 0\n",
    "\n",
    "for char in str_input:\n",
    "    if char.lower() in \"aeiou\":\n",
    "        num +=1\n",
    "print (\"Number of vowels:\",num)"
   ]
  },
  {
   "cell_type": "markdown",
   "id": "3c75144b",
   "metadata": {},
   "source": [
    "### 🔁 **While Loop Question: Print digits of a number in reverse**"
   ]
  },
  {
   "cell_type": "code",
   "execution_count": 29,
   "id": "0f66558e",
   "metadata": {},
   "outputs": [
    {
     "name": "stdout",
     "output_type": "stream",
     "text": [
      "9\n",
      "6\n",
      "5\n"
     ]
    }
   ],
   "source": [
    "number = 569\n",
    "\n",
    "while number > 0:\n",
    "    digits = number%10\n",
    "    print (digits)\n",
    "    number //=10"
   ]
  },
  {
   "cell_type": "markdown",
   "id": "d50a9c75",
   "metadata": {},
   "source": [
    "### Factorial using a while loop\n",
    "Task:\n",
    "- Ask the user for a number n and print the factorial of that number using a while loop"
   ]
  },
  {
   "cell_type": "code",
   "execution_count": 35,
   "id": "ea111e0e",
   "metadata": {},
   "outputs": [
    {
     "name": "stdout",
     "output_type": "stream",
     "text": [
      "6\n"
     ]
    }
   ],
   "source": [
    "n = int(input(\"Enter a number to find factorial \"))\n",
    "result = 1\n",
    "while n>0:\n",
    "    result *=n\n",
    "    n-=1\n",
    "print (result)"
   ]
  },
  {
   "cell_type": "markdown",
   "id": "37c9082a",
   "metadata": {},
   "source": [
    "### 🔁 Question 2: Password attempt limit\n",
    "Task:\n",
    "- User has 3 chances to enter the correct password (\"admin123\"). If they fail all 3 times, print \"Access denied\"."
   ]
  },
  {
   "cell_type": "code",
   "execution_count": 37,
   "id": "4a9530bb",
   "metadata": {},
   "outputs": [
    {
     "name": "stdout",
     "output_type": "stream",
     "text": [
      "Please try again\n",
      "Please try again\n",
      "Please try again\n",
      "access denied\n"
     ]
    }
   ],
   "source": [
    "real_password = \"admin123\"\n",
    "max_attempts = 3\n",
    "attempts = 0\n",
    "while attempts < max_attempts:\n",
    "    password = input(\"Enter password: \")\n",
    "    if real_password == password:\n",
    "        print (\"You are logged in\")\n",
    "        break\n",
    "    else:\n",
    "        print (\"Please try again\")\n",
    "        attempts +=1\n",
    "if attempts == max_attempts:\n",
    "    print (\"access denied\")"
   ]
  },
  {
   "cell_type": "markdown",
   "id": "7cc4f081",
   "metadata": {},
   "source": [
    "### Password attempt limit\n",
    "Task:\n",
    " - User has 3 chances to enter the correct password (\"admin123\"). If they fail all 3 times, print \"Access denied\"."
   ]
  },
  {
   "cell_type": "code",
   "execution_count": 6,
   "id": "e10ef46c",
   "metadata": {},
   "outputs": [
    {
     "name": "stdout",
     "output_type": "stream",
     "text": [
      "Incorrect Password\n",
      "Incorrect Password\n",
      "Incorrect Password\n",
      "access denied\n"
     ]
    }
   ],
   "source": [
    "real_password = \"admin123\"\n",
    "attempts = 0\n",
    "max_attempts = 3\n",
    "\n",
    "while attempts<max_attempts:\n",
    "    password = input(\"Please enter your password \")\n",
    "    if password == real_password:\n",
    "        print (\"Access granted\")\n",
    "        break\n",
    "    else:\n",
    "        print (\"Incorrect Password\")\n",
    "        attempts += 1\n",
    "if max_attempts == attempts:\n",
    "    print (\"access denied\")"
   ]
  },
  {
   "cell_type": "markdown",
   "id": "778a2f37",
   "metadata": {},
   "source": [
    "#### 1. Repeated Digit Sum Until Single Digit\n",
    "- Write a Python program using a while loop to repeatedly sum the digits of a number until the result is a single-digit number.\n",
    "- Example:\n",
    "\n",
    "-- Input: 9875 → Output: 2 (9+8+7+5 = 29 → 2+9 = 11 → 1+1 = 2)"
   ]
  },
  {
   "cell_type": "code",
   "execution_count": 1,
   "id": "40342ae5",
   "metadata": {},
   "outputs": [
    {
     "name": "stdout",
     "output_type": "stream",
     "text": [
      "2\n",
      "2\n",
      "4\n",
      "0\n",
      "Single digit sum is 4\n"
     ]
    }
   ],
   "source": [
    "num = int(input(\"please eneter a number \"))\n",
    "\n",
    "\n",
    "while num>10:\n",
    "    sum_digits = 0\n",
    "    while num>0:\n",
    "        sum_digits +=num%10\n",
    "        print (sum_digits)\n",
    "        num //=10\n",
    "        print (num)\n",
    "    num =sum_digits\n",
    "\n",
    "print (\"Single digit sum is\", num)"
   ]
  },
  {
   "cell_type": "code",
   "execution_count": 41,
   "id": "16d1ee28",
   "metadata": {},
   "outputs": [
    {
     "name": "stdout",
     "output_type": "stream",
     "text": [
      "2\n",
      "4\n",
      "4\n"
     ]
    }
   ],
   "source": [
    "#remove last digists and print only the first digits\n",
    "num = 22\n",
    "while num>10:\n",
    "    sum_digits = 0\n",
    "    while num>0:\n",
    "        sum_digits +=num%10\n",
    "        print (sum_digits)\n",
    "        num //=10\n",
    "    num =sum_digits\n",
    "    print (num)"
   ]
  },
  {
   "cell_type": "code",
   "execution_count": 34,
   "id": "d5bf66bf",
   "metadata": {},
   "outputs": [],
   "source": [
    "## PRINT SUM OF DIGITS UNTILL SINGLE DIGIT IS REACHED"
   ]
  },
  {
   "cell_type": "markdown",
   "id": "60d55669",
   "metadata": {},
   "source": [
    "The \"%\" symbol in Python is the modulo operator. It returns the remainder of a division operation. Given two numbers, x and y, x % y calculates the remainder when x is divided by y."
   ]
  },
  {
   "cell_type": "code",
   "execution_count": 43,
   "id": "b93b9783",
   "metadata": {},
   "outputs": [
    {
     "name": "stdout",
     "output_type": "stream",
     "text": [
      "sum digits is sum_digits 4\n"
     ]
    }
   ],
   "source": [
    "num = int(input(\"Please enter the number \"))\n",
    "\n",
    "while num>10:\n",
    "    sum_digits =0\n",
    "    while num>0:\n",
    "        sum_digits +=num%10\n",
    "        num //=10\n",
    "    num = sum_digits\n",
    "        \n",
    "print (\"sum digits is sum_digits\",num)"
   ]
  },
  {
   "cell_type": "markdown",
   "id": "7ddf6d7a",
   "metadata": {},
   "source": [
    "### 2. Collatz Conjecture Sequence\n",
    "Write a program that takes an integer and prints the steps of the Collatz sequence using a while loop:\n",
    "\n",
    "- If the number is even, divide it by 2\n",
    "- If it's odd, multiply by 3 and add 1\n",
    "- The sequence ends when the number becomes 1.\n",
    "\n",
    "Example:\n",
    "Input: 6 → Output: 6 3 10 5 16 8 4 2 1\n",
    "\n"
   ]
  },
  {
   "cell_type": "code",
   "execution_count": 47,
   "id": "24b08f3d",
   "metadata": {},
   "outputs": [
    {
     "name": "stdout",
     "output_type": "stream",
     "text": [
      "The even integer process 11\n",
      "The odd integer process 34\n",
      "The even integer process 17\n",
      "The odd integer process 52\n",
      "The even integer process 26\n",
      "The even integer process 13\n",
      "The odd integer process 40\n",
      "The even integer process 20\n",
      "The even integer process 10\n",
      "The even integer process 5\n",
      "The odd integer process 16\n",
      "The even integer process 8\n",
      "The even integer process 4\n",
      "The even integer process 2\n",
      "The even integer process 1\n",
      "1\n"
     ]
    }
   ],
   "source": [
    "integer = int(input(\"Please enter the integer \"))\n",
    "\n",
    "while integer != 1:\n",
    "    if integer%2==0:\n",
    "        integer = integer//2\n",
    "        print (\"The even integer process\",integer)\n",
    "    else:\n",
    "        integer = (integer*3)+1\n",
    "        print (\"The odd integer process\",integer)\n",
    "\n",
    "print (integer)"
   ]
  },
  {
   "cell_type": "markdown",
   "id": "6e2a72c7",
   "metadata": {},
   "source": [
    "🔁 Question: Reverse a Number Without Using String Conversion\n",
    "Problem:\n",
    "- Write a Python program that takes a positive integer from the user and reverses its digits using a while loop.\n",
    "- Do not use string conversion like str() or slicing."
   ]
  },
  {
   "cell_type": "code",
   "execution_count": 59,
   "id": "12b83298",
   "metadata": {},
   "outputs": [
    {
     "name": "stdout",
     "output_type": "stream",
     "text": [
      "3\n",
      "3\n",
      "12\n",
      "2\n",
      "32\n",
      "1\n",
      "1\n",
      "321\n",
      "0\n",
      "Revered number is 321\n"
     ]
    }
   ],
   "source": [
    "number = int(input(\"Please enter the number \"))\n",
    "reversed_num = 0\n",
    "\n",
    "while number>0:\n",
    "    digits = number%10\n",
    "    print (digits)\n",
    "    reversed_num = reversed_num*10+digits\n",
    "    print (reversed_num)\n",
    "    number = number//10\n",
    "    print (number)\n",
    "print (\"Revered number is\", reversed_num)"
   ]
  },
  {
   "cell_type": "markdown",
   "id": "19165f04",
   "metadata": {},
   "source": [
    "- Write a Python program using a while loop to check if a number is a palindrome (i.e., it reads the same forwards and backwards).\n",
    "\n",
    "--> `Do not convert the number to a string`"
   ]
  },
  {
   "cell_type": "code",
   "execution_count": 69,
   "id": "199b873f",
   "metadata": {},
   "outputs": [
    {
     "name": "stdout",
     "output_type": "stream",
     "text": [
      "not a palindrome\n"
     ]
    }
   ],
   "source": [
    "num = int(input(\"Please enter the number \"))\n",
    "reversed_num = 0\n",
    "original_num = num\n",
    "\n",
    "while num>0:\n",
    "    digits = num%10\n",
    "    reversed_num = reversed_num*10 + digits\n",
    "    num = num//10\n",
    "if reversed_num == original_num:\n",
    "    print ('It is a palindrome')\n",
    "else:\n",
    "    print (\"not a palindrome\")\n"
   ]
  },
  {
   "cell_type": "code",
   "execution_count": null,
   "id": "1e5e82e7",
   "metadata": {},
   "outputs": [],
   "source": []
  }
 ],
 "metadata": {
  "kernelspec": {
   "display_name": "base",
   "language": "python",
   "name": "python3"
  },
  "language_info": {
   "codemirror_mode": {
    "name": "ipython",
    "version": 3
   },
   "file_extension": ".py",
   "mimetype": "text/x-python",
   "name": "python",
   "nbconvert_exporter": "python",
   "pygments_lexer": "ipython3",
   "version": "3.12.7"
  }
 },
 "nbformat": 4,
 "nbformat_minor": 5
}
