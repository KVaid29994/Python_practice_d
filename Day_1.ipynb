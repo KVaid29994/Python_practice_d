{
 "cells": [
  {
   "cell_type": "markdown",
   "id": "874786f7",
   "metadata": {},
   "source": [
    " 1. Reverse Words in a Sentence (without using built-in reverse methods)\n",
    "\n",
    "Write a function that reverses the order of words in a sentence while keeping the words themselves intact.\n",
    "\n",
    "Input: \"I love Python programming\"  \n",
    "Output: \"programming Python love I\""
   ]
  },
  {
   "cell_type": "code",
   "execution_count": 19,
   "id": "610a724f",
   "metadata": {},
   "outputs": [],
   "source": [
    "def reverse_words(sentence):\n",
    "    words = sentence.split()\n",
    "    reversed_words = []\n",
    "\n",
    "    for i in range(len(words)-1 ,-1, -1):   ###len(words) - 1 gives the index of the last word.\n",
    "                                            ### -1 is the stopping condition (not inclusive).\n",
    "                                            ### The -1 step means it iterates backwards.\n",
    "        reversed_words.append(words[i])\n",
    "    return ' '.join(reversed_words)"
   ]
  },
  {
   "cell_type": "code",
   "execution_count": 20,
   "id": "877f190d",
   "metadata": {},
   "outputs": [
    {
     "name": "stdout",
     "output_type": "stream",
     "text": [
      "Python in programming love I\n"
     ]
    }
   ],
   "source": [
    "print (reverse_words (\"I love programming in Python\"))"
   ]
  },
  {
   "cell_type": "markdown",
   "id": "a090091e",
   "metadata": {},
   "source": [
    "2. Find the Second Largest Number in a List (without using sort())"
   ]
  },
  {
   "cell_type": "code",
   "execution_count": 31,
   "id": "2653339c",
   "metadata": {},
   "outputs": [],
   "source": [
    "#second largest number in a list without using sort function\n",
    "\n",
    "def second_largest(numbers):\n",
    "    if len(numbers)<2:\n",
    "        print (\"List must contain at least two numbers.\")\n",
    "        return None\n",
    "    \n",
    "    first = second = float(\"-inf\")  # Initialize first and second to negative infinity\n",
    "                                    #first: will hold the largest number found so far.\n",
    "                                    #second: will hold the second largest number found so far.\n",
    "                                    ## We initialize both with negative infinity so that any real number will be larger.\n",
    "\n",
    "    for number in numbers:\n",
    "        if number > first :\n",
    "            second = first\n",
    "            first = number\n",
    "        elif first > number > second:\n",
    "            second = number\n",
    "        \n",
    "    return second if second != float('-inf') else None \n"
   ]
  },
  {
   "cell_type": "code",
   "execution_count": 32,
   "id": "a5ce859a",
   "metadata": {},
   "outputs": [
    {
     "data": {
      "text/plain": [
       "133"
      ]
     },
     "execution_count": 32,
     "metadata": {},
     "output_type": "execute_result"
    }
   ],
   "source": [
    "second_largest([10, 20, 4, 45, 99,10001,133]) # should return 45"
   ]
  },
  {
   "cell_type": "markdown",
   "id": "557964de",
   "metadata": {},
   "source": [
    "✅ 3. Flatten a Nested List\n",
    "- Write a function to flatten a nested list of integers into a single list."
   ]
  },
  {
   "cell_type": "code",
   "execution_count": null,
   "id": "9b2fea4d",
   "metadata": {},
   "outputs": [],
   "source": [
    "list_to_flatten = [1, [2, [3, 4], 5], 6]\n",
    "\n",
    "def flatten_list(nested_list):\n",
    "    flat_list = []\n",
    "\n",
    "    for item in nested_list:\n",
    "        if isinstance(item, list):\n",
    "            print (f\"item is a list: {item}\")\n",
    "            flat_list.extend(flatten_list(item)) # recursively call flatten_list(item) to flatten this inner list\n",
    "                                                    ## and extend the flat_list with the result.\n",
    "                                                    ##extend → adds all elements of sublist, instead of adding the sublist as one item.\n",
    "\n",
    "        else:\n",
    "            flat_list.append(item)\n",
    "    return flat_list\n"
   ]
  },
  {
   "cell_type": "code",
   "execution_count": 39,
   "id": "693e1615",
   "metadata": {},
   "outputs": [
    {
     "name": "stdout",
     "output_type": "stream",
     "text": [
      "item is a list: [2, [3, 4], 5]\n",
      "item is a list: [3, 4]\n"
     ]
    },
    {
     "data": {
      "text/plain": [
       "[1, 2, 3, 4, 5, 6]"
      ]
     },
     "execution_count": 39,
     "metadata": {},
     "output_type": "execute_result"
    }
   ],
   "source": [
    "flatten_list(list_to_flatten) # should return [1, 2, 3, 4, 5, 6]"
   ]
  },
  {
   "cell_type": "code",
   "execution_count": 44,
   "id": "a53f0189",
   "metadata": {},
   "outputs": [],
   "source": [
    "def flatten_list(list_to_flatten):\n",
    "    flat_list =[]\n",
    "\n",
    "    for item in list_to_flatten:\n",
    "        if isinstance(item, list):\n",
    "            flat_list.extend(flatten_list(item))\n",
    "        else:\n",
    "            flat_list.append(item)\n",
    "    return flat_list\n",
    "            "
   ]
  },
  {
   "cell_type": "markdown",
   "id": "25cc9c0f",
   "metadata": {},
   "source": [
    "4. Word Frequency Counter (ignore case & punctuation)\n",
    "\n",
    "Write a function that takes a string and returns the top 3 most frequent words (ignoring case and punctuation)."
   ]
  },
  {
   "cell_type": "code",
   "execution_count": 71,
   "id": "d6f515ba",
   "metadata": {},
   "outputs": [],
   "source": [
    "import re\n",
    "from collections import Counter\n",
    "\n",
    "def frequency_counter(sent):\n",
    "    words = re.findall(r'\\b\\w+\\b', sent.lower())  # Find all words in the sentence, ignoring case\n",
    "    freq = Counter(words)\n",
    "    return freq.most_common(3)"
   ]
  },
  {
   "cell_type": "code",
   "execution_count": 70,
   "id": "b847d4aa",
   "metadata": {},
   "outputs": [
    {
     "data": {
      "text/plain": [
       "[('kashish', 4), ('is', 1), ('amazing', 1)]"
      ]
     },
     "execution_count": 70,
     "metadata": {},
     "output_type": "execute_result"
    }
   ],
   "source": [
    "frequency_counter(\"Kashish kashish KASHISH is @@@ @@@ @@@@ @@ amazing and nice KashisH\")"
   ]
  },
  {
   "cell_type": "markdown",
   "id": "0da2849b",
   "metadata": {},
   "source": [
    "## Practice more"
   ]
  },
  {
   "cell_type": "markdown",
   "id": "344bac9b",
   "metadata": {},
   "source": [
    "✅ 5. Extract All Email Addresses from a String\n",
    "\n",
    "Write a function that takes a text and returns all valid email addresses found."
   ]
  },
  {
   "cell_type": "code",
   "execution_count": 78,
   "id": "11a18188",
   "metadata": {},
   "outputs": [],
   "source": [
    "sent =  \"Contact me at test@example.com or admin@website.org.\"  \n",
    "\n",
    "def find_email_addresses(sent):\n",
    "    email_pattern = r'[a-zA-Z0-9.%+-]+@[a-zA-Z0-9.-]+\\.[a-zA-Z]{2,}'\n",
    "    emails = re.findall(email_pattern, sent)\n",
    "    return emails\n",
    "  "
   ]
  },
  {
   "cell_type": "code",
   "execution_count": 79,
   "id": "91074cd7",
   "metadata": {},
   "outputs": [
    {
     "name": "stdout",
     "output_type": "stream",
     "text": [
      "['test@example.com', 'admin@website.org']\n"
     ]
    }
   ],
   "source": [
    "print (find_email_addresses(sent))"
   ]
  },
  {
   "cell_type": "code",
   "execution_count": null,
   "id": "7e70fa0b",
   "metadata": {},
   "outputs": [],
   "source": []
  }
 ],
 "metadata": {
  "kernelspec": {
   "display_name": "base",
   "language": "python",
   "name": "python3"
  },
  "language_info": {
   "codemirror_mode": {
    "name": "ipython",
    "version": 3
   },
   "file_extension": ".py",
   "mimetype": "text/x-python",
   "name": "python",
   "nbconvert_exporter": "python",
   "pygments_lexer": "ipython3",
   "version": "3.12.7"
  }
 },
 "nbformat": 4,
 "nbformat_minor": 5
}
