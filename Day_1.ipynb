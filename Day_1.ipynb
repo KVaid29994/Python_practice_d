{
 "cells": [
  {
   "cell_type": "markdown",
   "id": "874786f7",
   "metadata": {},
   "source": [
    " 1. Reverse Words in a Sentence (without using built-in reverse methods)\n",
    "\n",
    "Write a function that reverses the order of words in a sentence while keeping the words themselves intact.\n",
    "\n",
    "Input: \"I love Python programming\"  \n",
    "Output: \"programming Python love I\""
   ]
  },
  {
   "cell_type": "code",
   "execution_count": 19,
   "id": "610a724f",
   "metadata": {},
   "outputs": [],
   "source": [
    "def reverse_words(sentence):\n",
    "    words = sentence.split()\n",
    "    reversed_words = []\n",
    "\n",
    "    for i in range(len(words)-1 ,-1, -1):   ###len(words) - 1 gives the index of the last word.\n",
    "                                            ### -1 is the stopping condition (not inclusive).\n",
    "                                            ### The -1 step means it iterates backwards.\n",
    "        reversed_words.append(words[i])\n",
    "    return ' '.join(reversed_words)"
   ]
  },
  {
   "cell_type": "code",
   "execution_count": 20,
   "id": "877f190d",
   "metadata": {},
   "outputs": [
    {
     "name": "stdout",
     "output_type": "stream",
     "text": [
      "Python in programming love I\n"
     ]
    }
   ],
   "source": [
    "print (reverse_words (\"I love programming in Python\"))"
   ]
  },
  {
   "cell_type": "markdown",
   "id": "a090091e",
   "metadata": {},
   "source": [
    "2. Find the Second Largest Number in a List (without using sort())"
   ]
  },
  {
   "cell_type": "code",
   "execution_count": null,
   "id": "2653339c",
   "metadata": {},
   "outputs": [],
   "source": [
    "#second largest number in a list without using sort function\n",
    "\n",
    "def second_largest(numbers):\n",
    "    if len(numbers)<2:\n",
    "        print (\"List must contain at least two numbers.\")\n",
    "        return None\n",
    "    \n",
    "    first = second = float('-inf')  # Initialize first and second to negative infinity\n",
    "                                    #first: will hold the largest number found so far.\n",
    "                                    #second: will hold the second largest number found so far.\n",
    "                                    ## We initialize both with negative infinity so that any real number will be larger.\n",
    "\n",
    "    for number in numbers:\n",
    "        if number > first:\n",
    "            second = first\n",
    "            first = number\n",
    "        elif first > number > second:   ## If the number is smaller than the current max (first) but bigger than current second, update second.\n",
    "            second = number\n",
    "        \n",
    "    return second if second != float('-inf') else None \n"
   ]
  },
  {
   "cell_type": "code",
   "execution_count": 30,
   "id": "a5ce859a",
   "metadata": {},
   "outputs": [
    {
     "data": {
      "text/plain": [
       "133"
      ]
     },
     "execution_count": 30,
     "metadata": {},
     "output_type": "execute_result"
    }
   ],
   "source": [
    "second_largest([10, 20, 4, 45, 99,10001,133]) # should return 45"
   ]
  },
  {
   "cell_type": "code",
   "execution_count": null,
   "id": "9b2fea4d",
   "metadata": {},
   "outputs": [],
   "source": []
  }
 ],
 "metadata": {
  "kernelspec": {
   "display_name": "base",
   "language": "python",
   "name": "python3"
  },
  "language_info": {
   "codemirror_mode": {
    "name": "ipython",
    "version": 3
   },
   "file_extension": ".py",
   "mimetype": "text/x-python",
   "name": "python",
   "nbconvert_exporter": "python",
   "pygments_lexer": "ipython3",
   "version": "3.12.7"
  }
 },
 "nbformat": 4,
 "nbformat_minor": 5
}
