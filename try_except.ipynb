{
 "cells": [
  {
   "cell_type": "markdown",
   "id": "62ca75ee",
   "metadata": {},
   "source": [
    "Question 1: Division Error\n",
    "\n",
    "- Write a program that takes two numbers from the user and prints the result of dividing the first by the second. Handle division by zero using try and except."
   ]
  },
  {
   "cell_type": "markdown",
   "id": "4a18cb17",
   "metadata": {},
   "source": []
  },
  {
   "cell_type": "code",
   "execution_count": 23,
   "id": "2e02b571",
   "metadata": {},
   "outputs": [
    {
     "name": "stdout",
     "output_type": "stream",
     "text": [
      "Error invalid input, please enter numeric values\n"
     ]
    }
   ],
   "source": [
    "try:\n",
    "    input_1 = float(input(\"Please enter the first number\"))\n",
    "    input_2 = float(input (\"Please enter the second number\"))\n",
    "    result = input_1 / input_2\n",
    "    print (\"The result is \" + str(result))\n",
    "except ZeroDivisionError:\n",
    "    print (\"Error: Cannot divide by zero\")\n",
    "except ValueError:\n",
    "    print (\"Error invalid input, please enter numeric values\")"
   ]
  },
  {
   "cell_type": "markdown",
   "id": "13dbb471",
   "metadata": {},
   "source": [
    "Question 2: Integer Input\n",
    "\n",
    "Ask the user to enter a number. If they enter something that isn't a number, catch the error and print a friendly message."
   ]
  },
  {
   "cell_type": "code",
   "execution_count": 24,
   "id": "b0374306",
   "metadata": {},
   "outputs": [
    {
     "name": "stdout",
     "output_type": "stream",
     "text": [
      "Error: Invalid input, please enter a valid integer\n"
     ]
    }
   ],
   "source": [
    "integer_input = input(\"Please enter an integer: \")\n",
    "try:\n",
    "    integer_input = int(integer_input)\n",
    "    print(\"You entered the integer:\", integer_input)\n",
    "except ValueError:\n",
    "    print(\"Error: Invalid input, please enter a valid integer\")\n",
    "except Exception as e:\n",
    "    print(\"An unexpected error occurred:\", str(e))"
   ]
  },
  {
   "cell_type": "markdown",
   "id": "68022aca",
   "metadata": {},
   "source": [
    "Question 3: List Index\n",
    "\n",
    "Create a list with 3 items. Ask the user to enter an index to access the list. Handle the case where the index is out of range"
   ]
  },
  {
   "cell_type": "code",
   "execution_count": 25,
   "id": "162e5b5d",
   "metadata": {},
   "outputs": [
    {
     "name": "stdout",
     "output_type": "stream",
     "text": [
      "Error: Invalid input, please enter a valid integer\n"
     ]
    }
   ],
   "source": [
    "list_1 = [33,'ABC', True]\n",
    "\n",
    "try:\n",
    "    input_index = int(input(\"Please enter an index to access the list: \"))\n",
    "    print(\"The value at index\", input_index, \"is\", list_1[input_index])\n",
    "except IndexError:\n",
    "    print(\"Error: Index out of range\")\n",
    "except ValueError:\n",
    "\n",
    "    print(\"Error: Invalid input, please enter a valid integer\")"
   ]
  },
  {
   "cell_type": "markdown",
   "id": "e3b7c93c",
   "metadata": {},
   "source": [
    "Question 4: File Handling\n",
    "\n",
    "Try to open a file called data.txt and read its content. Handle the case where the file doesn’t exist.\n",
    "\n",
    "Hint: Catch FileNotFoundError.\n",
    "\n"
   ]
  },
  {
   "cell_type": "code",
   "execution_count": 26,
   "id": "dcb1990c",
   "metadata": {},
   "outputs": [],
   "source": [
    "def read_file(file_path):\n",
    "    try :\n",
    "        with open(file_path,'r') as file:\n",
    "            content = file.read()\n",
    "            print(content)\n",
    "    except FileNotFoundError:\n",
    "        print(\"Error: File not found\")\n",
    "    except IOError:\n",
    "        print(\"Error: An I/O error occurred\")\n",
    "    except Exception as e:\n",
    "        print(\"An unexpected error occurred:\", str(e))\n"
   ]
  },
  {
   "cell_type": "code",
   "execution_count": 27,
   "id": "10665458",
   "metadata": {},
   "outputs": [
    {
     "name": "stdout",
     "output_type": "stream",
     "text": [
      "my name is Kashish, and I am practicing python try and except concepts\n",
      "\n"
     ]
    }
   ],
   "source": [
    "read_file('data.txt')"
   ]
  },
  {
   "cell_type": "markdown",
   "id": "a5b6b564",
   "metadata": {},
   "source": [
    "Question 5: Multiple Exceptions\n",
    "\n",
    "Take two inputs, convert them to integers, and divide them. Handle both invalid number input and division by zero."
   ]
  },
  {
   "cell_type": "code",
   "execution_count": 28,
   "id": "71d74244",
   "metadata": {},
   "outputs": [],
   "source": [
    "try:\n",
    "    int_1 = int(input(\"Please enter the first integer: \"))\n",
    "    int_2 = int(input(\"Please enter the second integer: \"))\n",
    "    result = int_1/int_2\n",
    "\n",
    "except ZeroDivisionError:\n",
    "    print(\"Error: Cannot divide by zero\")\n",
    "except ValueError:\n",
    "    print(\"Error: Invalid input, please enter numeric values\")\n",
    "except Exception as e:\n",
    "    print(\"An unexpected error occurred:\", str(e))\n",
    "\n"
   ]
  },
  {
   "cell_type": "markdown",
   "id": "9114442f",
   "metadata": {},
   "source": [
    "Question 6: Nested Try-Except\n",
    "\n",
    "- Ask the user to input a filename and an index. Try to read the file and print the line at the given index.\n",
    "\n",
    "    Hint: You may need to catch both FileNotFoundError and IndexError. Consider using a nested try or multiple except."
   ]
  },
  {
   "cell_type": "code",
   "execution_count": 29,
   "id": "c8198604",
   "metadata": {},
   "outputs": [
    {
     "name": "stdout",
     "output_type": "stream",
     "text": [
      "Error: The file '1' was not found.\n"
     ]
    }
   ],
   "source": [
    "try:\n",
    "    # Ask the user for the filename and index\n",
    "    filename = input(\"Enter the filename: \")\n",
    "    index = int(input(\"Enter the index of the line to print: \"))\n",
    "\n",
    "    try:\n",
    "        # Try to open and read the file\n",
    "        with open(filename, 'r') as file:\n",
    "            lines = file.readlines()\n",
    "\n",
    "            # Try to print the line at the given index\n",
    "            print(lines[index])\n",
    "\n",
    "    except FileNotFoundError:\n",
    "        # Handle the case where the file does not exist\n",
    "        print(f\"Error: The file '{filename}' was not found.\")\n",
    "\n",
    "    except IndexError:\n",
    "        # Handle the case where the index is out of range\n",
    "        print(f\"Error: The index {index} is out of range for the file '{filename}'.\")\n",
    "\n",
    "except ValueError:\n",
    "    # Handle the case where the input index is not a valid integer\n",
    "    print(\"Error: Please enter a valid integer for the index.\")\n"
   ]
  },
  {
   "cell_type": "markdown",
   "id": "2535667a",
   "metadata": {},
   "source": [
    "Question 7: Dictionary Lookup\n",
    "Given a dictionary of student grades, ask for a student name and print their grade. Handle the case when the name is not in the dictionary.\n",
    "\n",
    "Hint: Catch KeyError or use .get() and check for None."
   ]
  },
  {
   "cell_type": "code",
   "execution_count": 38,
   "id": "6e91f4d7",
   "metadata": {},
   "outputs": [
    {
     "name": "stdout",
     "output_type": "stream",
     "text": [
      "alice's grade is 85\n"
     ]
    }
   ],
   "source": [
    "try:\n",
    "    student_grades = {\n",
    "        \"Alice\": 85,\n",
    "        \"Bob\": 90,\n",
    "        \"Charlie\": 78\n",
    "    }\n",
    "    student_grades_lower = {key.lower(): value for key, value in student_grades.items()}\n",
    "    student_name = input (\"Enter the student's name: \").lower()\n",
    "    grade = student_grades_lower[student_name]\n",
    "    print (f\"{student_name}'s grade is {grade}\")\n",
    "\n",
    "except KeyError:\n",
    "    print (\"error student not found\")\n",
    "except Exception as e:\n",
    "    print (\"An unexpected error occurred:\", str(e))"
   ]
  },
  {
   "cell_type": "markdown",
   "id": "c42c4534",
   "metadata": {},
   "source": [
    "Question 8: Function Error Propagation\n",
    "Write a function that calculates the square root of a number. Raise an error if the number is negative and catch it outside the function.\n",
    "\n",
    "Hint: Use raise ValueError(\"...\") in the function, and handle it with try when calling the function."
   ]
  },
  {
   "cell_type": "code",
   "execution_count": 39,
   "id": "6c912f8b",
   "metadata": {},
   "outputs": [],
   "source": [
    "def square_root(number):\n",
    "    try:\n",
    "        if number < 0:\n",
    "            raise ValueError(\"Cannot compute square root of a negative number\")\n",
    "        return number ** 0.5\n",
    "    except ValueError as e:\n",
    "        print(e)\n",
    "        return None"
   ]
  },
  {
   "cell_type": "code",
   "execution_count": 42,
   "id": "46bca594",
   "metadata": {},
   "outputs": [
    {
     "data": {
      "text/plain": [
       "2.704134714569524"
      ]
     },
     "execution_count": 42,
     "metadata": {},
     "output_type": "execute_result"
    }
   ],
   "source": [
    "# square_root(7.31234455454)"
   ]
  },
  {
   "cell_type": "code",
   "execution_count": null,
   "id": "7b026e78",
   "metadata": {},
   "outputs": [],
   "source": []
  }
 ],
 "metadata": {
  "kernelspec": {
   "display_name": "base",
   "language": "python",
   "name": "python3"
  },
  "language_info": {
   "codemirror_mode": {
    "name": "ipython",
    "version": 3
   },
   "file_extension": ".py",
   "mimetype": "text/x-python",
   "name": "python",
   "nbconvert_exporter": "python",
   "pygments_lexer": "ipython3",
   "version": "3.12.7"
  }
 },
 "nbformat": 4,
 "nbformat_minor": 5
}
