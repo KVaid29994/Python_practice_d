{
 "cells": [
  {
   "cell_type": "markdown",
   "id": "8a8f422c",
   "metadata": {},
   "source": [
    " 8. Check for Anagram\n",
    "\n",
    "Write a function to check if two strings are anagrams (ignore spaces and case)."
   ]
  },
  {
   "cell_type": "code",
   "execution_count": 5,
   "id": "4b000c32",
   "metadata": {},
   "outputs": [],
   "source": [
    "def check_anagram(str_1,str_2):\n",
    "    str_1 = str_1.replace(\" \",\"\").lower()\n",
    "    str_2 = str_2.replace(\" \",\"\").lower()\n",
    "\n",
    "    return sorted(str_1) == sorted(str_2)"
   ]
  },
  {
   "cell_type": "code",
   "execution_count": 6,
   "id": "299c55e4",
   "metadata": {},
   "outputs": [
    {
     "name": "stdout",
     "output_type": "stream",
     "text": [
      "True\n"
     ]
    }
   ],
   "source": [
    "print(check_anagram(\"Listen\", \"Silent\"))"
   ]
  },
  {
   "cell_type": "code",
   "execution_count": 7,
   "id": "87b1ad03",
   "metadata": {},
   "outputs": [
    {
     "name": "stdout",
     "output_type": "stream",
     "text": [
      "False\n"
     ]
    }
   ],
   "source": [
    "print(check_anagram(\"hello\", \"Silent\"))"
   ]
  },
  {
   "cell_type": "markdown",
   "id": "a09acb6f",
   "metadata": {},
   "source": [
    " 9 . Find All Words Starting with a Capital Letter"
   ]
  },
  {
   "cell_type": "code",
   "execution_count": 39,
   "id": "26169a0b",
   "metadata": {},
   "outputs": [],
   "source": [
    "import re\n",
    "\n",
    "def find_capital_letter(sent):\n",
    "    pattern = r'\\b[A-Z][a-zA-Z]*\\b'\n",
    "    return re.findall(pattern, sent)"
   ]
  },
  {
   "cell_type": "code",
   "execution_count": 41,
   "id": "45c6f9fa",
   "metadata": {},
   "outputs": [
    {
     "data": {
      "text/plain": [
       "['Kashish', 'Is', 'USA']"
      ]
     },
     "execution_count": 41,
     "metadata": {},
     "output_type": "execute_result"
    }
   ],
   "source": [
    "find_capital_letter(\"Kashish vaid Is going to america USA\")"
   ]
  },
  {
   "cell_type": "markdown",
   "id": "474f625e",
   "metadata": {},
   "source": [
    "10 . Count Vowels and Consonants in a String\n",
    "\n",
    "Write a function that counts how many vowels and consonants are in a given string. Ignore non-alphabet characters."
   ]
  },
  {
   "cell_type": "code",
   "execution_count": 57,
   "id": "718c55f2",
   "metadata": {},
   "outputs": [],
   "source": [
    "import re\n",
    "def count_vow_cons(text):\n",
    "    vowels = re.findall(r'[aeiouAEIOU]', text)\n",
    "    consonants = re.findall(r'[a-zA-Z]', text)\n",
    "    consonants_count = len([c for c in consonants if c.lower() not in 'aieou'])\n",
    "    return {'vowels': len(vowels), 'consonants' : consonants_count}"
   ]
  },
  {
   "cell_type": "code",
   "execution_count": 58,
   "id": "d864b4a1",
   "metadata": {},
   "outputs": [
    {
     "data": {
      "text/plain": [
       "{'vowels': 3, 'consonants': 7}"
      ]
     },
     "execution_count": 58,
     "metadata": {},
     "output_type": "execute_result"
    }
   ],
   "source": [
    "count_vow_cons(\"Hello, World!\")"
   ]
  },
  {
   "cell_type": "markdown",
   "id": "45d33dd6",
   "metadata": {},
   "source": [
    "11 . Find Duplicate Elements in a List\n",
    "\n",
    "Write a function to return all duplicate elements from a list."
   ]
  },
  {
   "cell_type": "code",
   "execution_count": 10,
   "id": "f6d9950f",
   "metadata": {},
   "outputs": [],
   "source": [
    "def find_duplicate(list1,list2):\n",
    "    duplicates = set(list1) & set(list2)\n",
    "    return duplicates"
   ]
  },
  {
   "cell_type": "code",
   "execution_count": 12,
   "id": "6010e9ce",
   "metadata": {},
   "outputs": [
    {
     "name": "stdout",
     "output_type": "stream",
     "text": [
      "{1, 3, 7}\n"
     ]
    }
   ],
   "source": [
    "list1 = [1,2,3,4,7,7]\n",
    "list2 = [1,3,5,7,9,6]\n",
    "\n",
    "duplicates = find_duplicate(list1,list2)\n",
    "\n",
    "print (duplicates)"
   ]
  },
  {
   "cell_type": "markdown",
   "id": "b266073e",
   "metadata": {},
   "source": [
    " 12. Palindrome Checker (Ignore Case & Non-Alphanumeric)"
   ]
  },
  {
   "cell_type": "code",
   "execution_count": 34,
   "id": "ffa786e0",
   "metadata": {},
   "outputs": [],
   "source": [
    "import re\n",
    "def check_palindrome(text):\n",
    "    cleaned = re.sub(r'[^a-zA-Z0-9]',\"\",text).lower()\n",
    "    print (cleaned)\n",
    "    return cleaned == cleaned[::-1]"
   ]
  },
  {
   "cell_type": "code",
   "execution_count": 35,
   "id": "c769d07e",
   "metadata": {},
   "outputs": [
    {
     "name": "stdout",
     "output_type": "stream",
     "text": [
      "amanaplanacanalpanama\n",
      "True\n"
     ]
    }
   ],
   "source": [
    "print(check_palindrome(\"A man, a plan, a canal: Panama\"))"
   ]
  },
  {
   "cell_type": "markdown",
   "id": "7fc208e6",
   "metadata": {},
   "source": [
    "13. Replace Multiple Spaces with Single Space"
   ]
  },
  {
   "cell_type": "code",
   "execution_count": 38,
   "id": "1f0fe865",
   "metadata": {},
   "outputs": [
    {
     "name": "stdout",
     "output_type": "stream",
     "text": [
      "This is a test.\n"
     ]
    }
   ],
   "source": [
    "def replace_spaces(text):\n",
    "    return re.sub(r'\\s+',' ', text).strip()\n",
    "\n",
    "print(replace_spaces(\"This   is   a          test.\"))"
   ]
  },
  {
   "cell_type": "code",
   "execution_count": null,
   "id": "e1455533",
   "metadata": {},
   "outputs": [],
   "source": []
  }
 ],
 "metadata": {
  "kernelspec": {
   "display_name": "base",
   "language": "python",
   "name": "python3"
  },
  "language_info": {
   "codemirror_mode": {
    "name": "ipython",
    "version": 3
   },
   "file_extension": ".py",
   "mimetype": "text/x-python",
   "name": "python",
   "nbconvert_exporter": "python",
   "pygments_lexer": "ipython3",
   "version": "3.12.7"
  }
 },
 "nbformat": 4,
 "nbformat_minor": 5
}
