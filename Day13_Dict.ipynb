{
 "cells": [
  {
   "cell_type": "code",
   "execution_count": null,
   "id": "51aa0064",
   "metadata": {},
   "outputs": [],
   "source": []
  },
  {
   "cell_type": "markdown",
   "id": "8df929e0",
   "metadata": {},
   "source": [
    "## 1. Frequency Counter\n",
    "Write a function count_characters(s) that takes a string s and returns a dictionary with the frequency of each character in the string."
   ]
  },
  {
   "cell_type": "code",
   "execution_count": 3,
   "id": "79a441fd",
   "metadata": {},
   "outputs": [
    {
     "data": {
      "text/plain": [
       "{'H': 1, 'e': 1, 'l': 2, 'o': 1}"
      ]
     },
     "execution_count": 3,
     "metadata": {},
     "output_type": "execute_result"
    }
   ],
   "source": [
    "def count_characters(s):\n",
    "    # counter = 0\n",
    "    result = {}\n",
    "    for i in s:\n",
    "        if i in result:\n",
    "            result[i] +=1\n",
    "        else:\n",
    "            result[i] =1\n",
    "    return result\n",
    "        \n",
    "s = \"Hello\"\n",
    "count_characters(s)"
   ]
  },
  {
   "cell_type": "markdown",
   "id": "7986d1f3",
   "metadata": {},
   "source": [
    "### A counter is a container that stores elements as dictionary keys, and their counts are stored as dictionary values."
   ]
  },
  {
   "cell_type": "code",
   "execution_count": 1,
   "id": "3d571601",
   "metadata": {},
   "outputs": [
    {
     "name": "stdout",
     "output_type": "stream",
     "text": [
      "Counter({2: 4, 3: 4, 1: 3, 4: 2, 5: 1})\n"
     ]
    }
   ],
   "source": [
    "from collections import Counter\n",
    "\n",
    "myList = [1,1,2,3,4,5,3,2,3,4,2,1,2,3]\n",
    "print (Counter(myList))"
   ]
  },
  {
   "cell_type": "code",
   "execution_count": 2,
   "id": "a6d653a8",
   "metadata": {},
   "outputs": [
    {
     "name": "stdout",
     "output_type": "stream",
     "text": [
      "dict_items([(1, 3), (2, 4), (3, 4), (4, 2), (5, 1)])\n"
     ]
    }
   ],
   "source": [
    "print (Counter(myList).items())\n"
   ]
  },
  {
   "cell_type": "code",
   "execution_count": 3,
   "id": "8cb88f8c",
   "metadata": {},
   "outputs": [
    {
     "name": "stdout",
     "output_type": "stream",
     "text": [
      "dict_keys([1, 2, 3, 4, 5])\n"
     ]
    }
   ],
   "source": [
    "print (Counter(myList).keys())"
   ]
  },
  {
   "cell_type": "code",
   "execution_count": 4,
   "id": "9c413cfc",
   "metadata": {},
   "outputs": [
    {
     "name": "stdout",
     "output_type": "stream",
     "text": [
      "dict_values([3, 4, 4, 2, 1])\n"
     ]
    }
   ],
   "source": [
    "print (Counter(myList).values())"
   ]
  },
  {
   "cell_type": "markdown",
   "id": "cf7658c9",
   "metadata": {},
   "source": [
    "#### Given a dictionary d, write a function find_keys_with_value(d, target) that returns a list of all keys in d that have the value target."
   ]
  },
  {
   "cell_type": "markdown",
   "id": "46eea827",
   "metadata": {},
   "source": [
    "- find_keys_with_value({'a': 3, 'b': 2, 'c': 3}, 3)\n",
    "- Output: ['a', 'c']"
   ]
  },
  {
   "cell_type": "code",
   "execution_count": null,
   "id": "35a5956b",
   "metadata": {},
   "outputs": [],
   "source": [
    "def find_key_with_value(dict1,target):\n",
    "    result = []\n",
    "    for key, value in dict1.items():\n",
    "        if value == target:\n",
    "            result.append(key)\n",
    "    return result\n"
   ]
  },
  {
   "cell_type": "code",
   "execution_count": 7,
   "id": "3087f7a0",
   "metadata": {},
   "outputs": [
    {
     "data": {
      "text/plain": [
       "['a', 'c']"
      ]
     },
     "execution_count": 7,
     "metadata": {},
     "output_type": "execute_result"
    }
   ],
   "source": [
    "d = {'a': 3, 'b': 2, 'c': 3}\n",
    "find_key_with_value(d,3)"
   ]
  },
  {
   "cell_type": "markdown",
   "id": "b1b88d5f",
   "metadata": {},
   "source": [
    "#### Write a function swap_keys_values(d) that takes a dictionary d and returns a new dictionary where the keys become values and the values become keys.\n",
    "\n",
    "    - Assume that all values in the original dictionary are unique (so they can safely be used as keys)."
   ]
  },
  {
   "cell_type": "code",
   "execution_count": 10,
   "id": "a214e163",
   "metadata": {},
   "outputs": [],
   "source": [
    "def swap_keys_values(d):\n",
    "    new_d ={}\n",
    "    for key, value in d.items():\n",
    "        new_d[value]= key\n",
    "    return new_d\n"
   ]
  },
  {
   "cell_type": "code",
   "execution_count": 12,
   "id": "1c2d18e6",
   "metadata": {},
   "outputs": [
    {
     "name": "stdout",
     "output_type": "stream",
     "text": [
      "{1: 'a', 2: 'b', 3: 'c'}\n"
     ]
    }
   ],
   "source": [
    "d = {'a': 1, 'b': 2, 'c': 3}\n",
    "print(swap_keys_values(d))"
   ]
  },
  {
   "cell_type": "markdown",
   "id": "6ad6f4cc",
   "metadata": {},
   "source": [
    "### Q4. Merge Two Dictionaries\n",
    "\n",
    "- Write a function merge_dicts(d1, d2) that merges two dictionaries. If the same key exists in both dictionaries, the value from d2 should overwrite the one in d1."
   ]
  },
  {
   "cell_type": "code",
   "execution_count": 18,
   "id": "7cf96dc7",
   "metadata": {},
   "outputs": [],
   "source": [
    "def merge_dicts(d1,d2):\n",
    "    result = d1.copy()\n",
    "    result.update(d2)\n",
    "    return result\n"
   ]
  },
  {
   "cell_type": "code",
   "execution_count": 20,
   "id": "236fe798",
   "metadata": {},
   "outputs": [
    {
     "data": {
      "text/plain": [
       "{'a': 1, 'b': 3, 'c': 4}"
      ]
     },
     "execution_count": 20,
     "metadata": {},
     "output_type": "execute_result"
    }
   ],
   "source": [
    "d1 = {'a': 1, 'b': 2}\n",
    "d2 = {'b': 3, 'c': 4}\n",
    "merge_dicts(d1,d2)"
   ]
  },
  {
   "cell_type": "markdown",
   "id": "2e4dee99",
   "metadata": {},
   "source": [
    "### Group Words by Length\n",
    "- Write a function group_by_length(words) that takes a list of words and returns a dictionary where the key is the word length and the value is a list of words of that length."
   ]
  },
  {
   "cell_type": "code",
   "execution_count": 25,
   "id": "1436350f",
   "metadata": {},
   "outputs": [],
   "source": [
    "def group_by_length(words):\n",
    "    result = {}\n",
    "    for word in words:\n",
    "        length = len(word)\n",
    "        if length in result:\n",
    "            result[length].append(word)\n",
    "        else:\n",
    "            result[length] = [word]\n",
    "    return result"
   ]
  },
  {
   "cell_type": "code",
   "execution_count": 26,
   "id": "bb4f324b",
   "metadata": {},
   "outputs": [
    {
     "data": {
      "text/plain": [
       "{3: ['cat', 'dog', 'bat', 'pie'], 5: ['apple', 'mango']}"
      ]
     },
     "execution_count": 26,
     "metadata": {},
     "output_type": "execute_result"
    }
   ],
   "source": [
    "words = [\"cat\", \"dog\", \"apple\", \"bat\", \"pie\", \"mango\"]\n",
    "group_by_length(words)\n",
    "\n"
   ]
  },
  {
   "cell_type": "markdown",
   "id": "fb875b86",
   "metadata": {},
   "source": [
    "#### Write a function index_by_first_letter(words) that takes a list of words and returns a dictionary where the key is the first letter of each word, and the value is a list of all words starting with that letter.\n",
    "\n"
   ]
  },
  {
   "cell_type": "code",
   "execution_count": 28,
   "id": "5d260b6e",
   "metadata": {},
   "outputs": [
    {
     "data": {
      "text/plain": [
       "'d'"
      ]
     },
     "execution_count": 28,
     "metadata": {},
     "output_type": "execute_result"
    }
   ],
   "source": [
    "word = \"data\"\n",
    "word[0]"
   ]
  },
  {
   "cell_type": "code",
   "execution_count": 33,
   "id": "2f61e3e2",
   "metadata": {},
   "outputs": [],
   "source": [
    "def index_by_first_letter(words):\n",
    "    result ={}\n",
    "    for word in words:\n",
    "        letter = word[0]\n",
    "        if letter in result:\n",
    "            result[letter].append(word)\n",
    "        else:\n",
    "            result[letter] = [word]\n",
    "        \n",
    "    return result\n"
   ]
  },
  {
   "cell_type": "code",
   "execution_count": 34,
   "id": "7bf58620",
   "metadata": {},
   "outputs": [
    {
     "data": {
      "text/plain": [
       "{'a': ['apple', 'ant'], 'b': ['banana', 'bat'], 'c': ['carrot', 'cat']}"
      ]
     },
     "execution_count": 34,
     "metadata": {},
     "output_type": "execute_result"
    }
   ],
   "source": [
    "words = [\"apple\", \"ant\", \"banana\", \"bat\", \"carrot\", \"cat\"]\n",
    "\n",
    "index_by_first_letter(words)"
   ]
  },
  {
   "cell_type": "markdown",
   "id": "7c41ea7c",
   "metadata": {},
   "source": [
    "### Write a function group_students_by_grade(pairs) that takes a list of (name, grade) tuples and returns a dictionary where the key is the grade and the value is a list of student names who got that grade.\n",
    "\n",
    "- pairs = [(\"Alice\", \"A\"), (\"Bob\", \"B\"), (\"Charlie\", \"A\"), (\"David\", \"C\"), (\"Eva\", \"B\")]\n",
    "\n",
    "-  Output: {'A': ['Alice', 'Charlie'], 'B': ['Bob', 'Eva'], 'C': ['David']}\n"
   ]
  },
  {
   "cell_type": "code",
   "execution_count": 42,
   "id": "07f2c277",
   "metadata": {},
   "outputs": [],
   "source": [
    "def group_students_by_grade(pairs):\n",
    "    result ={}\n",
    "    for item in pairs:\n",
    "        grades = item[1]\n",
    "        names = item[0]\n",
    "        if grades in result:\n",
    "            result[grades].append(names)\n",
    "        else:\n",
    "            result[grades] =[names] \n",
    "\n",
    "    return result"
   ]
  },
  {
   "cell_type": "code",
   "execution_count": 43,
   "id": "a9ac2055",
   "metadata": {},
   "outputs": [
    {
     "data": {
      "text/plain": [
       "{'A': ['Alice', 'Charlie'], 'B': ['Bob', 'Eva'], 'C': ['David']}"
      ]
     },
     "execution_count": 43,
     "metadata": {},
     "output_type": "execute_result"
    }
   ],
   "source": [
    "pairs = [(\"Alice\", \"A\"), (\"Bob\", \"B\"), (\"Charlie\", \"A\"), (\"David\", \"C\"), (\"Eva\", \"B\")]\n",
    "group_students_by_grade(pairs)\n",
    "\n"
   ]
  },
  {
   "cell_type": "code",
   "execution_count": 65,
   "id": "6adf3f73",
   "metadata": {},
   "outputs": [],
   "source": [
    "def most_common_words(words):\n",
    "    counter = 0\n",
    "    result = {}\n",
    "    for word in words:\n",
    "        if word in result:\n",
    "            result[word]+=1\n",
    "        else:\n",
    "            result[word] = 1\n",
    "    max_count = max(result.values())\n",
    "    most_common = [word for word, count in result.items() if count == max_count]\n",
    "    return {'counts': result, 'most_common': most_common}"
   ]
  },
  {
   "cell_type": "code",
   "execution_count": 66,
   "id": "b762b508",
   "metadata": {},
   "outputs": [
    {
     "data": {
      "text/plain": [
       "{'counts': {'apple': 3, 'banana': 2, 'orange': 1, 'man': 1, 'women': 1},\n",
       " 'most_common': ['apple']}"
      ]
     },
     "execution_count": 66,
     "metadata": {},
     "output_type": "execute_result"
    }
   ],
   "source": [
    "words = [\"apple\", \"banana\", \"apple\", \"orange\", \"banana\", \"apple\",\"man\", \"women\"]\n",
    "\n",
    "most_common_words(words)"
   ]
  },
  {
   "cell_type": "code",
   "execution_count": 68,
   "id": "f010885a",
   "metadata": {},
   "outputs": [],
   "source": [
    "from collections import Counter"
   ]
  },
  {
   "cell_type": "code",
   "execution_count": 70,
   "id": "fb587d8b",
   "metadata": {},
   "outputs": [
    {
     "name": "stdout",
     "output_type": "stream",
     "text": [
      "Counter({'apple': 3, 'banana': 2, 'orange': 1})\n"
     ]
    }
   ],
   "source": [
    "words = [\"apple\", \"banana\", \"apple\", \"orange\", \"banana\", \"apple\"]\n",
    "\n",
    "count = Counter(words)\n",
    "print (count)"
   ]
  },
  {
   "cell_type": "code",
   "execution_count": null,
   "id": "0ca01c72",
   "metadata": {},
   "outputs": [],
   "source": []
  }
 ],
 "metadata": {
  "kernelspec": {
   "display_name": "base",
   "language": "python",
   "name": "python3"
  },
  "language_info": {
   "codemirror_mode": {
    "name": "ipython",
    "version": 3
   },
   "file_extension": ".py",
   "mimetype": "text/x-python",
   "name": "python",
   "nbconvert_exporter": "python",
   "pygments_lexer": "ipython3",
   "version": "3.12.7"
  }
 },
 "nbformat": 4,
 "nbformat_minor": 5
}
