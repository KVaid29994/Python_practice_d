{
 "cells": [
  {
   "cell_type": "markdown",
   "id": "0020a4ba",
   "metadata": {},
   "source": [
    "### 🔹 What is a Function?\n",
    "A function is a block of reusable code that performs a specific task. Functions help you organize code, reduce repetition, and improve readability."
   ]
  },
  {
   "cell_type": "markdown",
   "id": "fe2703ea",
   "metadata": {},
   "source": [
    "### 1.Write a function called say_hello that takes no arguments and prints:\n",
    "Hello, Python Learner!\n"
   ]
  },
  {
   "cell_type": "code",
   "execution_count": 3,
   "id": "f09be2fe",
   "metadata": {},
   "outputs": [
    {
     "name": "stdout",
     "output_type": "stream",
     "text": [
      "Hello, Python Learner!\n"
     ]
    }
   ],
   "source": [
    "def say_hello():\n",
    "    print (\"Hello, Python Learner!\")\n",
    "\n",
    "say_hello()"
   ]
  },
  {
   "cell_type": "markdown",
   "id": "51d3a178",
   "metadata": {},
   "source": [
    "### ❓ Question 2: Function with Arguments\n",
    "- Write a function called multiply_by_two that takes one number as input and prints its value multiplied by 2."
   ]
  },
  {
   "cell_type": "code",
   "execution_count": null,
   "id": "a859a26d",
   "metadata": {},
   "outputs": [],
   "source": [
    "\n",
    "def multiply_by_two(n):\n",
    "    return n*2"
   ]
  },
  {
   "cell_type": "code",
   "execution_count": 9,
   "id": "4662b617",
   "metadata": {},
   "outputs": [
    {
     "data": {
      "text/plain": [
       "10"
      ]
     },
     "execution_count": 9,
     "metadata": {},
     "output_type": "execute_result"
    }
   ],
   "source": [
    "multiply_by_two(5)  "
   ]
  },
  {
   "cell_type": "markdown",
   "id": "af5fbd95",
   "metadata": {},
   "source": [
    "### ❓ Question 3: Function with Return Value\n",
    "Write a function called subtract_numbers that takes two numbers as input and returns the result of the first number minus the second."
   ]
  },
  {
   "cell_type": "code",
   "execution_count": 10,
   "id": "761a11a0",
   "metadata": {},
   "outputs": [],
   "source": [
    "def subtract_numbers(x,y):\n",
    "    return x-y"
   ]
  },
  {
   "cell_type": "code",
   "execution_count": 13,
   "id": "f95004fa",
   "metadata": {},
   "outputs": [
    {
     "name": "stdout",
     "output_type": "stream",
     "text": [
      "6\n"
     ]
    }
   ],
   "source": [
    "result = subtract_numbers(10, 4)\n",
    "print(result)"
   ]
  },
  {
   "cell_type": "markdown",
   "id": "ebaa41d3",
   "metadata": {},
   "source": [
    "### ❓ Question 1: Check Even or Odd\n",
    "- Write a function check_even_odd(number) that takes an integer and returns the string \"Even\" if the number is even, and \"Odd\" otherwise."
   ]
  },
  {
   "cell_type": "code",
   "execution_count": 19,
   "id": "f8e9ed7d",
   "metadata": {},
   "outputs": [],
   "source": [
    "def check_even_off(n):\n",
    "    if n%2==0:\n",
    "        print (\"the number is even\",n)\n",
    "    else:\n",
    "        print (\"the number is odd\",n)"
   ]
  },
  {
   "cell_type": "code",
   "execution_count": 20,
   "id": "c8fa251e",
   "metadata": {},
   "outputs": [
    {
     "name": "stdout",
     "output_type": "stream",
     "text": [
      "the number is odd 4555\n"
     ]
    }
   ],
   "source": [
    "check_even_off(4555)"
   ]
  },
  {
   "cell_type": "markdown",
   "id": "efd5f1be",
   "metadata": {},
   "source": [
    "### ❓ Question 2: Find Maximum of Three Numbers\n",
    "- Write a function find_max(a, b, c) that takes three numbers and returns the largest one."
   ]
  },
  {
   "cell_type": "code",
   "execution_count": 21,
   "id": "ca882981",
   "metadata": {},
   "outputs": [],
   "source": [
    "def find_max(a,b,c):\n",
    "    return max(a,b,c)\n"
   ]
  },
  {
   "cell_type": "code",
   "execution_count": 22,
   "id": "0a9c9ab2",
   "metadata": {},
   "outputs": [
    {
     "name": "stdout",
     "output_type": "stream",
     "text": [
      "25\n"
     ]
    }
   ],
   "source": [
    "print(find_max(10, 25, 3))"
   ]
  },
  {
   "cell_type": "markdown",
   "id": "f3a8d7ca",
   "metadata": {},
   "source": [
    "### ❓ Question 1: Count Vowels in a String\n",
    "Write a function count_vowels(text) that takes a string and returns the number of vowels (a, e, i, o, u) in it.\n",
    "\n",
    "Example:"
   ]
  },
  {
   "cell_type": "code",
   "execution_count": 37,
   "id": "39e00cf1",
   "metadata": {},
   "outputs": [],
   "source": [
    "def count_vowels(string):\n",
    "    count = 0\n",
    "    vowels =['a', 'e', 'i', \"o\", \"u\"]\n",
    "    for i in string.lower():\n",
    "        if i in vowels:\n",
    "            count +=1\n",
    "\n",
    "    return count\n"
   ]
  },
  {
   "cell_type": "code",
   "execution_count": 38,
   "id": "93f84248",
   "metadata": {},
   "outputs": [
    {
     "data": {
      "text/plain": [
       "1"
      ]
     },
     "execution_count": 38,
     "metadata": {},
     "output_type": "execute_result"
    }
   ],
   "source": [
    "count_vowels(\"happy\")"
   ]
  },
  {
   "cell_type": "code",
   "execution_count": 39,
   "id": "05b0138b",
   "metadata": {},
   "outputs": [
    {
     "name": "stdout",
     "output_type": "stream",
     "text": [
      "3\n"
     ]
    }
   ],
   "source": [
    "print(count_vowels(\"Hello World\"))"
   ]
  },
  {
   "cell_type": "code",
   "execution_count": 51,
   "id": "ea2f4e13",
   "metadata": {},
   "outputs": [],
   "source": [
    "def count_vowels(string):\n",
    "    found = []\n",
    "    vowels = \"aeiou\"\n",
    "    count = 0\n",
    "    char_count ={ char : 0 for char in vowels}\n",
    "    for char in string.lower():\n",
    "        if char in char_count:\n",
    "            char_count[char] +=1\n",
    "            found.append(char)\n",
    "            count += 1\n",
    "    return count, set(found), char_count"
   ]
  },
  {
   "cell_type": "code",
   "execution_count": 52,
   "id": "42e7d67d",
   "metadata": {},
   "outputs": [
    {
     "data": {
      "text/plain": [
       "(14, {'a', 'e', 'i', 'o', 'u'}, {'a': 1, 'e': 2, 'i': 4, 'o': 4, 'u': 3})"
      ]
     },
     "execution_count": 52,
     "metadata": {},
     "output_type": "execute_result"
    }
   ],
   "source": [
    "count_vowels(\"ahdhsgdueooowohieiiiuulkk\")"
   ]
  },
  {
   "cell_type": "markdown",
   "id": "02fb29f7",
   "metadata": {},
   "source": [
    "### ❓ Question 2: Filter Even Numbers from a List\n",
    "Write a function filter_even(numbers) that takes a list of integers and returns a new list containing only the even numbers."
   ]
  },
  {
   "cell_type": "code",
   "execution_count": 57,
   "id": "216dabf9",
   "metadata": {},
   "outputs": [],
   "source": [
    "def filter_even(list1):\n",
    "    list2=[]\n",
    "    for i in list1:\n",
    "        if i%2==0:\n",
    "            list2.append(i)\n",
    "    return list2\n",
    "            "
   ]
  },
  {
   "cell_type": "code",
   "execution_count": 58,
   "id": "a12b21fb",
   "metadata": {},
   "outputs": [
    {
     "name": "stdout",
     "output_type": "stream",
     "text": [
      "[2, 4, 6]\n"
     ]
    }
   ],
   "source": [
    "print(filter_even([1, 2, 3, 4, 5, 6]))"
   ]
  },
  {
   "cell_type": "code",
   "execution_count": 60,
   "id": "1fbff499",
   "metadata": {},
   "outputs": [],
   "source": [
    "def filter_even(numbers):\n",
    "    return [i for i in numbers if i%2==0]"
   ]
  },
  {
   "cell_type": "code",
   "execution_count": 61,
   "id": "530bc3d1",
   "metadata": {},
   "outputs": [
    {
     "name": "stdout",
     "output_type": "stream",
     "text": [
      "[2, 4, 6]\n"
     ]
    }
   ],
   "source": [
    "print(filter_even([1, 2, 3, 4, 5, 6]))"
   ]
  },
  {
   "cell_type": "markdown",
   "id": "d5234ee0",
   "metadata": {},
   "source": [
    "## ***What is a Decorator?***\n",
    "A decorator in Python is a function that wraps another function to extend or modify its behavior without changing its code. It’s often used for logging, timing, access control, etc.\n",
    "\n"
   ]
  },
  {
   "cell_type": "markdown",
   "id": "6b17d082",
   "metadata": {},
   "source": [
    "Simple example without decorator syntax (@)"
   ]
  },
  {
   "cell_type": "code",
   "execution_count": 68,
   "id": "7df03809",
   "metadata": {},
   "outputs": [],
   "source": [
    "def greet():\n",
    "    print(\"Hello!\")"
   ]
  },
  {
   "cell_type": "markdown",
   "id": "2cf03634",
   "metadata": {},
   "source": [
    "You want to add some behavior before and after it runs, like printing messages.\n",
    "\n",
    "You can write a wrapper function like this:"
   ]
  },
  {
   "cell_type": "code",
   "execution_count": 70,
   "id": "362e05fc",
   "metadata": {},
   "outputs": [],
   "source": [
    "def wrapper (func):\n",
    "    def inner():\n",
    "        print(\"Before the function run\")\n",
    "        func()\n",
    "        print (\"After the function run\")\n",
    "    return inner\n",
    "              "
   ]
  },
  {
   "cell_type": "code",
   "execution_count": 71,
   "id": "7a429e2c",
   "metadata": {},
   "outputs": [
    {
     "name": "stdout",
     "output_type": "stream",
     "text": [
      "Before the function run\n",
      "Hello!\n",
      "After the function run\n"
     ]
    }
   ],
   "source": [
    "new_greet = wrapper(greet)\n",
    "new_greet()"
   ]
  },
  {
   "cell_type": "code",
   "execution_count": 72,
   "id": "77d86b38",
   "metadata": {},
   "outputs": [
    {
     "name": "stdout",
     "output_type": "stream",
     "text": [
      "Before the function run\n",
      "Hello!\n",
      "After the function run\n"
     ]
    }
   ],
   "source": [
    "@wrapper\n",
    "def greet():\n",
    "    print(\"Hello!\")\n",
    "\n",
    "greet()"
   ]
  },
  {
   "cell_type": "markdown",
   "id": "1ccd093f",
   "metadata": {},
   "source": [
    "### Question:\n",
    "Write a decorator called uppercase_decorator that converts the return value of any function to uppercase.\n",
    "\n",
    "Then, apply this decorator to a function greet() that returns the string \"hello world\""
   ]
  },
  {
   "cell_type": "code",
   "execution_count": 15,
   "id": "d930b1ad",
   "metadata": {},
   "outputs": [],
   "source": [
    "\n",
    "\n",
    "def uppercase_decorator(func):\n",
    "    def wrapper(sent):\n",
    "        return sent.upper()\n",
    "    return wrapper"
   ]
  },
  {
   "cell_type": "code",
   "execution_count": 18,
   "id": "4c607ef9",
   "metadata": {},
   "outputs": [
    {
     "data": {
      "text/plain": [
       "'KASHISH'"
      ]
     },
     "execution_count": 18,
     "metadata": {},
     "output_type": "execute_result"
    }
   ],
   "source": [
    "@uppercase_decorator\n",
    "\n",
    "def greet(sent):\n",
    "    print(sent)\n",
    "\n",
    "greet(\"Kashish\")"
   ]
  },
  {
   "cell_type": "markdown",
   "id": "5b5775eb",
   "metadata": {},
   "source": [
    "### Question:\n",
    "Write a decorator called debug_decorator that prints:\n",
    "\n",
    "\"Calling function...\" before the function runs, and\n",
    "\n",
    "\"Function finished.\" after it runs.\n",
    "\n",
    "Then, use this decorator on a function say_name() that returns \"My name is Python\".\n",
    "\n"
   ]
  },
  {
   "cell_type": "code",
   "execution_count": 25,
   "id": "b9952e77",
   "metadata": {},
   "outputs": [],
   "source": [
    "def dedug_decorator(func):\n",
    "    def wrapper():\n",
    "        print (\"Calling function\")\n",
    "        func()\n",
    "        print (\"Function finished\")\n",
    "    return wrapper\n"
   ]
  },
  {
   "cell_type": "code",
   "execution_count": 26,
   "id": "d62b89e4",
   "metadata": {},
   "outputs": [
    {
     "name": "stdout",
     "output_type": "stream",
     "text": [
      "Calling function\n",
      "My name is python\n",
      "Function finished\n"
     ]
    }
   ],
   "source": [
    "@dedug_decorator\n",
    "def say_name():\n",
    "    print (\"My name is python\")\n",
    "\n",
    "say_name()"
   ]
  },
  {
   "cell_type": "markdown",
   "id": "25996dc9",
   "metadata": {},
   "source": [
    "### Decorators with arguments (i.e., functions that take parameters).\n",
    "\n"
   ]
  },
  {
   "cell_type": "markdown",
   "id": "844dba55",
   "metadata": {},
   "source": [
    "- Question:\n",
    "Write a decorator called repeat(n) that repeats the execution of a function n times`.\n",
    "\n",
    "Then, use it to decorate a function say_hello() that prints \"Hello!\"."
   ]
  },
  {
   "cell_type": "code",
   "execution_count": 41,
   "id": "6b0d0170",
   "metadata": {},
   "outputs": [],
   "source": [
    "def repeat(n):\n",
    "    def decorator(func):\n",
    "        def wrapper(*args,**kwargs):\n",
    "            for _ in range(n):\n",
    "                func(*args,**kwargs)\n",
    "        return wrapper\n",
    "    return decorator"
   ]
  },
  {
   "cell_type": "code",
   "execution_count": 42,
   "id": "c45fdc0d",
   "metadata": {},
   "outputs": [],
   "source": [
    "@repeat(3)\n",
    "\n",
    "def say_hello(name):\n",
    "    print (f\"hello {name}\")\n"
   ]
  },
  {
   "cell_type": "code",
   "execution_count": 43,
   "id": "f525e651",
   "metadata": {},
   "outputs": [
    {
     "name": "stdout",
     "output_type": "stream",
     "text": [
      "hello alice\n",
      "hello alice\n",
      "hello alice\n"
     ]
    }
   ],
   "source": [
    "say_hello(\"alice\")"
   ]
  },
  {
   "cell_type": "markdown",
   "id": "808f99a4",
   "metadata": {},
   "source": [
    "- wrapper(*args, **kwargs) lets the decorator accept any arguments and pass them to the function.\n",
    "- This makes it reusable for any function, not just ones without arguments."
   ]
  },
  {
   "cell_type": "markdown",
   "id": "3bb7367f",
   "metadata": {},
   "source": [
    "### 🔹 *args and **kwargs — The Basics\n",
    "They are used in function definitions to accept a variable number of arguments."
   ]
  },
  {
   "cell_type": "markdown",
   "id": "d1643f0b",
   "metadata": {},
   "source": [
    "✅ *args (Non-keyworded arguments)\n",
    "- Collects extra positional arguments as a tuple."
   ]
  },
  {
   "cell_type": "code",
   "execution_count": 44,
   "id": "eee479d7",
   "metadata": {},
   "outputs": [
    {
     "name": "stdout",
     "output_type": "stream",
     "text": [
      "('apple', 'mango')\n"
     ]
    }
   ],
   "source": [
    "def hello(*args):\n",
    "    print (args)\n",
    "\n",
    "hello(\"apple\",\"mango\")"
   ]
  },
  {
   "cell_type": "markdown",
   "id": "93fc2c73",
   "metadata": {},
   "source": [
    "✅ **kwargs (Keyword arguments)\n",
    "- Collects extra keyword arguments as a dictionary."
   ]
  },
  {
   "cell_type": "code",
   "execution_count": 45,
   "id": "97f8b1ce",
   "metadata": {},
   "outputs": [
    {
     "name": "stdout",
     "output_type": "stream",
     "text": [
      "{'a': 1, 'b': 3}\n"
     ]
    }
   ],
   "source": [
    "def example(**kwargs):\n",
    "    print (kwargs)\n",
    "\n",
    "example(a =1 , b=3)"
   ]
  },
  {
   "cell_type": "markdown",
   "id": "9b205462",
   "metadata": {},
   "source": [
    "### 🔍 Why are they useful?\n",
    "You don’t need to know how many arguments will be passed.\n",
    "\n",
    "They're essential in decorators to allow wrapping any function — even if it has arguments."
   ]
  },
  {
   "cell_type": "markdown",
   "id": "be8b8713",
   "metadata": {},
   "source": [
    "### Q1  Write a function called print_details() that can accept:\\\n",
    "- Any number of positional arguments and print them as a list.\n",
    "- Any number of keyword arguments and print them as key-value pairs."
   ]
  },
  {
   "cell_type": "code",
   "execution_count": 52,
   "id": "c2f68b44",
   "metadata": {},
   "outputs": [],
   "source": [
    "def print_details(*args, **kwargs):\n",
    "    print (args)\n",
    "    print (kwargs)"
   ]
  },
  {
   "cell_type": "code",
   "execution_count": 54,
   "id": "5f84aab4",
   "metadata": {},
   "outputs": [
    {
     "name": "stdout",
     "output_type": "stream",
     "text": [
      "('apple', 'Mango')\n",
      "{'a': 1123, 'b': 3233}\n"
     ]
    }
   ],
   "source": [
    "print_details(\"apple\",\"Mango\", a=1123,b= 3233)"
   ]
  },
  {
   "cell_type": "markdown",
   "id": "c7859a7f",
   "metadata": {},
   "source": [
    "###  Exercise:\n",
    "- Write a function process_items(*items, **filters) that:\n",
    "\n",
    "-- Accepts a list of item names using *args (e.g., fruits).\n",
    "\n",
    "-- Accepts a keyword argument startswith in **kwargs.\n",
    "\n",
    "-- If startswith is provided, only print the items that start with that letter.\n",
    "\n",
    "Otherwise, print all items."
   ]
  },
  {
   "cell_type": "code",
   "execution_count": 59,
   "id": "4fda0120",
   "metadata": {},
   "outputs": [],
   "source": [
    "def process_items(*items, **filter):\n",
    "    if 'startswith' in filter:\n",
    "        start = filter[\"startswith\"]\n",
    "        print(f\"Filtered items (start with '{start}'):\")\n",
    "\n",
    "        for item in items:\n",
    "            if item.startswith(start):\n",
    "                print (item)\n",
    "    else:\n",
    "        print(\"All items:\")\n",
    "        for item in items:\n",
    "            print(item)\n",
    "        "
   ]
  },
  {
   "cell_type": "code",
   "execution_count": 60,
   "id": "e2e7989e",
   "metadata": {},
   "outputs": [
    {
     "name": "stdout",
     "output_type": "stream",
     "text": [
      "Filtered items (start with 'a'):\n",
      "apple\n",
      "apricot\n"
     ]
    }
   ],
   "source": [
    "process_items(\"apple\", \"banana\", \"apricot\", \"mango\", startswith=\"a\")\n",
    "# print(\"---\")\n",
    "# process_items(\"apple\", \"banana\", \"mango\")"
   ]
  },
  {
   "cell_type": "markdown",
   "id": "85164473",
   "metadata": {},
   "source": [
    "### Dictionary in python"
   ]
  },
  {
   "cell_type": "markdown",
   "id": "f5aa0c3f",
   "metadata": {},
   "source": [
    "### ***📚 Basic Definition of Dictionary:***\n",
    "\n",
    "A dictionary in Python is a collection of key-value pairs. It is unordered, mutable, and indexed by keys, which are unique and can be any immutable type (usually strings or numbers). Dictionaries are written with curly braces {}, with keys and values separated by colons."
   ]
  },
  {
   "cell_type": "code",
   "execution_count": 61,
   "id": "9e7e310c",
   "metadata": {},
   "outputs": [],
   "source": [
    "person = {\n",
    "    \"name\": \"Alice\",\n",
    "    \"age\": 30,\n",
    "    \"city\": \"New York\"\n",
    "}"
   ]
  },
  {
   "cell_type": "code",
   "execution_count": 63,
   "id": "b4618877",
   "metadata": {},
   "outputs": [
    {
     "data": {
      "text/plain": [
       "'Alice'"
      ]
     },
     "execution_count": 63,
     "metadata": {},
     "output_type": "execute_result"
    }
   ],
   "source": [
    "person[\"name\"]"
   ]
  },
  {
   "cell_type": "markdown",
   "id": "faf20c67",
   "metadata": {},
   "source": [
    "### Question 1: Create and Access Dictionary\n",
    "Create a dictionary called student with keys \"name\", \"grade\", and \"age\" and print the student's name and grade.\n",
    "\n"
   ]
  },
  {
   "cell_type": "code",
   "execution_count": 69,
   "id": "02ec9158",
   "metadata": {},
   "outputs": [],
   "source": [
    "student= {\"name\": \"Kashish\",\n",
    "                \"grade\": 1100,\n",
    "                \"age\":33}"
   ]
  },
  {
   "cell_type": "code",
   "execution_count": 70,
   "id": "1c1830d0",
   "metadata": {},
   "outputs": [
    {
     "name": "stdout",
     "output_type": "stream",
     "text": [
      "Name: Kashish\n",
      "Grade: 1100\n"
     ]
    }
   ],
   "source": [
    "print(\"Name:\", student[\"name\"])\n",
    "print(\"Grade:\", student[\"grade\"])"
   ]
  },
  {
   "cell_type": "markdown",
   "id": "81dbf5d0",
   "metadata": {},
   "source": [
    "### Question 2: Update and Add to Dictionary\n",
    "Given the dictionary below, update the \"age\" to 25 and add a new key \"city\" with the value \"London\". Then print the updated dictionary."
   ]
  },
  {
   "cell_type": "code",
   "execution_count": 71,
   "id": "3d90f26a",
   "metadata": {},
   "outputs": [],
   "source": [
    "person = {\n",
    "    \"name\": \"Emma\",\n",
    "    \"age\": 24\n",
    "}"
   ]
  },
  {
   "cell_type": "code",
   "execution_count": 72,
   "id": "07229903",
   "metadata": {},
   "outputs": [],
   "source": [
    "person[\"age\"] = 25\n",
    "person [\"city\"] = \"london\""
   ]
  },
  {
   "cell_type": "code",
   "execution_count": 74,
   "id": "2adc18c4",
   "metadata": {},
   "outputs": [
    {
     "name": "stdout",
     "output_type": "stream",
     "text": [
      "{'name': 'Emma', 'age': 25, 'city': 'london'}\n"
     ]
    }
   ],
   "source": [
    "print(person)"
   ]
  },
  {
   "cell_type": "markdown",
   "id": "8d632f1d",
   "metadata": {},
   "source": [
    "### Question 1: Count Frequencies of Elements in a List\n",
    "Write a function count_frequencies(data_list) that takes a list and returns a dictionary where the keys are the unique elements from the list and the values are their counts (frequencies)."
   ]
  },
  {
   "cell_type": "code",
   "execution_count": 78,
   "id": "c4577a51",
   "metadata": {},
   "outputs": [],
   "source": [
    "data = ['apple', 'banana', 'apple', 'orange', 'banana', 'apple']"
   ]
  },
  {
   "cell_type": "code",
   "execution_count": 82,
   "id": "4052140e",
   "metadata": {},
   "outputs": [],
   "source": [
    "def count_frequencies(data_list):\n",
    "    dict_1 ={}\n",
    "    \n",
    "    for item  in data_list:\n",
    "        if item in dict_1:\n",
    "           dict_1[item]+=1\n",
    "        else:\n",
    "            dict_1[item] =1\n",
    "    return dict_1\n"
   ]
  },
  {
   "cell_type": "code",
   "execution_count": 83,
   "id": "12f8ba5d",
   "metadata": {},
   "outputs": [
    {
     "data": {
      "text/plain": [
       "{'apple': 3, 'banana': 2, 'orange': 1}"
      ]
     },
     "execution_count": 83,
     "metadata": {},
     "output_type": "execute_result"
    }
   ],
   "source": [
    "count_frequencies(data)"
   ]
  },
  {
   "cell_type": "code",
   "execution_count": null,
   "id": "b3527ae6",
   "metadata": {},
   "outputs": [],
   "source": []
  },
  {
   "cell_type": "markdown",
   "id": "09037db8",
   "metadata": {},
   "source": [
    "- ### Q Write a function most_frequent_word(words) that:\n",
    "- Takes a list of words.\n",
    "- Counts the frequency of each word using a dictionary.\n",
    "- Returns the word with the highest frequency."
   ]
  },
  {
   "cell_type": "code",
   "execution_count": 86,
   "id": "73a1b8b9",
   "metadata": {},
   "outputs": [],
   "source": [
    "def most_frequent_word(words):\n",
    "    count = {}\n",
    "    for i in words:\n",
    "        if i in count:\n",
    "            count[i]+=1\n",
    "        else:\n",
    "            count[i] =1\n",
    "    return count\n"
   ]
  },
  {
   "cell_type": "code",
   "execution_count": 92,
   "id": "9b261bd4",
   "metadata": {},
   "outputs": [
    {
     "name": "stdout",
     "output_type": "stream",
     "text": [
      "{'data': 3, 'science': 1, 'python': 2, 'code': 1}\n"
     ]
    }
   ],
   "source": [
    "words = [\"data\", \"science\", \"data\", \"python\", \"data\", \"python\", \"code\"]\n",
    "wordss = most_frequent_word(words)\n",
    "print (wordss)"
   ]
  },
  {
   "cell_type": "code",
   "execution_count": 102,
   "id": "c78405e9",
   "metadata": {},
   "outputs": [
    {
     "data": {
      "text/plain": [
       "3"
      ]
     },
     "execution_count": 102,
     "metadata": {},
     "output_type": "execute_result"
    }
   ],
   "source": [
    "wordss.get(\"data\")"
   ]
  },
  {
   "cell_type": "code",
   "execution_count": null,
   "id": "48531282",
   "metadata": {},
   "outputs": [
    {
     "name": "stdout",
     "output_type": "stream",
     "text": [
      "Max: data → 3\n"
     ]
    }
   ],
   "source": [
    "max_value = max(wordss, key = wordss.get)\n",
    "\n",
    "print(f\"Max: {max_value} → {wordss[max_value]}\")"
   ]
  },
  {
   "cell_type": "markdown",
   "id": "d6f18022",
   "metadata": {},
   "source": [
    "### ✅ 11. Add a New Key-Value Pair"
   ]
  },
  {
   "cell_type": "code",
   "execution_count": 105,
   "id": "932e9756",
   "metadata": {},
   "outputs": [],
   "source": [
    "def add_entry(d, key, value):\n",
    "    d[key] = value\n",
    "    return d"
   ]
  },
  {
   "cell_type": "code",
   "execution_count": 106,
   "id": "fbe2dd1e",
   "metadata": {},
   "outputs": [
    {
     "name": "stdout",
     "output_type": "stream",
     "text": [
      "{'a': 1, 'b': 2, 'c': 3}\n"
     ]
    }
   ],
   "source": [
    "data = {\"a\": 1, \"b\": 2}\n",
    "print(add_entry(data, \"c\", 3))"
   ]
  },
  {
   "cell_type": "markdown",
   "id": "f6777617",
   "metadata": {},
   "source": [
    "### ✅ 12. Check if a Key Exists"
   ]
  },
  {
   "cell_type": "code",
   "execution_count": 112,
   "id": "5bcdae8a",
   "metadata": {},
   "outputs": [],
   "source": [
    "def has_key(d, key):\n",
    "    return key in d\n"
   ]
  },
  {
   "cell_type": "code",
   "execution_count": 113,
   "id": "21090ef6",
   "metadata": {},
   "outputs": [
    {
     "name": "stdout",
     "output_type": "stream",
     "text": [
      "True\n",
      "False\n"
     ]
    }
   ],
   "source": [
    "person = {\"name\": \"Alice\", \"age\": 25}\n",
    "print(has_key(person, \"age\"))  # True\n",
    "print(has_key(person, \"city\"))"
   ]
  },
  {
   "cell_type": "markdown",
   "id": "f025a228",
   "metadata": {},
   "source": [
    "### ✅ 3. Get All Keys or All Values"
   ]
  },
  {
   "cell_type": "code",
   "execution_count": 114,
   "id": "9a35be16",
   "metadata": {},
   "outputs": [
    {
     "name": "stdout",
     "output_type": "stream",
     "text": [
      "['x', 'y']\n",
      "[10, 20]\n"
     ]
    }
   ],
   "source": [
    "def get_keys(d):\n",
    "    return list(d.keys())\n",
    "\n",
    "def get_values(d):\n",
    "    return list(d.values())\n",
    "\n",
    "info = {\"x\": 10, \"y\": 20}\n",
    "print(get_keys(info))    # ['x', 'y']\n",
    "print(get_values(info))"
   ]
  },
  {
   "cell_type": "code",
   "execution_count": 115,
   "id": "e04958fd",
   "metadata": {},
   "outputs": [],
   "source": [
    "##remove a key\n",
    "\n",
    "def remove_key(d, key):\n",
    "    if key in d :\n",
    "        del d[key]\n",
    "    return d"
   ]
  },
  {
   "cell_type": "code",
   "execution_count": 116,
   "id": "f62e1183",
   "metadata": {},
   "outputs": [],
   "source": [
    "# Example\n",
    "data = {\"a\": 1, \"b\": 2}"
   ]
  },
  {
   "cell_type": "code",
   "execution_count": 117,
   "id": "c0c36a7e",
   "metadata": {},
   "outputs": [
    {
     "data": {
      "text/plain": [
       "{'b': 2}"
      ]
     },
     "execution_count": 117,
     "metadata": {},
     "output_type": "execute_result"
    }
   ],
   "source": [
    "remove_key(data, \"a\")"
   ]
  },
  {
   "cell_type": "markdown",
   "id": "264a2b81",
   "metadata": {},
   "source": [
    "### Question: Count Word Lengths\n",
    "Write a function word_length_counter(words) that:\n",
    "\n",
    "Takes a list of words.\n",
    "\n",
    "Returns a dictionary where:\n",
    "\n",
    "The keys are word lengths (e.g., 3, 5).\n",
    "\n",
    "The values are lists of words having that length.\n",
    "\n"
   ]
  },
  {
   "cell_type": "code",
   "execution_count": 20,
   "id": "9cce87c0",
   "metadata": {},
   "outputs": [],
   "source": [
    "def word_length_counter(words):\n",
    "    dict_count ={}\n",
    "    for word in words:\n",
    "        length = len(word)\n",
    "        if length in dict_count:\n",
    "            dict_count[length].append(word)\n",
    "        else:\n",
    "            dict_count[length] = [word]\n",
    "    return dict_count"
   ]
  },
  {
   "cell_type": "code",
   "execution_count": 21,
   "id": "31731528",
   "metadata": {},
   "outputs": [
    {
     "name": "stdout",
     "output_type": "stream",
     "text": [
      "{3: ['cat', 'bat', 'dog', 'sun'], 5: ['apple'], 6: ['python'], 4: ['code']}\n"
     ]
    }
   ],
   "source": [
    "words = [\"cat\", \"apple\", \"bat\", \"python\", \"dog\", \"sun\", \"code\"]\n",
    "print(word_length_counter(words))"
   ]
  },
  {
   "cell_type": "markdown",
   "id": "4d860aee",
   "metadata": {},
   "source": [
    "### Question 1: Count Number of Words by First Letter\n",
    "-  input - words = [\"apple\", \"ant\", \"bat\", \"banana\", \"cat\"]\n",
    "- output - {'a': 2, 'b': 2, 'c': 1}"
   ]
  },
  {
   "cell_type": "code",
   "execution_count": 22,
   "metadata": {},
   "outputs": [],
   "source": [
    "def  count_words_first_letter(words):\n",
    "    result = {}\n",
    "    for word in words:\n",
    "        first = word[0]\n",
    "        if first in result:\n",
    "            result[first] +=1\n",
    "        else:\n",
    "            result[first] =1\n",
    "\n",
    "    return result\n"
   ]
  },
  {
   "cell_type": "code",
   "execution_count": null,
   "id": "1abb6303",
   "metadata": {},
   "outputs": [
    {
     "data": {
      "text/plain": [
       "{'a': 2, 'b': 2, 'c': 1}"
      ]
     },
     "execution_count": 23,
     "metadata": {},
     "output_type": "execute_result"
    }
   ],
   "source": [
    "words = [\"apple\", \"ant\", \"bat\", \"banana\", \"cat\"]\n",
    "\n",
    "count_words_first_letter(words)"
   ]
  },
  {
   "cell_type": "markdown",
   "id": "6e741f5c",
   "metadata": {},
   "source": [
    "### Group Numbers by Remainder (mod 3)\n",
    "\n",
    "input = nums = [1, 2, 3, 4, 5, 6, 7, 8, 9]\n",
    "\n",
    "print(group_by_remainder(nums))\n",
    "\n",
    "output = {1: [1, 4, 7], 2: [2, 5, 8], 0: [3, 6, 9]}"
   ]
  },
  {
   "cell_type": "code",
   "execution_count": 28,
   "id": "67d8c794",
   "metadata": {},
   "outputs": [],
   "source": [
    "def group_by_remainder(nums):\n",
    "    result = {}\n",
    "\n",
    "    for num in nums:\n",
    "        remainder = num%3\n",
    "        if remainder in result:\n",
    "            result[remainder].append(num)\n",
    "        else:\n",
    "            result[remainder] = [num]\n",
    "    return result"
   ]
  },
  {
   "cell_type": "code",
   "execution_count": 29,
   "id": "e0a50c82",
   "metadata": {},
   "outputs": [
    {
     "name": "stdout",
     "output_type": "stream",
     "text": [
      "{1: [1, 4, 7], 2: [2, 5, 8], 0: [3, 6, 9]}\n"
     ]
    }
   ],
   "source": [
    "input = nums = [1, 2, 3, 4, 5, 6, 7, 8, 9]\n",
    "print(group_by_remainder(nums))"
   ]
  },
  {
   "cell_type": "markdown",
   "id": "2cea478c",
   "metadata": {},
   "source": [
    "### Question 3: Count Length of Each Unique Word"
   ]
  },
  {
   "cell_type": "code",
   "execution_count": 44,
   "id": "3231da92",
   "metadata": {},
   "outputs": [],
   "source": [
    "def word_lengths(words):\n",
    "    result ={}\n",
    "    for i in words:\n",
    "        result[i] = len(i)\n",
    "    return result\n",
    "        \n",
    "        "
   ]
  },
  {
   "cell_type": "code",
   "execution_count": 45,
   "id": "c4c6cf58",
   "metadata": {},
   "outputs": [
    {
     "name": "stdout",
     "output_type": "stream",
     "text": [
      "{'apple': 5, 'bat': 3, 'car': 3, 'Tea': 3}\n"
     ]
    }
   ],
   "source": [
    "words = [\"apple\", \"bat\", \"car\",\"apple\", \"Tea\"]\n",
    "print(word_lengths(words))\n"
   ]
  },
  {
   "cell_type": "code",
   "execution_count": null,
   "id": "d7942871",
   "metadata": {},
   "outputs": [],
   "source": []
  },
  {
   "cell_type": "markdown",
   "id": "db1de158",
   "metadata": {},
   "source": [
    "### ❓ Question 1: Group Words by Their Length\n",
    "Write a function group_by_length(words) that takes a list of words and returns a dictionary where:\n",
    "\n",
    "Keys are word lengths\n",
    "\n",
    "Values are lists of words of that length\n",
    "\n",
    "- input = [\"sun\", \"sky\", \"cloud\", \"rain\", \"storm\"]\n",
    "- output = {3: [\"sun\", \"sky\"], 5: [\"cloud\", \"storm\"], 4: [\"rain\"]}"
   ]
  },
  {
   "cell_type": "code",
   "execution_count": 48,
   "id": "2ed1e0a2",
   "metadata": {},
   "outputs": [],
   "source": [
    "def group_by_length(words):\n",
    "    result = {}\n",
    "\n",
    "    for word in words:\n",
    "        length = len(word)\n",
    "        if length in result:\n",
    "            result[length].append(word)\n",
    "        else:\n",
    "            result[length] = [word]\n",
    "    return result"
   ]
  },
  {
   "cell_type": "code",
   "execution_count": 49,
   "id": "addb019c",
   "metadata": {},
   "outputs": [
    {
     "data": {
      "text/plain": [
       "{3: ['sun', 'sky'], 5: ['cloud', 'storm'], 4: ['rain']}"
      ]
     },
     "execution_count": 49,
     "metadata": {},
     "output_type": "execute_result"
    }
   ],
   "source": [
    "words = [\"sun\", \"sky\", \"cloud\", \"rain\", \"storm\"]\n",
    "group_by_length(words)"
   ]
  },
  {
   "cell_type": "markdown",
   "id": "4c4b5800",
   "metadata": {},
   "source": [
    "### Question 2: Count Frequency of Each Character in a String\n",
    "\n",
    "Write a function char_frequency(text) that takes a string and returns a dictionary with the frequency of each character (ignore spaces).\n",
    "\n",
    "- input = \"\"data science\"\n",
    "- output ={'d': 1, 'a': 2, 't': 1, 's': 1, 'c': 2, 'i': 1, 'e': 2, 'n': 1}\n",
    "\n"
   ]
  },
  {
   "cell_type": "code",
   "execution_count": 79,
   "id": "0d494ccd",
   "metadata": {},
   "outputs": [],
   "source": [
    "def char_frequency(text):\n",
    "    result ={}\n",
    "\n",
    "    for i in text.lower():\n",
    "        if i == \" \":\n",
    "            continue\n",
    "        if i in result:\n",
    "            result[i] +=1\n",
    "        else:\n",
    "            result[i] =1\n",
    "    return result"
   ]
  },
  {
   "cell_type": "code",
   "execution_count": 80,
   "id": "37b927e0",
   "metadata": {},
   "outputs": [
    {
     "data": {
      "text/plain": [
       "{'k': 1, 'a': 2, 's': 2, 'h': 2, 'i': 2, 'v': 1, 'd': 1}"
      ]
     },
     "execution_count": 80,
     "metadata": {},
     "output_type": "execute_result"
    }
   ],
   "source": [
    "text = \"Kashish vaid\"\n",
    "char_frequency(text)\n"
   ]
  },
  {
   "cell_type": "markdown",
   "id": "2b69a44b",
   "metadata": {},
   "source": [
    "### Question 13: Count Each Number in a List\n",
    "Write a function count_numbers(nums) that counts how many times each number appears in a list and returns a dictionary."
   ]
  },
  {
   "cell_type": "code",
   "execution_count": 81,
   "id": "87227058",
   "metadata": {},
   "outputs": [],
   "source": [
    "def count_numbers(nums):\n",
    "    result = {}\n",
    "    for num in nums:\n",
    "        if num in result:\n",
    "            result[num] +=1\n",
    "        else:\n",
    "            result[num] = 1\n",
    "    return result"
   ]
  },
  {
   "cell_type": "code",
   "execution_count": 82,
   "id": "c4a51caf",
   "metadata": {},
   "outputs": [
    {
     "data": {
      "text/plain": [
       "{1: 3, 2: 2, 3: 1, 4: 1}"
      ]
     },
     "execution_count": 82,
     "metadata": {},
     "output_type": "execute_result"
    }
   ],
   "source": [
    "numbers = [1, 2, 2, 3, 1, 1, 4]\n",
    "count_numbers(numbers)"
   ]
  },
  {
   "cell_type": "markdown",
   "id": "35857831",
   "metadata": {},
   "source": [
    "### 🔥 Advanced Question 14: Count Word Frequencies Across Sentences\n",
    "Write a function word_frequency(sentences) that takes a list of sentences and returns a dictionary of word frequencies (case-insensitive)."
   ]
  },
  {
   "cell_type": "markdown",
   "id": "d332ffc2",
   "metadata": {},
   "source": [
    "input :\n",
    "\n",
    "sentences = [\n",
    "    \"Data is powerful\",\n",
    "    \"Python is powerful\",\n",
    "    \"Powerful tools build powerful solutions\"\n",
    "]"
   ]
  },
  {
   "cell_type": "markdown",
   "id": "dd785574",
   "metadata": {},
   "source": [
    "Output : {\n",
    "    'data': 1,\n",
    "    'is': 2,\n",
    "    'powerful': 4,\n",
    "    'python': 1,\n",
    "    'tools': 1,\n",
    "    'build': 1,\n",
    "    'solutions': 1\n",
    "}"
   ]
  },
  {
   "cell_type": "code",
   "execution_count": 93,
   "id": "0c83491c",
   "metadata": {},
   "outputs": [],
   "source": [
    "def word_frequency(sentences):\n",
    "    result = {}\n",
    "    for sent in sentences:\n",
    "        words = sent.lower().split()\n",
    "        for word in words:\n",
    "            if word in result:\n",
    "                result[word]+=1\n",
    "            else:\n",
    "                result[word] =1\n",
    "    return result"
   ]
  },
  {
   "cell_type": "code",
   "execution_count": 94,
   "id": "36b7055f",
   "metadata": {},
   "outputs": [
    {
     "name": "stdout",
     "output_type": "stream",
     "text": [
      "{'data': 1, 'is': 2, 'powerful': 4, 'python': 1, 'tools': 1, 'build': 1, 'solutions': 1}\n"
     ]
    }
   ],
   "source": [
    "sentences = [\n",
    "    \"Data is powerful\",\n",
    "    \"Python is powerful\",\n",
    "    \"Powerful tools build powerful solutions\"\n",
    "]\n",
    "\n",
    "\n",
    "print(word_frequency(sentences))"
   ]
  },
  {
   "cell_type": "code",
   "execution_count": null,
   "id": "9edf3e02",
   "metadata": {},
   "outputs": [],
   "source": []
  }
 ],
 "metadata": {
  "kernelspec": {
   "display_name": "base",
   "language": "python",
   "name": "python3"
  },
  "language_info": {
   "codemirror_mode": {
    "name": "ipython",
    "version": 3
   },
   "file_extension": ".py",
   "mimetype": "text/x-python",
   "name": "python",
   "nbconvert_exporter": "python",
   "pygments_lexer": "ipython3",
   "version": "3.12.7"
  }
 },
 "nbformat": 4,
 "nbformat_minor": 5
}
