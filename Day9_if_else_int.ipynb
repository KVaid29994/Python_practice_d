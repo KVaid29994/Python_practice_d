{
 "cells": [
  {
   "cell_type": "markdown",
   "id": "396e0aef",
   "metadata": {},
   "source": [
    "1. Odd or Even Checker\n",
    "Question:\n",
    "- Write a program that takes an integer input from the user and prints whether it is odd or even using an if-else statement."
   ]
  },
  {
   "cell_type": "code",
   "execution_count": 2,
   "id": "d7f71716",
   "metadata": {},
   "outputs": [
    {
     "name": "stdout",
     "output_type": "stream",
     "text": [
      "the number is even\n"
     ]
    }
   ],
   "source": [
    "num = int(input(\"Enter a number: \"))\n",
    "if num%2 == 0:\n",
    "    print (\"the number is even\")\n",
    "else:\n",
    "    print (\"the number is odd\")"
   ]
  },
  {
   "cell_type": "markdown",
   "id": "7b27dd2e",
   "metadata": {},
   "source": [
    "2. Find the Largest of Two Numbers\n",
    "\n",
    "Question:\n",
    "Write a program that takes two numbers as input and prints which number is greater using if-else."
   ]
  },
  {
   "cell_type": "code",
   "execution_count": 3,
   "id": "9f75f15c",
   "metadata": {},
   "outputs": [
    {
     "name": "stdout",
     "output_type": "stream",
     "text": [
      "The greater number is 24\n"
     ]
    }
   ],
   "source": [
    "num1 = int(input(\"Enter the first number: \"))\n",
    "num2 = int(input(\"Enter the second number: \"))\n",
    "\n",
    "if num1> num2:\n",
    "    print (f\"The greater number is {num1}\")\n",
    "else:\n",
    "    print (f\"The greater number is {num2}\")\n"
   ]
  },
  {
   "cell_type": "markdown",
   "id": "d5a92fd9",
   "metadata": {},
   "source": [
    "✅ 1. Grading System with Validation\n",
    "Question:\n",
    "Write a program that takes a student’s marks (0–100) as input and prints the grade according to the following rules:\n",
    "\n",
    "90–100: Grade A\n",
    "\n",
    "80–89: Grade B\n",
    "\n",
    "70–79: Grade C\n",
    "\n",
    "60–69: Grade D\n",
    "\n",
    "Below 60: Grade F\n",
    "Also, handle invalid inputs (e.g., negative or greater than 100) with an appropriate message.\n",
    "\n",
    "Logic Hint:\n",
    "Use if-elif-else with an outer if for validation."
   ]
  },
  {
   "cell_type": "code",
   "execution_count": 6,
   "id": "3a8ca0e2",
   "metadata": {},
   "outputs": [
    {
     "name": "stdout",
     "output_type": "stream",
     "text": [
      "Grade F\n"
     ]
    }
   ],
   "source": [
    "marks = int(input(\"Please enter the marks \"))\n",
    "if marks<0 or marks >100:\n",
    "    print(\"Please enter valid marks\")\n",
    "elif 90<=marks<=100:\n",
    "    print (\"Grade A\")\n",
    "elif 80<=marks<89:\n",
    "    print (\"Grade B\")\n",
    "elif 70<=marks<79:\n",
    "    print ( \"Grade C\")\n",
    "elif 60<=marks<69:\n",
    "    print (\"Grade D\")\n",
    "else:\n",
    "    print (\"Grade F\")"
   ]
  },
  {
   "cell_type": "markdown",
   "id": "1f744e5c",
   "metadata": {},
   "source": [
    "✅ 2. Traffic Signal Simulator\n",
    "Question:\n",
    "Write a program to simulate a traffic signal system. Take 2 inputs:\n",
    "\n",
    "- signal_color (Red, Yellow, Green)\n",
    "\n",
    "- is_emergency_vehicle (Yes/No)\n",
    "\n",
    "Rules:\n",
    "- If Red and not an emergency vehicle → Stop\n",
    "- If Red and emergency → Go with caution\n",
    "- If Yellow → Slow down\n",
    "\n",
    "- If Green → Go\n",
    "\n",
    "Logic Hint:\n",
    "Nested if within color condition for emergency check."
   ]
  },
  {
   "cell_type": "code",
   "execution_count": 12,
   "id": "201313b9",
   "metadata": {},
   "outputs": [
    {
     "name": "stdout",
     "output_type": "stream",
     "text": [
      "invalid color\n"
     ]
    }
   ],
   "source": [
    "signal_color = input(\"Enter the signal color\" )\n",
    "is_emergency_vehicle = input (\"Is yours an emergency vehicle , Pleae enter yes or no\")\n",
    "\n",
    "\n",
    "if signal_color == \"red\":\n",
    "        if is_emergency_vehicle ==\"yes\":\n",
    "            print (\"go with caution\")\n",
    "        else:\n",
    "            print (\"stop the car\")\n",
    "elif signal_color == \"yellow\":\n",
    "    print (\"Slow down\")\n",
    "elif signal_color == \"green\":\n",
    "    print (\"go\")\n",
    "else:\n",
    "    print(\"invalid color\")"
   ]
  },
  {
   "cell_type": "markdown",
   "id": "36f92a74",
   "metadata": {},
   "source": [
    "✅ 2. Leap Year Checker (Nested Conditions)\n",
    "Question:\n",
    "Write a program to check if a year is a leap year using nested if conditions.\n",
    "Rules:\n",
    "\n",
    "- Divisible by 4 → leap year\n",
    "- But if divisible by 100 → not a leap year\n",
    "- Unless divisible by 400 → leap year"
   ]
  },
  {
   "cell_type": "code",
   "execution_count": 20,
   "id": "3c3afddc",
   "metadata": {},
   "outputs": [
    {
     "name": "stdout",
     "output_type": "stream",
     "text": [
      "not a leap year\n"
     ]
    }
   ],
   "source": [
    "year = int(input(\"Please enter the year\"))\n",
    "\n",
    "if year%4 ==0:\n",
    "    if year%100 == 0:\n",
    "        if year%400 == 0:\n",
    "            print (\"year is a leap year\")\n",
    "        else:\n",
    "            print (\"Not a leap year\")\n",
    "    else:\n",
    "        print (\"leap year\")\n",
    "else:\n",
    "    print (\"not a leap year\")"
   ]
  },
  {
   "cell_type": "code",
   "execution_count": null,
   "id": "b40bd7d9",
   "metadata": {},
   "outputs": [],
   "source": []
  }
 ],
 "metadata": {
  "kernelspec": {
   "display_name": "base",
   "language": "python",
   "name": "python3"
  },
  "language_info": {
   "codemirror_mode": {
    "name": "ipython",
    "version": 3
   },
   "file_extension": ".py",
   "mimetype": "text/x-python",
   "name": "python",
   "nbconvert_exporter": "python",
   "pygments_lexer": "ipython3",
   "version": "3.12.7"
  }
 },
 "nbformat": 4,
 "nbformat_minor": 5
}
