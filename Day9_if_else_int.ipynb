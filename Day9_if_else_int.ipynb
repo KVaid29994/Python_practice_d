{
 "cells": [
  {
   "cell_type": "markdown",
   "id": "396e0aef",
   "metadata": {},
   "source": [
    "1. Odd or Even Checker\n",
    "Question:\n",
    "- Write a program that takes an integer input from the user and prints whether it is odd or even using an if-else statement."
   ]
  },
  {
   "cell_type": "code",
   "execution_count": 2,
   "id": "d7f71716",
   "metadata": {},
   "outputs": [
    {
     "name": "stdout",
     "output_type": "stream",
     "text": [
      "the number is even\n"
     ]
    }
   ],
   "source": [
    "num = int(input(\"Enter a number: \"))\n",
    "if num%2 == 0:\n",
    "    print (\"the number is even\")\n",
    "else:\n",
    "    print (\"the number is odd\")"
   ]
  },
  {
   "cell_type": "markdown",
   "id": "7b27dd2e",
   "metadata": {},
   "source": [
    "2. Find the Largest of Two Numbers\n",
    "\n",
    "Question:\n",
    "Write a program that takes two numbers as input and prints which number is greater using if-else."
   ]
  },
  {
   "cell_type": "code",
   "execution_count": 3,
   "id": "9f75f15c",
   "metadata": {},
   "outputs": [
    {
     "name": "stdout",
     "output_type": "stream",
     "text": [
      "The greater number is 24\n"
     ]
    }
   ],
   "source": [
    "num1 = int(input(\"Enter the first number: \"))\n",
    "num2 = int(input(\"Enter the second number: \"))\n",
    "\n",
    "if num1> num2:\n",
    "    print (f\"The greater number is {num1}\")\n",
    "else:\n",
    "    print (f\"The greater number is {num2}\")\n"
   ]
  },
  {
   "cell_type": "code",
   "execution_count": null,
   "id": "3a8ca0e2",
   "metadata": {},
   "outputs": [],
   "source": []
  }
 ],
 "metadata": {
  "kernelspec": {
   "display_name": "base",
   "language": "python",
   "name": "python3"
  },
  "language_info": {
   "codemirror_mode": {
    "name": "ipython",
    "version": 3
   },
   "file_extension": ".py",
   "mimetype": "text/x-python",
   "name": "python",
   "nbconvert_exporter": "python",
   "pygments_lexer": "ipython3",
   "version": "3.12.7"
  }
 },
 "nbformat": 4,
 "nbformat_minor": 5
}
