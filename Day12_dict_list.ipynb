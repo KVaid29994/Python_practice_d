{
 "cells": [
  {
   "cell_type": "markdown",
   "id": "26a6b2d8",
   "metadata": {},
   "source": [
    "## What is a Nested Dictionary?\n",
    "A nested dictionary is a dictionary within another dictionary."
   ]
  },
  {
   "cell_type": "code",
   "execution_count": 218,
   "id": "dac65e51",
   "metadata": {},
   "outputs": [],
   "source": [
    "students = {\n",
    "    'student1': {'name': 'Alex', 'age': 21},\n",
    "    'student2': {'name': 'Maya', 'age': 22}\n",
    "}\n"
   ]
  },
  {
   "cell_type": "code",
   "execution_count": 219,
   "id": "9b8b4924",
   "metadata": {},
   "outputs": [
    {
     "name": "stdout",
     "output_type": "stream",
     "text": [
      "student1: Alex is 21 years old.\n",
      "student2: Maya is 22 years old.\n"
     ]
    }
   ],
   "source": [
    "for sid, val in students.items():\n",
    "    print (f\"{sid}: {val['name']} is {val['age']} years old.\")"
   ]
  },
  {
   "cell_type": "markdown",
   "id": "6f753662",
   "metadata": {},
   "source": [
    "### 🧠 Question 1: Basic Level\n",
    "Prompt:\n",
    "\n",
    "Write a Python function get_student_age(data, student_id) that takes a nested dictionary of students and a student ID (like 'student2') and returns the age of that student. If the student does not exist, return \"Not found\"."
   ]
  },
  {
   "cell_type": "markdown",
   "id": "3611769a",
   "metadata": {},
   "source": [
    "students = {\n",
    "    'student1': {'name': 'Alex', 'age': 21},\n",
    "    'student2': {'name': 'Maya', 'age': 22}\n",
    "}\n",
    "\n",
    "get_student_age(students, 'student2')"
   ]
  },
  {
   "cell_type": "code",
   "execution_count": 220,
   "id": "60fcff51",
   "metadata": {},
   "outputs": [],
   "source": [
    "def get_student_age(data, student_id):\n",
    "    if student_id in data:\n",
    "        return data[student_id]['age']\n",
    "    else:\n",
    "        return \"Not found\""
   ]
  },
  {
   "cell_type": "code",
   "execution_count": 221,
   "id": "aec292d2",
   "metadata": {},
   "outputs": [
    {
     "data": {
      "text/plain": [
       "21"
      ]
     },
     "execution_count": 221,
     "metadata": {},
     "output_type": "execute_result"
    }
   ],
   "source": [
    "students = {\n",
    "    'student1': {'name': 'Alex', 'age': 21},\n",
    "    'student2': {'name': 'Maya', 'age': 22}\n",
    "}\n",
    "\n",
    "get_student_age(students, 'student1')"
   ]
  },
  {
   "cell_type": "markdown",
   "id": "106d8da0",
   "metadata": {},
   "source": [
    "### 🧠 Question 3: Add a New Student\n",
    "Prompt:\n",
    "\n",
    "Write a function add_student(data, student_id, name, age) that adds a new student to the nested dictionary.\n",
    "\n",
    "Example Input:"
   ]
  },
  {
   "cell_type": "code",
   "execution_count": 222,
   "id": "6b1aa4e7",
   "metadata": {},
   "outputs": [],
   "source": [
    "\n",
    "def add_student( data,student_id, name, age):\n",
    "    data[student_id] = {\"name\": name, \"age\": age}\n",
    "    return data"
   ]
  },
  {
   "cell_type": "code",
   "execution_count": 223,
   "id": "3c174c96",
   "metadata": {},
   "outputs": [],
   "source": [
    "students = {\n",
    "    'student1': {'name': 'Alex', 'age': 21}\n",
    "}"
   ]
  },
  {
   "cell_type": "code",
   "execution_count": 224,
   "id": "9ef584ba",
   "metadata": {},
   "outputs": [
    {
     "data": {
      "text/plain": [
       "{'student1': {'name': 'Alex', 'age': 21},\n",
       " 'student2': {'name': 'Kashish', 'age': 32}}"
      ]
     },
     "execution_count": 224,
     "metadata": {},
     "output_type": "execute_result"
    }
   ],
   "source": [
    "add_student(students,student_id=\"student2\", name= \"Kashish\", age=32)"
   ]
  },
  {
   "cell_type": "markdown",
   "id": "35354beb",
   "metadata": {},
   "source": [
    "### 🧠 Question 4: Count Students Above a Given Age\n",
    "Prompt:\n",
    "\n",
    "Write a function count_students_above_age(data, min_age) that returns the count of students whose age is greater than or equal to min_age."
   ]
  },
  {
   "cell_type": "code",
   "execution_count": 225,
   "id": "5280bd66",
   "metadata": {},
   "outputs": [],
   "source": [
    "def count_students_above_age(data, min_age):\n",
    "    count = 0\n",
    "    for student in data.values():\n",
    "        print (student)\n",
    "        if student[\"age\"] >= min_age:\n",
    "            count +=1\n",
    "    return count"
   ]
  },
  {
   "cell_type": "code",
   "execution_count": 226,
   "id": "953b9a0a",
   "metadata": {},
   "outputs": [
    {
     "name": "stdout",
     "output_type": "stream",
     "text": [
      "{'name': 'Alex', 'age': 21}\n",
      "{'name': 'Maya', 'age': 22}\n",
      "{'name': 'John', 'age': 19}\n"
     ]
    },
    {
     "data": {
      "text/plain": [
       "2"
      ]
     },
     "execution_count": 226,
     "metadata": {},
     "output_type": "execute_result"
    }
   ],
   "source": [
    "students = {\n",
    "    'student1': {'name': 'Alex', 'age': 21},\n",
    "    'student2': {'name': 'Maya', 'age': 22},\n",
    "    'student3': {'name': 'John', 'age': 19}\n",
    "}\n",
    "\n",
    "count_students_above_age(students, 21)"
   ]
  },
  {
   "cell_type": "markdown",
   "id": "8a621c4c",
   "metadata": {},
   "source": [
    "### 🧠 Question 5: Update Student's Age\n",
    "Prompt:\n",
    "\n",
    "Write a function update_student_age(data, student_id, new_age) that updates the age of a given student. If the student is not found, return \"Student not found\"."
   ]
  },
  {
   "cell_type": "code",
   "execution_count": 227,
   "id": "7a07d34c",
   "metadata": {},
   "outputs": [],
   "source": [
    "def update_student_age(data, student, new_age):\n",
    "    if student in data:\n",
    "        data[student]['age'] = new_age\n",
    "\n",
    "        return data[student]\n",
    "    else:\n",
    "        return \"student not found\""
   ]
  },
  {
   "cell_type": "code",
   "execution_count": 228,
   "id": "5d700e44",
   "metadata": {},
   "outputs": [],
   "source": [
    "students = {\n",
    "    'student1': {'name': 'Alex', 'age': 21},\n",
    "    'student2': {'name': 'Maya', 'age': 22}\n",
    "}\n"
   ]
  },
  {
   "cell_type": "code",
   "execution_count": 229,
   "id": "34d3dd9d",
   "metadata": {},
   "outputs": [
    {
     "data": {
      "text/plain": [
       "{'name': 'Alex', 'age': 25}"
      ]
     },
     "execution_count": 229,
     "metadata": {},
     "output_type": "execute_result"
    }
   ],
   "source": [
    "update_student_age(students, \"student1\", 25)\n"
   ]
  },
  {
   "cell_type": "code",
   "execution_count": 230,
   "id": "03574f6f",
   "metadata": {},
   "outputs": [
    {
     "data": {
      "text/plain": [
       "{'student1': {'name': 'Alex', 'age': 25},\n",
       " 'student2': {'name': 'Maya', 'age': 22}}"
      ]
     },
     "execution_count": 230,
     "metadata": {},
     "output_type": "execute_result"
    }
   ],
   "source": [
    "students"
   ]
  },
  {
   "cell_type": "markdown",
   "id": "f0680826",
   "metadata": {},
   "source": [
    "### 🧠 Question 6: Get All Student Names\n",
    "Prompt:\n",
    "\n",
    "Write a function get_all_student_names(data) that returns a list of all student names from the nested dictionary."
   ]
  },
  {
   "cell_type": "code",
   "execution_count": 231,
   "id": "5de780a5",
   "metadata": {},
   "outputs": [],
   "source": [
    "def get_all_student_names(data):\n",
    "    list_names = []\n",
    "    for students in data.values():\n",
    "       list_names.append(students[\"name\"])\n",
    "    return list_names"
   ]
  },
  {
   "cell_type": "code",
   "execution_count": 232,
   "id": "12af7368",
   "metadata": {},
   "outputs": [],
   "source": [
    "data = {'student1': {'name': 'Alex', 'age': 25},\n",
    " 'student2': {'name': 'Maya', 'age': 22}}"
   ]
  },
  {
   "cell_type": "code",
   "execution_count": 233,
   "id": "0b766147",
   "metadata": {},
   "outputs": [
    {
     "data": {
      "text/plain": [
       "['Alex', 'Maya']"
      ]
     },
     "execution_count": 233,
     "metadata": {},
     "output_type": "execute_result"
    }
   ],
   "source": [
    "get_all_student_names(data)"
   ]
  },
  {
   "cell_type": "markdown",
   "id": "4de195da",
   "metadata": {},
   "source": [
    "### 🧠 Question 7: Delete a Student Record\n",
    "Prompt:\n",
    "\n",
    "Write a function delete_student(data, student_id) that removes a student from the dictionary. If the student doesn't exist, return \"Student not found\"."
   ]
  },
  {
   "cell_type": "code",
   "execution_count": 234,
   "id": "46ba4786",
   "metadata": {},
   "outputs": [
    {
     "name": "stdout",
     "output_type": "stream",
     "text": [
      "{'student2': {'name': 'Maya', 'age': 22}}\n"
     ]
    }
   ],
   "source": [
    "def delete_student(data, student_id):\n",
    "    if student_id in data:\n",
    "        del data[student_id]\n",
    "        return data\n",
    "    else:\n",
    "        return \"Student not found\"\n",
    "\n",
    "# Example usage\n",
    "students = {\n",
    "    'student1': {'name': 'Alex', 'age': 21},\n",
    "    'student2': {'name': 'Maya', 'age': 22}\n",
    "}\n",
    "\n",
    "print(delete_student(students, 'student1'))\n"
   ]
  },
  {
   "cell_type": "markdown",
   "id": "bfa116d5",
   "metadata": {},
   "source": [
    "### 🧠 Question 8: Check if a Student Exists\n",
    "Prompt:\n",
    "\n",
    "Write a function student_exists(data, name) that returns True if any student in the nested dictionary has the given name, otherwise False."
   ]
  },
  {
   "cell_type": "code",
   "execution_count": 235,
   "id": "20c266a7",
   "metadata": {},
   "outputs": [],
   "source": [
    "def students_exists(data,name):\n",
    "    for student in data.values():\n",
    "        if student['name'] == name:\n",
    "            return True\n",
    "    else:\n",
    "        False    "
   ]
  },
  {
   "cell_type": "code",
   "execution_count": 236,
   "id": "7957392a",
   "metadata": {},
   "outputs": [],
   "source": [
    "students = {\n",
    "    'student1': {'name': 'Alex', 'age': 21},\n",
    "    'student2': {'name': 'Maya', 'age': 22}\n",
    "}"
   ]
  },
  {
   "cell_type": "code",
   "execution_count": 237,
   "id": "5b38cc62",
   "metadata": {},
   "outputs": [
    {
     "data": {
      "text/plain": [
       "True"
      ]
     },
     "execution_count": 237,
     "metadata": {},
     "output_type": "execute_result"
    }
   ],
   "source": [
    "students_exists(students, 'Maya')"
   ]
  },
  {
   "cell_type": "markdown",
   "id": "ab7dc35c",
   "metadata": {},
   "source": [
    "# **LIST**"
   ]
  },
  {
   "cell_type": "markdown",
   "id": "9f339739",
   "metadata": {},
   "source": [
    "- Q1: Append an Element\n",
    "        \n",
    "    - Write a function add_item(lst, item) that appends an item to the list."
   ]
  },
  {
   "cell_type": "code",
   "execution_count": 238,
   "id": "2e1e1931",
   "metadata": {},
   "outputs": [],
   "source": [
    "lst = [1,2,4]\n",
    "def add_item(lst, item):\n",
    "    lst.append(item)\n",
    "    return lst\n"
   ]
  },
  {
   "cell_type": "code",
   "execution_count": 239,
   "id": "ebf3c65b",
   "metadata": {},
   "outputs": [
    {
     "data": {
      "text/plain": [
       "[1, 2, 4, 5]"
      ]
     },
     "execution_count": 239,
     "metadata": {},
     "output_type": "execute_result"
    }
   ],
   "source": [
    "add_item(lst,5)"
   ]
  },
  {
   "cell_type": "markdown",
   "id": "6338852d",
   "metadata": {},
   "source": [
    "- Q2: Insert at Specific Position\n",
    "\n",
    "\n",
    "    - Write a function insert_at(lst, index, item) that inserts the item at the given index."
   ]
  },
  {
   "cell_type": "code",
   "execution_count": 240,
   "id": "fd67f059",
   "metadata": {},
   "outputs": [],
   "source": [
    "def insert_at(lst, index, item):\n",
    "    lst.insert(index, item)\n",
    "    return lst"
   ]
  },
  {
   "cell_type": "code",
   "execution_count": 241,
   "id": "2d3b4d97",
   "metadata": {},
   "outputs": [
    {
     "data": {
      "text/plain": [
       "[1, 10, 2, 4]"
      ]
     },
     "execution_count": 241,
     "metadata": {},
     "output_type": "execute_result"
    }
   ],
   "source": [
    "lst = [1,2,4]\n",
    "\n",
    "insert_at(lst, 1,10)"
   ]
  },
  {
   "cell_type": "markdown",
   "id": "9a67a2dd",
   "metadata": {},
   "source": [
    "- Q3: Update Value at Index\n",
    "    - Write a function update_item(lst, index, new_value) that updates the element at the given index."
   ]
  },
  {
   "cell_type": "code",
   "execution_count": 242,
   "id": "27314f81",
   "metadata": {},
   "outputs": [],
   "source": [
    "def update_item(lst, index, new_value):\n",
    "    lst[index] = new_value\n",
    "    return lst"
   ]
  },
  {
   "cell_type": "code",
   "execution_count": 243,
   "id": "8ecba8d9",
   "metadata": {},
   "outputs": [
    {
     "data": {
      "text/plain": [
       "[1, 2, 3]"
      ]
     },
     "execution_count": 243,
     "metadata": {},
     "output_type": "execute_result"
    }
   ],
   "source": [
    "lst = [1,2,4]\n",
    "update_item(lst,2,3)"
   ]
  },
  {
   "cell_type": "markdown",
   "id": "0fc0b933",
   "metadata": {},
   "source": [
    "- Q4: Delete by Index   \n",
    "    - Write a function delete_by_index(lst, index) that removes the item at the specified index."
   ]
  },
  {
   "cell_type": "code",
   "execution_count": 244,
   "id": "3cb69bc4",
   "metadata": {},
   "outputs": [],
   "source": [
    "def delete_by_index(lst,index):\n",
    "    del lst[index]\n",
    "    return lst"
   ]
  },
  {
   "cell_type": "code",
   "execution_count": 245,
   "id": "002c3a73",
   "metadata": {},
   "outputs": [
    {
     "data": {
      "text/plain": [
       "[1, 2, 4, 55]"
      ]
     },
     "execution_count": 245,
     "metadata": {},
     "output_type": "execute_result"
    }
   ],
   "source": [
    "lst = [1,2,4,44,55]\n",
    "\n",
    "delete_by_index(lst,3)"
   ]
  },
  {
   "cell_type": "markdown",
   "id": "d564c6b0",
   "metadata": {},
   "source": [
    "- Q5: Remove by Value\n",
    "    - Write a function remove_value(lst, value) that removes the first occurrence of the given value."
   ]
  },
  {
   "cell_type": "code",
   "execution_count": 246,
   "id": "7726299f",
   "metadata": {},
   "outputs": [],
   "source": [
    "def remove_value(lst,value):\n",
    "    lst.remove(value)\n",
    "    return lst"
   ]
  },
  {
   "cell_type": "code",
   "execution_count": 247,
   "id": "193c8f44",
   "metadata": {},
   "outputs": [
    {
     "data": {
      "text/plain": [
       "[1, 2, 4, 55]"
      ]
     },
     "execution_count": 247,
     "metadata": {},
     "output_type": "execute_result"
    }
   ],
   "source": [
    "lst = [1,2,4,44,55]\n",
    "\n",
    "remove_value(lst, 44)"
   ]
  },
  {
   "cell_type": "markdown",
   "id": "b03dd1c8",
   "metadata": {},
   "source": [
    "- Q6: Get List Length\n",
    "Write a function list_length(lst) that returns the number of items in the list."
   ]
  },
  {
   "cell_type": "code",
   "execution_count": 248,
   "id": "cae29ded",
   "metadata": {},
   "outputs": [],
   "source": [
    "def list_length(lst):\n",
    "    return len(lst)"
   ]
  },
  {
   "cell_type": "code",
   "execution_count": 249,
   "id": "09599b74",
   "metadata": {},
   "outputs": [
    {
     "data": {
      "text/plain": [
       "5"
      ]
     },
     "execution_count": 249,
     "metadata": {},
     "output_type": "execute_result"
    }
   ],
   "source": [
    "lst = [1,2,4,44,55]\n",
    "list_length(lst)"
   ]
  },
  {
   "cell_type": "markdown",
   "id": "a476c2e6",
   "metadata": {},
   "source": [
    "-  Q7: Find Index of Value\n",
    "    - Write a function find_index(lst, value) that returns the index of the first occurrence of the value. Return \"Not found\" if it doesn’t exist."
   ]
  },
  {
   "cell_type": "code",
   "execution_count": 250,
   "id": "4601db47",
   "metadata": {},
   "outputs": [],
   "source": [
    "def find_index(lst,value):\n",
    "  return lst.index(value)"
   ]
  },
  {
   "cell_type": "code",
   "execution_count": 251,
   "id": "447e3d35",
   "metadata": {},
   "outputs": [
    {
     "data": {
      "text/plain": [
       "1"
      ]
     },
     "execution_count": 251,
     "metadata": {},
     "output_type": "execute_result"
    }
   ],
   "source": [
    "lst = [1,2,4,44,55]\n",
    "find_index(lst,2)"
   ]
  },
  {
   "cell_type": "markdown",
   "id": "540f4996",
   "metadata": {},
   "source": [
    "- Q8: Slice List\n",
    "    - Write a function get_sublist(lst, start, end) that returns a sublist from index start to end - 1."
   ]
  },
  {
   "cell_type": "code",
   "execution_count": 252,
   "id": "ee47d9a0",
   "metadata": {},
   "outputs": [],
   "source": [
    "def get_sublist(lst, start,):\n",
    "    return lst[start:len(lst)+1]"
   ]
  },
  {
   "cell_type": "code",
   "execution_count": 253,
   "id": "331c1688",
   "metadata": {},
   "outputs": [
    {
     "data": {
      "text/plain": [
       "[4, 44, 55]"
      ]
     },
     "execution_count": 253,
     "metadata": {},
     "output_type": "execute_result"
    }
   ],
   "source": [
    "lst = [1,2,4,44,55]\n",
    "get_sublist(lst,2)"
   ]
  },
  {
   "cell_type": "markdown",
   "id": "bb4d6444",
   "metadata": {},
   "source": [
    "-  Q9: Check if Value Exists\n",
    "    - Write a function check_exists(lst, value) that returns True if the value is in the list, otherwise False."
   ]
  },
  {
   "cell_type": "code",
   "execution_count": 254,
   "id": "6d1dceaa",
   "metadata": {},
   "outputs": [],
   "source": [
    "def check_exists(lst,value):\n",
    "    for item in lst:\n",
    "        if item ==value:\n",
    "            return True\n",
    "    return False"
   ]
  },
  {
   "cell_type": "code",
   "execution_count": 256,
   "id": "656e3d5e",
   "metadata": {},
   "outputs": [],
   "source": [
    "def check_exist2(lst,value):\n",
    "    return value in lst"
   ]
  },
  {
   "cell_type": "code",
   "execution_count": 258,
   "id": "7af13b7b",
   "metadata": {},
   "outputs": [
    {
     "data": {
      "text/plain": [
       "False"
      ]
     },
     "execution_count": 258,
     "metadata": {},
     "output_type": "execute_result"
    }
   ],
   "source": [
    "lst = [1,3,4,4,5,5,4]\n",
    "check_exists(lst,2)\n",
    "check_exist2(lst,434)"
   ]
  },
  {
   "cell_type": "markdown",
   "id": "19111a1c",
   "metadata": {},
   "source": [
    "- Q10: Count Occurrences\n",
    "    - Write a function count_occurrences(lst, value) that returns how many times the value appears in the list."
   ]
  },
  {
   "cell_type": "code",
   "execution_count": 261,
   "id": "6cbe9ed5",
   "metadata": {},
   "outputs": [],
   "source": [
    "def count_occurences(lst,value):\n",
    "    count = 0\n",
    "    for i in lst:\n",
    "        if i ==value:\n",
    "            count +=1\n",
    "    return count\n",
    "    "
   ]
  },
  {
   "cell_type": "code",
   "execution_count": 262,
   "id": "54362273",
   "metadata": {},
   "outputs": [
    {
     "data": {
      "text/plain": [
       "3"
      ]
     },
     "execution_count": 262,
     "metadata": {},
     "output_type": "execute_result"
    }
   ],
   "source": [
    "list1 =[12,3,3,3,6,7]\n",
    "\n",
    "count_occurences(list1, 3)"
   ]
  },
  {
   "cell_type": "code",
   "execution_count": 263,
   "id": "01db7ac3",
   "metadata": {},
   "outputs": [],
   "source": [
    "def count_occurrences(lst, value):\n",
    "    return lst.count(value)"
   ]
  },
  {
   "cell_type": "code",
   "execution_count": 266,
   "id": "0450310d",
   "metadata": {},
   "outputs": [
    {
     "data": {
      "text/plain": [
       "1"
      ]
     },
     "execution_count": 266,
     "metadata": {},
     "output_type": "execute_result"
    }
   ],
   "source": [
    "list1 =[12,3,3,3,6,7,12,444,22]\n",
    "\n",
    "count_occurences(list1, 444)"
   ]
  },
  {
   "cell_type": "markdown",
   "id": "7a7644b1",
   "metadata": {},
   "source": [
    "### LIST PART 2"
   ]
  },
  {
   "cell_type": "markdown",
   "id": "2ba39108",
   "metadata": {},
   "source": [
    "- Q1: Remove Duplicates\n",
    "    - Write a function remove_duplicates(lst) that removes duplicates while preserving order."
   ]
  },
  {
   "cell_type": "code",
   "execution_count": 290,
   "id": "dd507b38",
   "metadata": {},
   "outputs": [],
   "source": [
    "def remove_duplicates(lst):\n",
    "    seen = set()\n",
    "    result = []\n",
    "    for item in lst:\n",
    "        if item not in seen:\n",
    "            seen.add(item)\n",
    "            result.append(item)\n",
    "            \n",
    "    return result"
   ]
  },
  {
   "cell_type": "code",
   "execution_count": 291,
   "id": "ca402948",
   "metadata": {},
   "outputs": [
    {
     "data": {
      "text/plain": [
       "[12, 3, 4, 5]"
      ]
     },
     "execution_count": 291,
     "metadata": {},
     "output_type": "execute_result"
    }
   ],
   "source": [
    "lst = [12,3,4,5,5,5]\n",
    "\n",
    "remove_duplicates(lst)"
   ]
  },
  {
   "cell_type": "markdown",
   "id": "a2fdda37",
   "metadata": {},
   "source": [
    "- Q2: Get Even Numbers\n",
    "    - Write a function get_even_numbers(lst) that returns a new list of even numbers only."
   ]
  },
  {
   "cell_type": "code",
   "execution_count": 292,
   "id": "51ae8a60",
   "metadata": {},
   "outputs": [],
   "source": [
    "def get_even_numbers(lst):\n",
    "    lst_even =[]\n",
    "    for item in lst:\n",
    "        if item%2==0:\n",
    "            lst_even.append(item)\n",
    "    return lst_even"
   ]
  },
  {
   "cell_type": "code",
   "execution_count": 293,
   "id": "0b30adf9",
   "metadata": {},
   "outputs": [
    {
     "data": {
      "text/plain": [
       "[12, 4, 50, 56]"
      ]
     },
     "execution_count": 293,
     "metadata": {},
     "output_type": "execute_result"
    }
   ],
   "source": [
    "lst = [12,3,4,50,5,56,341]\n",
    "\n",
    "get_even_numbers(lst)"
   ]
  },
  {
   "cell_type": "markdown",
   "id": "47b07633",
   "metadata": {},
   "source": [
    "- Q3: Reverse a List\n",
    "     - Write a function reverse_list(lst) that returns the reversed list without using [::-1]."
   ]
  },
  {
   "cell_type": "code",
   "execution_count": 1,
   "id": "41ac02ba",
   "metadata": {},
   "outputs": [],
   "source": [
    "def reverse_list(lst):\n",
    "    reversed_lst=[]\n",
    "    for item in lst:\n",
    "        reversed_lst.insert(0,item)\n",
    "    return reversed_lst\n"
   ]
  },
  {
   "cell_type": "code",
   "execution_count": 2,
   "id": "ac07d691",
   "metadata": {},
   "outputs": [
    {
     "data": {
      "text/plain": [
       "[6, 6, 5, 34, 1]"
      ]
     },
     "execution_count": 2,
     "metadata": {},
     "output_type": "execute_result"
    }
   ],
   "source": [
    "lst=[1,34,5,6,6]\n",
    "\n",
    "reverse_list(lst)"
   ]
  },
  {
   "cell_type": "code",
   "execution_count": null,
   "id": "b54eef0b",
   "metadata": {},
   "outputs": [],
   "source": []
  }
 ],
 "metadata": {
  "kernelspec": {
   "display_name": "base",
   "language": "python",
   "name": "python3"
  },
  "language_info": {
   "codemirror_mode": {
    "name": "ipython",
    "version": 3
   },
   "file_extension": ".py",
   "mimetype": "text/x-python",
   "name": "python",
   "nbconvert_exporter": "python",
   "pygments_lexer": "ipython3",
   "version": "3.12.7"
  }
 },
 "nbformat": 4,
 "nbformat_minor": 5
}
