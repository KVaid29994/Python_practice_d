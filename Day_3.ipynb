{
 "cells": [
  {
   "cell_type": "markdown",
   "id": "53865a02",
   "metadata": {},
   "source": [
    "14. Find the First Non-Repeating Character in a String\n",
    "\n",
    "Write a function to return the first character in a string that does not repeat. If all characters repeat, return None."
   ]
  },
  {
   "cell_type": "code",
   "execution_count": 21,
   "id": "9b7ef34b",
   "metadata": {},
   "outputs": [],
   "source": [
    "from collections import Counter\n",
    "\n",
    "def non_repeating_char(text):\n",
    "    count = Counter(text)\n",
    "    for i in text:\n",
    "        if count[i] ==2:\n",
    "           return i\n",
    "    return None"
   ]
  },
  {
   "cell_type": "markdown",
   "id": "ed3b196a",
   "metadata": {},
   "source": [
    "15. Merge Two Sorted Lists into One Sorted List (without sort())"
   ]
  },
  {
   "cell_type": "code",
   "execution_count": 24,
   "id": "0a5b5871",
   "metadata": {},
   "outputs": [],
   "source": [
    "def merge_sorted_list(list1, list2):\n",
    "    merged = []\n",
    "    i = j = 0\n",
    "\n",
    "    while i< len(list1) and j< len(list2):\n",
    "        if list1[i] < list2[j]:\n",
    "            merged.append(list1[i])\n",
    "            i +=1\n",
    "        else:\n",
    "            merged.append(list2[j])\n",
    "            j +=1\n",
    "\n",
    "    merged.extend(list1[i:])\n",
    "    merged.extend(list2[j:])\n",
    "\n",
    "    return merged\n"
   ]
  },
  {
   "cell_type": "code",
   "execution_count": 26,
   "id": "547fffbe",
   "metadata": {},
   "outputs": [
    {
     "name": "stdout",
     "output_type": "stream",
     "text": [
      "[1, 2, 3, 4, 5, 6]\n"
     ]
    }
   ],
   "source": [
    "print(merge_sorted_list([1, 3, 5], [2, 4, 6]))"
   ]
  },
  {
   "cell_type": "markdown",
   "id": "4dfa88a4",
   "metadata": {},
   "source": [
    " 16. Find the Missing Number in a List from 1 to N"
   ]
  },
  {
   "cell_type": "code",
   "execution_count": 4,
   "id": "dcee2eee",
   "metadata": {},
   "outputs": [],
   "source": [
    "def find_missing_number(nums):\n",
    "    n = len(nums) + 1\n",
    "    current_sum = n*(n+1)//2\n",
    "    expected_sum = sum(nums)\n",
    "\n",
    "    return current_sum - expected_sum"
   ]
  },
  {
   "cell_type": "code",
   "execution_count": 5,
   "id": "f0708f58",
   "metadata": {},
   "outputs": [
    {
     "data": {
      "text/plain": [
       "8"
      ]
     },
     "execution_count": 5,
     "metadata": {},
     "output_type": "execute_result"
    }
   ],
   "source": [
    "find_missing_number([1,2,3,4,5,6,7,9])"
   ]
  },
  {
   "cell_type": "markdown",
   "id": "eaa89b19",
   "metadata": {},
   "source": [
    " 17. Check if a String is a Pangram\n",
    "\n",
    "- Write a function to check if a string is a pangram (contains every letter of the alphabet at least once)."
   ]
  },
  {
   "cell_type": "code",
   "execution_count": 8,
   "id": "2144ddea",
   "metadata": {},
   "outputs": [],
   "source": [
    "import string\n",
    "\n",
    "def check_pangram(sent):\n",
    "    alphabet = set(string.ascii_lowercase)\n",
    "    return alphabet <= set(sent.lower())  "
   ]
  },
  {
   "cell_type": "code",
   "execution_count": 9,
   "id": "31488180",
   "metadata": {},
   "outputs": [
    {
     "data": {
      "text/plain": [
       "True"
      ]
     },
     "execution_count": 9,
     "metadata": {},
     "output_type": "execute_result"
    }
   ],
   "source": [
    "check_pangram(\"The quick brown fox jumps over the lazy dog\"  )"
   ]
  },
  {
   "cell_type": "markdown",
   "id": "602a6928",
   "metadata": {},
   "source": [
    "18. Flatten a Nested List\n",
    "- Write a function that flattens a list of arbitrarily nested lists into a single list."
   ]
  },
  {
   "cell_type": "code",
   "execution_count": 13,
   "id": "2666f96a",
   "metadata": {},
   "outputs": [],
   "source": [
    "def flatten_list(nested_list):\n",
    "    result = []\n",
    "\n",
    "    for item in nested_list:\n",
    "        if isinstance(item, list):\n",
    "            result.extend(flatten_list(item))\n",
    "        else:\n",
    "            result.append(item)\n",
    "\n",
    "    return result\n"
   ]
  },
  {
   "cell_type": "code",
   "execution_count": 14,
   "id": "dcb0f639",
   "metadata": {},
   "outputs": [
    {
     "name": "stdout",
     "output_type": "stream",
     "text": [
      "[1, 2, 3, 4, 5, 6]\n"
     ]
    }
   ],
   "source": [
    "print(flatten_list([1, [2, [3, 4], 5], 6]))"
   ]
  },
  {
   "cell_type": "code",
   "execution_count": 18,
   "id": "8518442c",
   "metadata": {},
   "outputs": [
    {
     "name": "stdout",
     "output_type": "stream",
     "text": [
      "a\n",
      "p\n",
      "p\n",
      "l\n",
      "e\n"
     ]
    }
   ],
   "source": [
    "string1 = \"apple\"\n",
    "\n",
    "for item in string1:\n",
    "    if isinstance(item,str):\n",
    "        print (item)\n",
    "    else:\n",
    "        print (\"NA\")"
   ]
  },
  {
   "cell_type": "code",
   "execution_count": null,
   "id": "c244cf77",
   "metadata": {},
   "outputs": [],
   "source": []
  }
 ],
 "metadata": {
  "kernelspec": {
   "display_name": "base",
   "language": "python",
   "name": "python3"
  },
  "language_info": {
   "codemirror_mode": {
    "name": "ipython",
    "version": 3
   },
   "file_extension": ".py",
   "mimetype": "text/x-python",
   "name": "python",
   "nbconvert_exporter": "python",
   "pygments_lexer": "ipython3",
   "version": "3.12.7"
  }
 },
 "nbformat": 4,
 "nbformat_minor": 5
}
