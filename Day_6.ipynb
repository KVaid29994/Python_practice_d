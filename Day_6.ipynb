{
 "cells": [
  {
   "cell_type": "markdown",
   "id": "05ee309f",
   "metadata": {},
   "source": [
    "## Practice pandas  "
   ]
  },
  {
   "cell_type": "code",
   "execution_count": 1,
   "id": "c2c06a6f",
   "metadata": {},
   "outputs": [],
   "source": [
    "\n",
    "import numpy as np\n",
    "import pandas as pd"
   ]
  },
  {
   "cell_type": "code",
   "execution_count": 2,
   "id": "f824d230",
   "metadata": {},
   "outputs": [
    {
     "data": {
      "text/html": [
       "<div>\n",
       "<style scoped>\n",
       "    .dataframe tbody tr th:only-of-type {\n",
       "        vertical-align: middle;\n",
       "    }\n",
       "\n",
       "    .dataframe tbody tr th {\n",
       "        vertical-align: top;\n",
       "    }\n",
       "\n",
       "    .dataframe thead th {\n",
       "        text-align: right;\n",
       "    }\n",
       "</style>\n",
       "<table border=\"1\" class=\"dataframe\">\n",
       "  <thead>\n",
       "    <tr style=\"text-align: right;\">\n",
       "      <th></th>\n",
       "      <th>total_bill</th>\n",
       "      <th>tip</th>\n",
       "      <th>sex</th>\n",
       "      <th>smoker</th>\n",
       "      <th>day</th>\n",
       "      <th>time</th>\n",
       "      <th>size</th>\n",
       "      <th>price_per_person</th>\n",
       "      <th>Payer Name</th>\n",
       "      <th>CC Number</th>\n",
       "      <th>Payment ID</th>\n",
       "    </tr>\n",
       "  </thead>\n",
       "  <tbody>\n",
       "    <tr>\n",
       "      <th>0</th>\n",
       "      <td>16.99</td>\n",
       "      <td>1.01</td>\n",
       "      <td>Female</td>\n",
       "      <td>No</td>\n",
       "      <td>Sun</td>\n",
       "      <td>Dinner</td>\n",
       "      <td>2</td>\n",
       "      <td>8.49</td>\n",
       "      <td>Christy Cunningham</td>\n",
       "      <td>3560325168603410</td>\n",
       "      <td>Sun2959</td>\n",
       "    </tr>\n",
       "    <tr>\n",
       "      <th>1</th>\n",
       "      <td>10.34</td>\n",
       "      <td>1.66</td>\n",
       "      <td>Male</td>\n",
       "      <td>No</td>\n",
       "      <td>Sun</td>\n",
       "      <td>Dinner</td>\n",
       "      <td>3</td>\n",
       "      <td>3.45</td>\n",
       "      <td>Douglas Tucker</td>\n",
       "      <td>4478071379779230</td>\n",
       "      <td>Sun4608</td>\n",
       "    </tr>\n",
       "    <tr>\n",
       "      <th>2</th>\n",
       "      <td>21.01</td>\n",
       "      <td>3.50</td>\n",
       "      <td>Male</td>\n",
       "      <td>No</td>\n",
       "      <td>Sun</td>\n",
       "      <td>Dinner</td>\n",
       "      <td>3</td>\n",
       "      <td>7.00</td>\n",
       "      <td>Travis Walters</td>\n",
       "      <td>6011812112971322</td>\n",
       "      <td>Sun4458</td>\n",
       "    </tr>\n",
       "    <tr>\n",
       "      <th>3</th>\n",
       "      <td>23.68</td>\n",
       "      <td>3.31</td>\n",
       "      <td>Male</td>\n",
       "      <td>No</td>\n",
       "      <td>Sun</td>\n",
       "      <td>Dinner</td>\n",
       "      <td>2</td>\n",
       "      <td>11.84</td>\n",
       "      <td>Nathaniel Harris</td>\n",
       "      <td>4676137647685994</td>\n",
       "      <td>Sun5260</td>\n",
       "    </tr>\n",
       "    <tr>\n",
       "      <th>4</th>\n",
       "      <td>24.59</td>\n",
       "      <td>3.61</td>\n",
       "      <td>Female</td>\n",
       "      <td>No</td>\n",
       "      <td>Sun</td>\n",
       "      <td>Dinner</td>\n",
       "      <td>4</td>\n",
       "      <td>6.15</td>\n",
       "      <td>Tonya Carter</td>\n",
       "      <td>4832732618637221</td>\n",
       "      <td>Sun2251</td>\n",
       "    </tr>\n",
       "  </tbody>\n",
       "</table>\n",
       "</div>"
      ],
      "text/plain": [
       "   total_bill   tip     sex smoker  day    time  size  price_per_person  \\\n",
       "0       16.99  1.01  Female     No  Sun  Dinner     2              8.49   \n",
       "1       10.34  1.66    Male     No  Sun  Dinner     3              3.45   \n",
       "2       21.01  3.50    Male     No  Sun  Dinner     3              7.00   \n",
       "3       23.68  3.31    Male     No  Sun  Dinner     2             11.84   \n",
       "4       24.59  3.61  Female     No  Sun  Dinner     4              6.15   \n",
       "\n",
       "           Payer Name         CC Number Payment ID  \n",
       "0  Christy Cunningham  3560325168603410    Sun2959  \n",
       "1      Douglas Tucker  4478071379779230    Sun4608  \n",
       "2      Travis Walters  6011812112971322    Sun4458  \n",
       "3    Nathaniel Harris  4676137647685994    Sun5260  \n",
       "4        Tonya Carter  4832732618637221    Sun2251  "
      ]
     },
     "execution_count": 2,
     "metadata": {},
     "output_type": "execute_result"
    }
   ],
   "source": [
    "data = pd.read_csv(\"tips.csv\")\n",
    "data.head()"
   ]
  },
  {
   "cell_type": "code",
   "execution_count": 3,
   "id": "4c8569ca",
   "metadata": {},
   "outputs": [
    {
     "data": {
      "text/plain": [
       "Index(['total_bill', 'tip', 'sex', 'smoker', 'day', 'time', 'size',\n",
       "       'price_per_person', 'Payer Name', 'CC Number', 'Payment ID'],\n",
       "      dtype='object')"
      ]
     },
     "execution_count": 3,
     "metadata": {},
     "output_type": "execute_result"
    }
   ],
   "source": [
    "data.columns"
   ]
  },
  {
   "cell_type": "markdown",
   "id": "d50cb88e",
   "metadata": {},
   "source": [
    "### 1. What is the average total bill and tip given by male vs. female customers?"
   ]
  },
  {
   "cell_type": "code",
   "execution_count": 4,
   "id": "a0bb87ff",
   "metadata": {},
   "outputs": [
    {
     "data": {
      "text/html": [
       "<div>\n",
       "<style scoped>\n",
       "    .dataframe tbody tr th:only-of-type {\n",
       "        vertical-align: middle;\n",
       "    }\n",
       "\n",
       "    .dataframe tbody tr th {\n",
       "        vertical-align: top;\n",
       "    }\n",
       "\n",
       "    .dataframe thead th {\n",
       "        text-align: right;\n",
       "    }\n",
       "</style>\n",
       "<table border=\"1\" class=\"dataframe\">\n",
       "  <thead>\n",
       "    <tr style=\"text-align: right;\">\n",
       "      <th></th>\n",
       "      <th>total_bill</th>\n",
       "      <th>tip</th>\n",
       "    </tr>\n",
       "    <tr>\n",
       "      <th>sex</th>\n",
       "      <th></th>\n",
       "      <th></th>\n",
       "    </tr>\n",
       "  </thead>\n",
       "  <tbody>\n",
       "    <tr>\n",
       "      <th>Female</th>\n",
       "      <td>18.056897</td>\n",
       "      <td>2.833448</td>\n",
       "    </tr>\n",
       "    <tr>\n",
       "      <th>Male</th>\n",
       "      <td>20.744076</td>\n",
       "      <td>3.089618</td>\n",
       "    </tr>\n",
       "  </tbody>\n",
       "</table>\n",
       "</div>"
      ],
      "text/plain": [
       "        total_bill       tip\n",
       "sex                         \n",
       "Female   18.056897  2.833448\n",
       "Male     20.744076  3.089618"
      ]
     },
     "execution_count": 4,
     "metadata": {},
     "output_type": "execute_result"
    }
   ],
   "source": [
    "data.groupby(\"sex\")[['total_bill','tip']].mean()"
   ]
  },
  {
   "cell_type": "markdown",
   "id": "50e65890",
   "metadata": {},
   "source": [
    " ### 2. Number of smokers per day"
   ]
  },
  {
   "cell_type": "code",
   "execution_count": 5,
   "id": "9f40305d",
   "metadata": {},
   "outputs": [
    {
     "data": {
      "text/plain": [
       "day\n",
       "Fri     15\n",
       "Sat     42\n",
       "Sun     19\n",
       "Thur    17\n",
       "dtype: int64"
      ]
     },
     "execution_count": 5,
     "metadata": {},
     "output_type": "execute_result"
    }
   ],
   "source": [
    "data[data[\"smoker\"] =='Yes'].groupby('day').size()"
   ]
  },
  {
   "cell_type": "markdown",
   "id": "b3838022",
   "metadata": {},
   "source": [
    "### 3. Meal time distribution for parties > 3"
   ]
  },
  {
   "cell_type": "code",
   "execution_count": 6,
   "id": "8aa51c1e",
   "metadata": {},
   "outputs": [
    {
     "data": {
      "text/html": [
       "<div>\n",
       "<style scoped>\n",
       "    .dataframe tbody tr th:only-of-type {\n",
       "        vertical-align: middle;\n",
       "    }\n",
       "\n",
       "    .dataframe tbody tr th {\n",
       "        vertical-align: top;\n",
       "    }\n",
       "\n",
       "    .dataframe thead th {\n",
       "        text-align: right;\n",
       "    }\n",
       "</style>\n",
       "<table border=\"1\" class=\"dataframe\">\n",
       "  <thead>\n",
       "    <tr style=\"text-align: right;\">\n",
       "      <th></th>\n",
       "      <th>total_bill</th>\n",
       "      <th>tip</th>\n",
       "      <th>sex</th>\n",
       "      <th>smoker</th>\n",
       "      <th>day</th>\n",
       "      <th>size</th>\n",
       "      <th>price_per_person</th>\n",
       "      <th>Payer Name</th>\n",
       "      <th>CC Number</th>\n",
       "      <th>Payment ID</th>\n",
       "    </tr>\n",
       "    <tr>\n",
       "      <th>time</th>\n",
       "      <th></th>\n",
       "      <th></th>\n",
       "      <th></th>\n",
       "      <th></th>\n",
       "      <th></th>\n",
       "      <th></th>\n",
       "      <th></th>\n",
       "      <th></th>\n",
       "      <th></th>\n",
       "      <th></th>\n",
       "    </tr>\n",
       "  </thead>\n",
       "  <tbody>\n",
       "    <tr>\n",
       "      <th>Dinner</th>\n",
       "      <td>37</td>\n",
       "      <td>37</td>\n",
       "      <td>37</td>\n",
       "      <td>37</td>\n",
       "      <td>37</td>\n",
       "      <td>37</td>\n",
       "      <td>37</td>\n",
       "      <td>37</td>\n",
       "      <td>37</td>\n",
       "      <td>37</td>\n",
       "    </tr>\n",
       "    <tr>\n",
       "      <th>Lunch</th>\n",
       "      <td>9</td>\n",
       "      <td>9</td>\n",
       "      <td>9</td>\n",
       "      <td>9</td>\n",
       "      <td>9</td>\n",
       "      <td>9</td>\n",
       "      <td>9</td>\n",
       "      <td>9</td>\n",
       "      <td>9</td>\n",
       "      <td>9</td>\n",
       "    </tr>\n",
       "  </tbody>\n",
       "</table>\n",
       "</div>"
      ],
      "text/plain": [
       "        total_bill  tip  sex  smoker  day  size  price_per_person  Payer Name  \\\n",
       "time                                                                            \n",
       "Dinner          37   37   37      37   37    37                37          37   \n",
       "Lunch            9    9    9       9    9     9                 9           9   \n",
       "\n",
       "        CC Number  Payment ID  \n",
       "time                           \n",
       "Dinner         37          37  \n",
       "Lunch           9           9  "
      ]
     },
     "execution_count": 6,
     "metadata": {},
     "output_type": "execute_result"
    }
   ],
   "source": [
    "data[data['size']>3].groupby(\"time\").count()"
   ]
  },
  {
   "cell_type": "markdown",
   "id": "633ab308",
   "metadata": {},
   "source": [
    "### 4.  Average price per person by day"
   ]
  },
  {
   "cell_type": "code",
   "execution_count": 7,
   "id": "900c17f1",
   "metadata": {},
   "outputs": [
    {
     "data": {
      "text/plain": [
       "day\n",
       "Fri     8.133158\n",
       "Sat     8.186782\n",
       "Sun     7.863684\n",
       "Thur    7.424194\n",
       "Name: price_per_person, dtype: float64"
      ]
     },
     "execution_count": 7,
     "metadata": {},
     "output_type": "execute_result"
    }
   ],
   "source": [
    "data.groupby(\"day\")['price_per_person'].mean()"
   ]
  },
  {
   "cell_type": "markdown",
   "id": "dd45f46a",
   "metadata": {},
   "source": [
    "### 5. Average tip % of total bill by meal time"
   ]
  },
  {
   "cell_type": "code",
   "execution_count": 8,
   "id": "8293bb6f",
   "metadata": {},
   "outputs": [],
   "source": [
    "data['tip_percent'] = (data['tip']/data['total_bill'])*100"
   ]
  },
  {
   "cell_type": "code",
   "execution_count": 9,
   "id": "749d67c0",
   "metadata": {},
   "outputs": [
    {
     "data": {
      "text/plain": [
       "time\n",
       "Dinner    15.951779\n",
       "Lunch     16.412793\n",
       "Name: tip_percent, dtype: float64"
      ]
     },
     "execution_count": 9,
     "metadata": {},
     "output_type": "execute_result"
    }
   ],
   "source": [
    "data.groupby('time')['tip_percent'].mean()"
   ]
  },
  {
   "cell_type": "markdown",
   "id": "d72bb7ac",
   "metadata": {},
   "source": [
    "### 6. Top 3 days by total revenue"
   ]
  },
  {
   "cell_type": "code",
   "execution_count": 10,
   "id": "b19c4c4a",
   "metadata": {},
   "outputs": [
    {
     "data": {
      "text/plain": [
       "day\n",
       "Sat     2038.80\n",
       "Sun     1874.55\n",
       "Thur    1268.16\n",
       "Name: total_revenue, dtype: float64"
      ]
     },
     "execution_count": 10,
     "metadata": {},
     "output_type": "execute_result"
    }
   ],
   "source": [
    "data['total_revenue'] = data['total_bill'] + data['tip']\n",
    "\n",
    "data.groupby(\"day\")['total_revenue'].sum().sort_values(ascending= False).head(3)"
   ]
  },
  {
   "cell_type": "markdown",
   "id": "4f1c13f5",
   "metadata": {},
   "source": [
    "### 🔎 7. Filter: bill > $50 and tip < 10%"
   ]
  },
  {
   "cell_type": "code",
   "execution_count": 11,
   "id": "51bbee60",
   "metadata": {},
   "outputs": [
    {
     "data": {
      "text/html": [
       "<div>\n",
       "<style scoped>\n",
       "    .dataframe tbody tr th:only-of-type {\n",
       "        vertical-align: middle;\n",
       "    }\n",
       "\n",
       "    .dataframe tbody tr th {\n",
       "        vertical-align: top;\n",
       "    }\n",
       "\n",
       "    .dataframe thead th {\n",
       "        text-align: right;\n",
       "    }\n",
       "</style>\n",
       "<table border=\"1\" class=\"dataframe\">\n",
       "  <thead>\n",
       "    <tr style=\"text-align: right;\">\n",
       "      <th></th>\n",
       "      <th>total_bill</th>\n",
       "      <th>tip</th>\n",
       "      <th>sex</th>\n",
       "      <th>smoker</th>\n",
       "      <th>day</th>\n",
       "      <th>time</th>\n",
       "      <th>size</th>\n",
       "      <th>price_per_person</th>\n",
       "      <th>Payer Name</th>\n",
       "      <th>CC Number</th>\n",
       "      <th>Payment ID</th>\n",
       "      <th>tip_percent</th>\n",
       "      <th>total_revenue</th>\n",
       "    </tr>\n",
       "  </thead>\n",
       "  <tbody>\n",
       "    <tr>\n",
       "      <th>170</th>\n",
       "      <td>50.81</td>\n",
       "      <td>10.0</td>\n",
       "      <td>Male</td>\n",
       "      <td>Yes</td>\n",
       "      <td>Sat</td>\n",
       "      <td>Dinner</td>\n",
       "      <td>3</td>\n",
       "      <td>16.94</td>\n",
       "      <td>Gregory Clark</td>\n",
       "      <td>5473850968388236</td>\n",
       "      <td>Sat1954</td>\n",
       "      <td>19.681165</td>\n",
       "      <td>60.81</td>\n",
       "    </tr>\n",
       "  </tbody>\n",
       "</table>\n",
       "</div>"
      ],
      "text/plain": [
       "     total_bill   tip   sex smoker  day    time  size  price_per_person  \\\n",
       "170       50.81  10.0  Male    Yes  Sat  Dinner     3             16.94   \n",
       "\n",
       "        Payer Name         CC Number Payment ID  tip_percent  total_revenue  \n",
       "170  Gregory Clark  5473850968388236    Sat1954    19.681165          60.81  "
      ]
     },
     "execution_count": 11,
     "metadata": {},
     "output_type": "execute_result"
    }
   ],
   "source": [
    "data[(data['total_bill'] > 50) & (data['tip_percent'] < 20)]"
   ]
  },
  {
   "cell_type": "markdown",
   "id": "4069e9a9",
   "metadata": {},
   "source": [
    "### 🔎 8. Duplicate payer names"
   ]
  },
  {
   "cell_type": "code",
   "execution_count": 12,
   "id": "5f718465",
   "metadata": {},
   "outputs": [
    {
     "data": {
      "text/plain": [
       "Index(['total_bill', 'tip', 'sex', 'smoker', 'day', 'time', 'size',\n",
       "       'price_per_person', 'Payer Name', 'CC Number', 'Payment ID',\n",
       "       'tip_percent', 'total_revenue'],\n",
       "      dtype='object')"
      ]
     },
     "execution_count": 12,
     "metadata": {},
     "output_type": "execute_result"
    }
   ],
   "source": [
    "data.columns"
   ]
  },
  {
   "cell_type": "code",
   "execution_count": 13,
   "id": "c4fa6923",
   "metadata": {},
   "outputs": [
    {
     "data": {
      "text/html": [
       "<div>\n",
       "<style scoped>\n",
       "    .dataframe tbody tr th:only-of-type {\n",
       "        vertical-align: middle;\n",
       "    }\n",
       "\n",
       "    .dataframe tbody tr th {\n",
       "        vertical-align: top;\n",
       "    }\n",
       "\n",
       "    .dataframe thead th {\n",
       "        text-align: right;\n",
       "    }\n",
       "</style>\n",
       "<table border=\"1\" class=\"dataframe\">\n",
       "  <thead>\n",
       "    <tr style=\"text-align: right;\">\n",
       "      <th></th>\n",
       "      <th>total_bill</th>\n",
       "      <th>tip</th>\n",
       "      <th>sex</th>\n",
       "      <th>smoker</th>\n",
       "      <th>day</th>\n",
       "      <th>time</th>\n",
       "      <th>size</th>\n",
       "      <th>price_per_person</th>\n",
       "      <th>Payer Name</th>\n",
       "      <th>CC Number</th>\n",
       "      <th>Payment ID</th>\n",
       "      <th>tip_percent</th>\n",
       "      <th>total_revenue</th>\n",
       "    </tr>\n",
       "  </thead>\n",
       "  <tbody>\n",
       "  </tbody>\n",
       "</table>\n",
       "</div>"
      ],
      "text/plain": [
       "Empty DataFrame\n",
       "Columns: [total_bill, tip, sex, smoker, day, time, size, price_per_person, Payer Name, CC Number, Payment ID, tip_percent, total_revenue]\n",
       "Index: []"
      ]
     },
     "execution_count": 13,
     "metadata": {},
     "output_type": "execute_result"
    }
   ],
   "source": [
    "data[data.duplicated(subset='Payer Name', keep=False)].sort_values('Payer Name')\n"
   ]
  },
  {
   "cell_type": "markdown",
   "id": "d82b1641",
   "metadata": {},
   "source": [
    "### 🔐 9. Mask all but last 4 digits of CC Number and Payment ID"
   ]
  },
  {
   "cell_type": "code",
   "execution_count": 14,
   "id": "110ac262",
   "metadata": {},
   "outputs": [],
   "source": [
    "data['masked_payment_id']= data['Payment ID'].astype(str).apply(lambda x :\"*\" *(len(x)-4) + x[-4:])\n",
    "data['masked_CC_number']= data['CC Number'].astype(str).apply(lambda x :\"*\" *(len(x)-4) + x[-4:])"
   ]
  },
  {
   "cell_type": "code",
   "execution_count": 15,
   "id": "adb31c5f",
   "metadata": {},
   "outputs": [
    {
     "data": {
      "text/html": [
       "<div>\n",
       "<style scoped>\n",
       "    .dataframe tbody tr th:only-of-type {\n",
       "        vertical-align: middle;\n",
       "    }\n",
       "\n",
       "    .dataframe tbody tr th {\n",
       "        vertical-align: top;\n",
       "    }\n",
       "\n",
       "    .dataframe thead th {\n",
       "        text-align: right;\n",
       "    }\n",
       "</style>\n",
       "<table border=\"1\" class=\"dataframe\">\n",
       "  <thead>\n",
       "    <tr style=\"text-align: right;\">\n",
       "      <th></th>\n",
       "      <th>total_bill</th>\n",
       "      <th>tip</th>\n",
       "      <th>sex</th>\n",
       "      <th>smoker</th>\n",
       "      <th>day</th>\n",
       "      <th>time</th>\n",
       "      <th>size</th>\n",
       "      <th>price_per_person</th>\n",
       "      <th>Payer Name</th>\n",
       "      <th>CC Number</th>\n",
       "      <th>Payment ID</th>\n",
       "      <th>tip_percent</th>\n",
       "      <th>total_revenue</th>\n",
       "      <th>masked_payment_id</th>\n",
       "      <th>masked_CC_number</th>\n",
       "    </tr>\n",
       "  </thead>\n",
       "  <tbody>\n",
       "    <tr>\n",
       "      <th>0</th>\n",
       "      <td>16.99</td>\n",
       "      <td>1.01</td>\n",
       "      <td>Female</td>\n",
       "      <td>No</td>\n",
       "      <td>Sun</td>\n",
       "      <td>Dinner</td>\n",
       "      <td>2</td>\n",
       "      <td>8.49</td>\n",
       "      <td>Christy Cunningham</td>\n",
       "      <td>3560325168603410</td>\n",
       "      <td>Sun2959</td>\n",
       "      <td>5.944673</td>\n",
       "      <td>18.00</td>\n",
       "      <td>***2959</td>\n",
       "      <td>************3410</td>\n",
       "    </tr>\n",
       "    <tr>\n",
       "      <th>1</th>\n",
       "      <td>10.34</td>\n",
       "      <td>1.66</td>\n",
       "      <td>Male</td>\n",
       "      <td>No</td>\n",
       "      <td>Sun</td>\n",
       "      <td>Dinner</td>\n",
       "      <td>3</td>\n",
       "      <td>3.45</td>\n",
       "      <td>Douglas Tucker</td>\n",
       "      <td>4478071379779230</td>\n",
       "      <td>Sun4608</td>\n",
       "      <td>16.054159</td>\n",
       "      <td>12.00</td>\n",
       "      <td>***4608</td>\n",
       "      <td>************9230</td>\n",
       "    </tr>\n",
       "    <tr>\n",
       "      <th>2</th>\n",
       "      <td>21.01</td>\n",
       "      <td>3.50</td>\n",
       "      <td>Male</td>\n",
       "      <td>No</td>\n",
       "      <td>Sun</td>\n",
       "      <td>Dinner</td>\n",
       "      <td>3</td>\n",
       "      <td>7.00</td>\n",
       "      <td>Travis Walters</td>\n",
       "      <td>6011812112971322</td>\n",
       "      <td>Sun4458</td>\n",
       "      <td>16.658734</td>\n",
       "      <td>24.51</td>\n",
       "      <td>***4458</td>\n",
       "      <td>************1322</td>\n",
       "    </tr>\n",
       "    <tr>\n",
       "      <th>3</th>\n",
       "      <td>23.68</td>\n",
       "      <td>3.31</td>\n",
       "      <td>Male</td>\n",
       "      <td>No</td>\n",
       "      <td>Sun</td>\n",
       "      <td>Dinner</td>\n",
       "      <td>2</td>\n",
       "      <td>11.84</td>\n",
       "      <td>Nathaniel Harris</td>\n",
       "      <td>4676137647685994</td>\n",
       "      <td>Sun5260</td>\n",
       "      <td>13.978041</td>\n",
       "      <td>26.99</td>\n",
       "      <td>***5260</td>\n",
       "      <td>************5994</td>\n",
       "    </tr>\n",
       "    <tr>\n",
       "      <th>4</th>\n",
       "      <td>24.59</td>\n",
       "      <td>3.61</td>\n",
       "      <td>Female</td>\n",
       "      <td>No</td>\n",
       "      <td>Sun</td>\n",
       "      <td>Dinner</td>\n",
       "      <td>4</td>\n",
       "      <td>6.15</td>\n",
       "      <td>Tonya Carter</td>\n",
       "      <td>4832732618637221</td>\n",
       "      <td>Sun2251</td>\n",
       "      <td>14.680765</td>\n",
       "      <td>28.20</td>\n",
       "      <td>***2251</td>\n",
       "      <td>************7221</td>\n",
       "    </tr>\n",
       "  </tbody>\n",
       "</table>\n",
       "</div>"
      ],
      "text/plain": [
       "   total_bill   tip     sex smoker  day    time  size  price_per_person  \\\n",
       "0       16.99  1.01  Female     No  Sun  Dinner     2              8.49   \n",
       "1       10.34  1.66    Male     No  Sun  Dinner     3              3.45   \n",
       "2       21.01  3.50    Male     No  Sun  Dinner     3              7.00   \n",
       "3       23.68  3.31    Male     No  Sun  Dinner     2             11.84   \n",
       "4       24.59  3.61  Female     No  Sun  Dinner     4              6.15   \n",
       "\n",
       "           Payer Name         CC Number Payment ID  tip_percent  \\\n",
       "0  Christy Cunningham  3560325168603410    Sun2959     5.944673   \n",
       "1      Douglas Tucker  4478071379779230    Sun4608    16.054159   \n",
       "2      Travis Walters  6011812112971322    Sun4458    16.658734   \n",
       "3    Nathaniel Harris  4676137647685994    Sun5260    13.978041   \n",
       "4        Tonya Carter  4832732618637221    Sun2251    14.680765   \n",
       "\n",
       "   total_revenue masked_payment_id  masked_CC_number  \n",
       "0          18.00           ***2959  ************3410  \n",
       "1          12.00           ***4608  ************9230  \n",
       "2          24.51           ***4458  ************1322  \n",
       "3          26.99           ***5260  ************5994  \n",
       "4          28.20           ***2251  ************7221  "
      ]
     },
     "execution_count": 15,
     "metadata": {},
     "output_type": "execute_result"
    }
   ],
   "source": [
    "data.head()"
   ]
  },
  {
   "cell_type": "markdown",
   "id": "76a31b61",
   "metadata": {},
   "source": [
    "### 10. Which party size tips the most on average, and is it consistent by day?"
   ]
  },
  {
   "cell_type": "code",
   "execution_count": 16,
   "id": "55815c0f",
   "metadata": {},
   "outputs": [
    {
     "data": {
      "text/plain": [
       "(size\n",
       " 6    5.225000\n",
       " 4    4.135405\n",
       " 5    4.028000\n",
       " 3    3.393158\n",
       " 2    2.582308\n",
       " 1    1.437500\n",
       " Name: tip, dtype: float64,\n",
       " size     1         2         3         4         5    6\n",
       " day                                                    \n",
       " Fri   1.92  2.644375  3.000000  4.730000         -    -\n",
       " Sat    1.0  2.517547  3.797778  4.123846       3.0    -\n",
       " Sun      -  2.816923  3.120667  4.087778  4.046667  5.0\n",
       " Thur  1.83  2.442500  2.692500  4.218000       5.0  5.3)"
      ]
     },
     "execution_count": 16,
     "metadata": {},
     "output_type": "execute_result"
    }
   ],
   "source": [
    "avg_tip_by_size  = data.groupby('size')['tip'].mean().sort_values(ascending= False)\n",
    "tip_by_size_day = data.groupby(['day', 'size'])['tip'].mean().unstack().fillna('-')\n",
    "\n",
    "avg_tip_by_size, tip_by_size_day\n"
   ]
  },
  {
   "cell_type": "markdown",
   "id": "de2e4c77",
   "metadata": {},
   "source": [
    "### 🔁 11. Pivot table of average tip per gender per day\n",
    "\n"
   ]
  },
  {
   "cell_type": "code",
   "execution_count": 17,
   "id": "7e857389",
   "metadata": {},
   "outputs": [
    {
     "data": {
      "text/html": [
       "<div>\n",
       "<style scoped>\n",
       "    .dataframe tbody tr th:only-of-type {\n",
       "        vertical-align: middle;\n",
       "    }\n",
       "\n",
       "    .dataframe tbody tr th {\n",
       "        vertical-align: top;\n",
       "    }\n",
       "\n",
       "    .dataframe thead th {\n",
       "        text-align: right;\n",
       "    }\n",
       "</style>\n",
       "<table border=\"1\" class=\"dataframe\">\n",
       "  <thead>\n",
       "    <tr style=\"text-align: right;\">\n",
       "      <th>day</th>\n",
       "      <th>Fri</th>\n",
       "      <th>Sat</th>\n",
       "      <th>Sun</th>\n",
       "      <th>Thur</th>\n",
       "    </tr>\n",
       "    <tr>\n",
       "      <th>sex</th>\n",
       "      <th></th>\n",
       "      <th></th>\n",
       "      <th></th>\n",
       "      <th></th>\n",
       "    </tr>\n",
       "  </thead>\n",
       "  <tbody>\n",
       "    <tr>\n",
       "      <th>Female</th>\n",
       "      <td>2.781111</td>\n",
       "      <td>2.801786</td>\n",
       "      <td>3.367222</td>\n",
       "      <td>2.575625</td>\n",
       "    </tr>\n",
       "    <tr>\n",
       "      <th>Male</th>\n",
       "      <td>2.693000</td>\n",
       "      <td>3.083898</td>\n",
       "      <td>3.220345</td>\n",
       "      <td>2.980333</td>\n",
       "    </tr>\n",
       "  </tbody>\n",
       "</table>\n",
       "</div>"
      ],
      "text/plain": [
       "day          Fri       Sat       Sun      Thur\n",
       "sex                                           \n",
       "Female  2.781111  2.801786  3.367222  2.575625\n",
       "Male    2.693000  3.083898  3.220345  2.980333"
      ]
     },
     "execution_count": 17,
     "metadata": {},
     "output_type": "execute_result"
    }
   ],
   "source": [
    "# Create a pivot table with gender as rows, day as columns, and average tip as values\n",
    "pd.pivot_table(data, index = \"sex\", values= 'tip', columns=  'day')\n",
    "\n"
   ]
  },
  {
   "cell_type": "markdown",
   "id": "3d338887",
   "metadata": {},
   "source": [
    "### 🧵 12. Extract first and last name from the Payer Name column"
   ]
  },
  {
   "cell_type": "code",
   "execution_count": 18,
   "id": "806b1cb4",
   "metadata": {},
   "outputs": [],
   "source": [
    "data['first_name'] = data['Payer Name'].str.split().str[0]\n",
    "data['last_name'] = data['Payer Name'].str.split().str[-1]"
   ]
  },
  {
   "cell_type": "code",
   "execution_count": 19,
   "id": "4d8669a5",
   "metadata": {},
   "outputs": [
    {
     "data": {
      "text/html": [
       "<div>\n",
       "<style scoped>\n",
       "    .dataframe tbody tr th:only-of-type {\n",
       "        vertical-align: middle;\n",
       "    }\n",
       "\n",
       "    .dataframe tbody tr th {\n",
       "        vertical-align: top;\n",
       "    }\n",
       "\n",
       "    .dataframe thead th {\n",
       "        text-align: right;\n",
       "    }\n",
       "</style>\n",
       "<table border=\"1\" class=\"dataframe\">\n",
       "  <thead>\n",
       "    <tr style=\"text-align: right;\">\n",
       "      <th></th>\n",
       "      <th>total_bill</th>\n",
       "      <th>tip</th>\n",
       "      <th>sex</th>\n",
       "      <th>smoker</th>\n",
       "      <th>day</th>\n",
       "      <th>time</th>\n",
       "      <th>size</th>\n",
       "      <th>price_per_person</th>\n",
       "      <th>Payer Name</th>\n",
       "      <th>CC Number</th>\n",
       "      <th>Payment ID</th>\n",
       "      <th>tip_percent</th>\n",
       "      <th>total_revenue</th>\n",
       "      <th>masked_payment_id</th>\n",
       "      <th>masked_CC_number</th>\n",
       "      <th>first_name</th>\n",
       "      <th>last_name</th>\n",
       "    </tr>\n",
       "  </thead>\n",
       "  <tbody>\n",
       "    <tr>\n",
       "      <th>0</th>\n",
       "      <td>16.99</td>\n",
       "      <td>1.01</td>\n",
       "      <td>Female</td>\n",
       "      <td>No</td>\n",
       "      <td>Sun</td>\n",
       "      <td>Dinner</td>\n",
       "      <td>2</td>\n",
       "      <td>8.49</td>\n",
       "      <td>Christy Cunningham</td>\n",
       "      <td>3560325168603410</td>\n",
       "      <td>Sun2959</td>\n",
       "      <td>5.944673</td>\n",
       "      <td>18.00</td>\n",
       "      <td>***2959</td>\n",
       "      <td>************3410</td>\n",
       "      <td>Christy</td>\n",
       "      <td>Cunningham</td>\n",
       "    </tr>\n",
       "    <tr>\n",
       "      <th>1</th>\n",
       "      <td>10.34</td>\n",
       "      <td>1.66</td>\n",
       "      <td>Male</td>\n",
       "      <td>No</td>\n",
       "      <td>Sun</td>\n",
       "      <td>Dinner</td>\n",
       "      <td>3</td>\n",
       "      <td>3.45</td>\n",
       "      <td>Douglas Tucker</td>\n",
       "      <td>4478071379779230</td>\n",
       "      <td>Sun4608</td>\n",
       "      <td>16.054159</td>\n",
       "      <td>12.00</td>\n",
       "      <td>***4608</td>\n",
       "      <td>************9230</td>\n",
       "      <td>Douglas</td>\n",
       "      <td>Tucker</td>\n",
       "    </tr>\n",
       "    <tr>\n",
       "      <th>2</th>\n",
       "      <td>21.01</td>\n",
       "      <td>3.50</td>\n",
       "      <td>Male</td>\n",
       "      <td>No</td>\n",
       "      <td>Sun</td>\n",
       "      <td>Dinner</td>\n",
       "      <td>3</td>\n",
       "      <td>7.00</td>\n",
       "      <td>Travis Walters</td>\n",
       "      <td>6011812112971322</td>\n",
       "      <td>Sun4458</td>\n",
       "      <td>16.658734</td>\n",
       "      <td>24.51</td>\n",
       "      <td>***4458</td>\n",
       "      <td>************1322</td>\n",
       "      <td>Travis</td>\n",
       "      <td>Walters</td>\n",
       "    </tr>\n",
       "    <tr>\n",
       "      <th>3</th>\n",
       "      <td>23.68</td>\n",
       "      <td>3.31</td>\n",
       "      <td>Male</td>\n",
       "      <td>No</td>\n",
       "      <td>Sun</td>\n",
       "      <td>Dinner</td>\n",
       "      <td>2</td>\n",
       "      <td>11.84</td>\n",
       "      <td>Nathaniel Harris</td>\n",
       "      <td>4676137647685994</td>\n",
       "      <td>Sun5260</td>\n",
       "      <td>13.978041</td>\n",
       "      <td>26.99</td>\n",
       "      <td>***5260</td>\n",
       "      <td>************5994</td>\n",
       "      <td>Nathaniel</td>\n",
       "      <td>Harris</td>\n",
       "    </tr>\n",
       "    <tr>\n",
       "      <th>4</th>\n",
       "      <td>24.59</td>\n",
       "      <td>3.61</td>\n",
       "      <td>Female</td>\n",
       "      <td>No</td>\n",
       "      <td>Sun</td>\n",
       "      <td>Dinner</td>\n",
       "      <td>4</td>\n",
       "      <td>6.15</td>\n",
       "      <td>Tonya Carter</td>\n",
       "      <td>4832732618637221</td>\n",
       "      <td>Sun2251</td>\n",
       "      <td>14.680765</td>\n",
       "      <td>28.20</td>\n",
       "      <td>***2251</td>\n",
       "      <td>************7221</td>\n",
       "      <td>Tonya</td>\n",
       "      <td>Carter</td>\n",
       "    </tr>\n",
       "  </tbody>\n",
       "</table>\n",
       "</div>"
      ],
      "text/plain": [
       "   total_bill   tip     sex smoker  day    time  size  price_per_person  \\\n",
       "0       16.99  1.01  Female     No  Sun  Dinner     2              8.49   \n",
       "1       10.34  1.66    Male     No  Sun  Dinner     3              3.45   \n",
       "2       21.01  3.50    Male     No  Sun  Dinner     3              7.00   \n",
       "3       23.68  3.31    Male     No  Sun  Dinner     2             11.84   \n",
       "4       24.59  3.61  Female     No  Sun  Dinner     4              6.15   \n",
       "\n",
       "           Payer Name         CC Number Payment ID  tip_percent  \\\n",
       "0  Christy Cunningham  3560325168603410    Sun2959     5.944673   \n",
       "1      Douglas Tucker  4478071379779230    Sun4608    16.054159   \n",
       "2      Travis Walters  6011812112971322    Sun4458    16.658734   \n",
       "3    Nathaniel Harris  4676137647685994    Sun5260    13.978041   \n",
       "4        Tonya Carter  4832732618637221    Sun2251    14.680765   \n",
       "\n",
       "   total_revenue masked_payment_id  masked_CC_number first_name   last_name  \n",
       "0          18.00           ***2959  ************3410    Christy  Cunningham  \n",
       "1          12.00           ***4608  ************9230    Douglas      Tucker  \n",
       "2          24.51           ***4458  ************1322     Travis     Walters  \n",
       "3          26.99           ***5260  ************5994  Nathaniel      Harris  \n",
       "4          28.20           ***2251  ************7221      Tonya      Carter  "
      ]
     },
     "execution_count": 19,
     "metadata": {},
     "output_type": "execute_result"
    }
   ],
   "source": [
    "data.head()"
   ]
  },
  {
   "cell_type": "markdown",
   "id": "1d8970b3",
   "metadata": {},
   "source": [
    "### 📆 13. Add a fake datetime column and calculate tips by weekday\n"
   ]
  },
  {
   "cell_type": "code",
   "execution_count": 20,
   "id": "0d1a3600",
   "metadata": {},
   "outputs": [],
   "source": [
    "import numpy as np\n",
    "import datetime\n",
    "from datetime import timedelta"
   ]
  },
  {
   "cell_type": "code",
   "execution_count": 21,
   "id": "f673c405",
   "metadata": {},
   "outputs": [],
   "source": [
    "data['date'] = pd.to_datetime('2025-05-12') + pd.to_timedelta(np.random.randint(0, 100, size=len(data)), unit='D')\n",
    "\n",
    "data['weekday'] = data['date'].dt.day_name()"
   ]
  },
  {
   "cell_type": "code",
   "execution_count": 22,
   "id": "1f58e2bc",
   "metadata": {},
   "outputs": [
    {
     "data": {
      "text/plain": [
       "weekday\n",
       "Monday       3.287941\n",
       "Thursday     3.086571\n",
       "Saturday     3.064500\n",
       "Wednesday    2.960270\n",
       "Tuesday      2.956897\n",
       "Friday       2.894750\n",
       "Sunday       2.693448\n",
       "Name: tip, dtype: float64"
      ]
     },
     "execution_count": 22,
     "metadata": {},
     "output_type": "execute_result"
    }
   ],
   "source": [
    "data.groupby('weekday')['tip'].mean().sort_values(ascending=False)"
   ]
  },
  {
   "cell_type": "markdown",
   "id": "cb8246f6",
   "metadata": {},
   "source": [
    "### 🔁 15. Apply a custom function: flag if tip < 10% of bill"
   ]
  },
  {
   "cell_type": "code",
   "execution_count": 23,
   "id": "d3aafdc6",
   "metadata": {},
   "outputs": [],
   "source": [
    "def flag_tip(row):\n",
    "    return \"LOW TIP\" if row['tip_percent'] <10 else \"Good tip\""
   ]
  },
  {
   "cell_type": "code",
   "execution_count": 24,
   "id": "c721a0ff",
   "metadata": {},
   "outputs": [],
   "source": [
    "data['Tip Flag'] = data.apply(flag_tip, axis=1)"
   ]
  },
  {
   "cell_type": "code",
   "execution_count": 25,
   "id": "3276fd48",
   "metadata": {},
   "outputs": [
    {
     "data": {
      "text/plain": [
       "Tip Flag\n",
       "Good tip    217\n",
       "LOW TIP      27\n",
       "Name: count, dtype: int64"
      ]
     },
     "execution_count": 25,
     "metadata": {},
     "output_type": "execute_result"
    }
   ],
   "source": [
    "data['Tip Flag'].value_counts()"
   ]
  },
  {
   "cell_type": "markdown",
   "id": "e98af2f1",
   "metadata": {},
   "source": [
    " ### Who tipped the most per person?"
   ]
  },
  {
   "cell_type": "code",
   "execution_count": 28,
   "id": "e654f7fb",
   "metadata": {},
   "outputs": [
    {
     "data": {
      "text/html": [
       "<div>\n",
       "<style scoped>\n",
       "    .dataframe tbody tr th:only-of-type {\n",
       "        vertical-align: middle;\n",
       "    }\n",
       "\n",
       "    .dataframe tbody tr th {\n",
       "        vertical-align: top;\n",
       "    }\n",
       "\n",
       "    .dataframe thead th {\n",
       "        text-align: right;\n",
       "    }\n",
       "</style>\n",
       "<table border=\"1\" class=\"dataframe\">\n",
       "  <thead>\n",
       "    <tr style=\"text-align: right;\">\n",
       "      <th></th>\n",
       "      <th>total_bill</th>\n",
       "      <th>tip</th>\n",
       "      <th>sex</th>\n",
       "      <th>smoker</th>\n",
       "      <th>day</th>\n",
       "      <th>time</th>\n",
       "      <th>size</th>\n",
       "      <th>price_per_person</th>\n",
       "      <th>Payer Name</th>\n",
       "      <th>CC Number</th>\n",
       "      <th>Payment ID</th>\n",
       "      <th>tip_percent</th>\n",
       "      <th>total_revenue</th>\n",
       "      <th>masked_payment_id</th>\n",
       "      <th>masked_CC_number</th>\n",
       "      <th>first_name</th>\n",
       "      <th>last_name</th>\n",
       "      <th>date</th>\n",
       "      <th>weekday</th>\n",
       "      <th>Tip Flag</th>\n",
       "    </tr>\n",
       "  </thead>\n",
       "  <tbody>\n",
       "    <tr>\n",
       "      <th>184</th>\n",
       "      <td>40.55</td>\n",
       "      <td>3.0</td>\n",
       "      <td>Male</td>\n",
       "      <td>Yes</td>\n",
       "      <td>Sun</td>\n",
       "      <td>Dinner</td>\n",
       "      <td>2</td>\n",
       "      <td>20.27</td>\n",
       "      <td>Stephen Cox</td>\n",
       "      <td>3547798222044029</td>\n",
       "      <td>Sun5140</td>\n",
       "      <td>7.398274</td>\n",
       "      <td>43.55</td>\n",
       "      <td>***5140</td>\n",
       "      <td>************4029</td>\n",
       "      <td>Stephen</td>\n",
       "      <td>Cox</td>\n",
       "      <td>2025-07-20</td>\n",
       "      <td>Sunday</td>\n",
       "      <td>LOW TIP</td>\n",
       "    </tr>\n",
       "  </tbody>\n",
       "</table>\n",
       "</div>"
      ],
      "text/plain": [
       "     total_bill  tip   sex smoker  day    time  size  price_per_person  \\\n",
       "184       40.55  3.0  Male    Yes  Sun  Dinner     2             20.27   \n",
       "\n",
       "      Payer Name         CC Number Payment ID  tip_percent  total_revenue  \\\n",
       "184  Stephen Cox  3547798222044029    Sun5140     7.398274          43.55   \n",
       "\n",
       "    masked_payment_id  masked_CC_number first_name last_name       date  \\\n",
       "184           ***5140  ************4029    Stephen       Cox 2025-07-20   \n",
       "\n",
       "    weekday Tip Flag  \n",
       "184  Sunday  LOW TIP  "
      ]
     },
     "execution_count": 28,
     "metadata": {},
     "output_type": "execute_result"
    }
   ],
   "source": [
    "data[data['price_per_person'] == data['price_per_person'].max()]"
   ]
  },
  {
   "cell_type": "markdown",
   "id": "633ed92a",
   "metadata": {},
   "source": [
    "### Q Which day has the most generous average tip per table size?"
   ]
  },
  {
   "cell_type": "code",
   "execution_count": 30,
   "id": "0547ae71",
   "metadata": {},
   "outputs": [
    {
     "data": {
      "text/html": [
       "<div>\n",
       "<style scoped>\n",
       "    .dataframe tbody tr th:only-of-type {\n",
       "        vertical-align: middle;\n",
       "    }\n",
       "\n",
       "    .dataframe tbody tr th {\n",
       "        vertical-align: top;\n",
       "    }\n",
       "\n",
       "    .dataframe thead th {\n",
       "        text-align: right;\n",
       "    }\n",
       "</style>\n",
       "<table border=\"1\" class=\"dataframe\">\n",
       "  <thead>\n",
       "    <tr style=\"text-align: right;\">\n",
       "      <th></th>\n",
       "      <th>total_bill</th>\n",
       "      <th>tip</th>\n",
       "      <th>sex</th>\n",
       "      <th>smoker</th>\n",
       "      <th>day</th>\n",
       "      <th>time</th>\n",
       "      <th>size</th>\n",
       "      <th>price_per_person</th>\n",
       "      <th>Payer Name</th>\n",
       "      <th>CC Number</th>\n",
       "      <th>Payment ID</th>\n",
       "      <th>tip_percent</th>\n",
       "      <th>total_revenue</th>\n",
       "      <th>masked_payment_id</th>\n",
       "      <th>masked_CC_number</th>\n",
       "      <th>first_name</th>\n",
       "      <th>last_name</th>\n",
       "      <th>date</th>\n",
       "      <th>weekday</th>\n",
       "      <th>Tip Flag</th>\n",
       "    </tr>\n",
       "  </thead>\n",
       "  <tbody>\n",
       "    <tr>\n",
       "      <th>0</th>\n",
       "      <td>16.99</td>\n",
       "      <td>1.01</td>\n",
       "      <td>Female</td>\n",
       "      <td>No</td>\n",
       "      <td>Sun</td>\n",
       "      <td>Dinner</td>\n",
       "      <td>2</td>\n",
       "      <td>8.49</td>\n",
       "      <td>Christy Cunningham</td>\n",
       "      <td>3560325168603410</td>\n",
       "      <td>Sun2959</td>\n",
       "      <td>5.944673</td>\n",
       "      <td>18.0</td>\n",
       "      <td>***2959</td>\n",
       "      <td>************3410</td>\n",
       "      <td>Christy</td>\n",
       "      <td>Cunningham</td>\n",
       "      <td>2025-06-11</td>\n",
       "      <td>Wednesday</td>\n",
       "      <td>LOW TIP</td>\n",
       "    </tr>\n",
       "    <tr>\n",
       "      <th>1</th>\n",
       "      <td>10.34</td>\n",
       "      <td>1.66</td>\n",
       "      <td>Male</td>\n",
       "      <td>No</td>\n",
       "      <td>Sun</td>\n",
       "      <td>Dinner</td>\n",
       "      <td>3</td>\n",
       "      <td>3.45</td>\n",
       "      <td>Douglas Tucker</td>\n",
       "      <td>4478071379779230</td>\n",
       "      <td>Sun4608</td>\n",
       "      <td>16.054159</td>\n",
       "      <td>12.0</td>\n",
       "      <td>***4608</td>\n",
       "      <td>************9230</td>\n",
       "      <td>Douglas</td>\n",
       "      <td>Tucker</td>\n",
       "      <td>2025-07-01</td>\n",
       "      <td>Tuesday</td>\n",
       "      <td>Good tip</td>\n",
       "    </tr>\n",
       "  </tbody>\n",
       "</table>\n",
       "</div>"
      ],
      "text/plain": [
       "   total_bill   tip     sex smoker  day    time  size  price_per_person  \\\n",
       "0       16.99  1.01  Female     No  Sun  Dinner     2              8.49   \n",
       "1       10.34  1.66    Male     No  Sun  Dinner     3              3.45   \n",
       "\n",
       "           Payer Name         CC Number Payment ID  tip_percent  \\\n",
       "0  Christy Cunningham  3560325168603410    Sun2959     5.944673   \n",
       "1      Douglas Tucker  4478071379779230    Sun4608    16.054159   \n",
       "\n",
       "   total_revenue masked_payment_id  masked_CC_number first_name   last_name  \\\n",
       "0           18.0           ***2959  ************3410    Christy  Cunningham   \n",
       "1           12.0           ***4608  ************9230    Douglas      Tucker   \n",
       "\n",
       "        date    weekday  Tip Flag  \n",
       "0 2025-06-11  Wednesday   LOW TIP  \n",
       "1 2025-07-01    Tuesday  Good tip  "
      ]
     },
     "execution_count": 30,
     "metadata": {},
     "output_type": "execute_result"
    }
   ],
   "source": [
    "data.head(2)"
   ]
  },
  {
   "cell_type": "code",
   "execution_count": 34,
   "id": "ea30837b",
   "metadata": {},
   "outputs": [
    {
     "data": {
      "text/plain": [
       "day\n",
       "Fri    1.329342\n",
       "Name: tip_per_person, dtype: float64"
      ]
     },
     "execution_count": 34,
     "metadata": {},
     "output_type": "execute_result"
    }
   ],
   "source": [
    "data['tip_per_person'] = data['tip']/ data['size']\n",
    "data.groupby('day')['tip_per_person'].mean().sort_values(ascending=False).head(1)"
   ]
  },
  {
   "cell_type": "markdown",
   "id": "47d43c50",
   "metadata": {},
   "source": [
    "Q. Payer Names who used the same CC Number multiple times"
   ]
  },
  {
   "cell_type": "code",
   "execution_count": 42,
   "id": "2c96b28c",
   "metadata": {},
   "outputs": [
    {
     "data": {
      "text/html": [
       "<div>\n",
       "<style scoped>\n",
       "    .dataframe tbody tr th:only-of-type {\n",
       "        vertical-align: middle;\n",
       "    }\n",
       "\n",
       "    .dataframe tbody tr th {\n",
       "        vertical-align: top;\n",
       "    }\n",
       "\n",
       "    .dataframe thead th {\n",
       "        text-align: right;\n",
       "    }\n",
       "</style>\n",
       "<table border=\"1\" class=\"dataframe\">\n",
       "  <thead>\n",
       "    <tr style=\"text-align: right;\">\n",
       "      <th></th>\n",
       "      <th>Payer Name</th>\n",
       "      <th>CC Number</th>\n",
       "    </tr>\n",
       "  </thead>\n",
       "  <tbody>\n",
       "  </tbody>\n",
       "</table>\n",
       "</div>"
      ],
      "text/plain": [
       "Empty DataFrame\n",
       "Columns: [Payer Name, CC Number]\n",
       "Index: []"
      ]
     },
     "execution_count": 42,
     "metadata": {},
     "output_type": "execute_result"
    }
   ],
   "source": [
    "cc_counts = data['CC Number'].value_counts()\n",
    "\n",
    "duplicate_cc = cc_counts[cc_counts > 1].index\n",
    "\n",
    "data[data['CC Number'].isin(duplicate_cc)][['Payer Name', 'CC Number']].drop_duplicates()\n"
   ]
  },
  {
   "cell_type": "code",
   "execution_count": null,
   "id": "ee2f9ec1",
   "metadata": {},
   "outputs": [],
   "source": []
  }
 ],
 "metadata": {
  "kernelspec": {
   "display_name": "base",
   "language": "python",
   "name": "python3"
  },
  "language_info": {
   "codemirror_mode": {
    "name": "ipython",
    "version": 3
   },
   "file_extension": ".py",
   "mimetype": "text/x-python",
   "name": "python",
   "nbconvert_exporter": "python",
   "pygments_lexer": "ipython3",
   "version": "3.12.7"
  }
 },
 "nbformat": 4,
 "nbformat_minor": 5
}
