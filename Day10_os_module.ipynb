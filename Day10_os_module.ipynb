{
 "cells": [
  {
   "cell_type": "markdown",
   "id": "575e9501",
   "metadata": {},
   "source": [
    "### ***OS module in python***"
   ]
  },
  {
   "cell_type": "markdown",
   "id": "52c40144",
   "metadata": {},
   "source": [
    "The os module in Python is a built-in module that provides a way to interact with the operating system. It allows you to perform tasks like reading or writing files, creating directories, executing system commands, and managing environment variables."
   ]
  },
  {
   "cell_type": "markdown",
   "id": "c74f789d",
   "metadata": {},
   "source": [
    "| Task                    | Method / Function                    | Description                           |\n",
    "| ----------------------- | ------------------------------------ | ------------------------------------- |\n",
    "| Working directory       | `os.getcwd()`                        | Get current working directory         |\n",
    "| Change directory        | `os.chdir('path')`                   | Change current directory              |\n",
    "| List files/folders      | `os.listdir('path')`                 | List all files/folders in a directory |\n",
    "| Create a folder         | `os.mkdir('folder')`                 | Create a single directory             |\n",
    "| Create folders (nested) | `os.makedirs('a/b/c')`               | Create nested directories             |\n",
    "| Remove a file           | `os.remove('file')`                  | Delete a file                         |\n",
    "| Remove a folder         | `os.rmdir('folder')`                 | Delete an empty folder                |\n",
    "| Remove folders (nested) | `os.removedirs('a/b/c')`             | Delete nested folders                 |\n",
    "| Rename file/folder      | `os.rename('old', 'new')`            | Rename a file/folder                  |\n",
    "| Run system commands     | `os.system('command')`               | Run shell/system command              |\n",
    "| Path operations         | `os.path.join()`, `os.path.exists()` | Work with file paths safely           |\n"
   ]
  },
  {
   "cell_type": "markdown",
   "id": "18737dd0",
   "metadata": {},
   "source": [
    "🧭 1. os.getcwd(), os.chdir()\n",
    "🔧 Task: Write a script that:\n",
    "\n",
    "Prints the current directory\n",
    "\n",
    "Changes to a subdirectory named \"Projects\" if it exists"
   ]
  },
  {
   "cell_type": "code",
   "execution_count": 3,
   "id": "9795554f",
   "metadata": {},
   "outputs": [
    {
     "name": "stdout",
     "output_type": "stream",
     "text": [
      "current directory c:\\Users\\kanha\\Desktop\\Python_work\\Python_practice_d\n",
      "Projects does not exist\n"
     ]
    }
   ],
   "source": [
    "import os\n",
    "print (\"current directory\",os.getcwd())\n",
    "\n",
    "if os.path.exists(\"Projects\"):\n",
    "    os.chdir(\"Projects\")\n",
    "    print (\"Changed to projects director\")\n",
    "else:\n",
    "    print (\"Projects does not exist\")"
   ]
  },
  {
   "cell_type": "code",
   "execution_count": 4,
   "id": "6c614ae3",
   "metadata": {},
   "outputs": [
    {
     "data": {
      "text/plain": [
       "['.git',\n",
       " '.gitignore',\n",
       " 'Day10_os_module.ipynb',\n",
       " 'Day9_for_while.ipynb',\n",
       " 'Day_1.ipynb',\n",
       " 'Day_2.ipynb',\n",
       " 'Day_3.ipynb',\n",
       " 'Day_4.ipynb',\n",
       " 'Day_5.ipynb',\n",
       " 'Day_6.ipynb',\n",
       " 'Day_7.ipynb',\n",
       " 'Day_8_Oops.ipynb',\n",
       " 'LICENSE',\n",
       " 'README.md',\n",
       " 'tips.csv']"
      ]
     },
     "execution_count": 4,
     "metadata": {},
     "output_type": "execute_result"
    }
   ],
   "source": [
    "os.listdir()"
   ]
  },
  {
   "cell_type": "markdown",
   "id": "a878baee",
   "metadata": {},
   "source": [
    "📂 2. os.listdir()\n",
    "🔧 Task: List all .txt files in a given directory."
   ]
  },
  {
   "cell_type": "code",
   "execution_count": 5,
   "id": "285df2f7",
   "metadata": {},
   "outputs": [
    {
     "name": "stdout",
     "output_type": "stream",
     "text": [
      "rough.txt\n"
     ]
    }
   ],
   "source": [
    "import os\n",
    "\n",
    "for file in os.listdir():\n",
    "    if file.endswith(\".txt\"):\n",
    "        print (file)"
   ]
  },
  {
   "cell_type": "markdown",
   "id": "a2fd90fa",
   "metadata": {},
   "source": [
    "🛠️ 3. os.mkdir(), os.makedirs()\n",
    "🔧 Task:\n",
    "- Create a folder called logs\n",
    "- Then create nested folders: data/logs/2025/May"
   ]
  },
  {
   "cell_type": "code",
   "execution_count": 8,
   "id": "16295828",
   "metadata": {},
   "outputs": [],
   "source": [
    "#os.mkdir(\"logs\")\n",
    "os.makedirs(\"logs/may/2025\")"
   ]
  },
  {
   "cell_type": "markdown",
   "id": "b65ca1bd",
   "metadata": {},
   "source": [
    "🧹 4. os.remove()\n",
    "🔧 Task: Delete all .txt files in a folder."
   ]
  },
  {
   "cell_type": "code",
   "execution_count": 12,
   "id": "30a54125",
   "metadata": {},
   "outputs": [
    {
     "name": "stdout",
     "output_type": "stream",
     "text": [
      "kanha.txt\n"
     ]
    }
   ],
   "source": [
    "for files in os.listdir():\n",
    "    if files.endswith(\".txt\"):\n",
    "        print (files)\n",
    "        os.remove(files)"
   ]
  },
  {
   "cell_type": "code",
   "execution_count": 15,
   "id": "607b53c3",
   "metadata": {},
   "outputs": [],
   "source": [
    "import os\n",
    "\n",
    "# Corrected path\n",
    "folder_path = r\"logs\\may\\2025\"\n",
    "\n",
    "# Step 1: Create the folders (if they don't exist)\n",
    "os.makedirs(folder_path, exist_ok=True)\n",
    "\n",
    "# Step 2: Create the file inside the folder\n",
    "file_path = os.path.join(folder_path, \"kanha.txt\")\n",
    "\n",
    "# Write to the file (or create it empty)\n",
    "with open(file_path, \"w\") as f:\n",
    "    f.write(\"This is Kanha's file.\")"
   ]
  },
  {
   "cell_type": "code",
   "execution_count": 16,
   "id": "1bbaf59f",
   "metadata": {},
   "outputs": [],
   "source": [
    "os.mkdir(\"exceptions\")"
   ]
  },
  {
   "cell_type": "code",
   "execution_count": 17,
   "id": "415c4f1d",
   "metadata": {},
   "outputs": [
    {
     "name": "stderr",
     "output_type": "stream",
     "text": [
      "<>:1: SyntaxWarning: invalid escape sequence '\\M'\n",
      "<>:1: SyntaxWarning: invalid escape sequence '\\M'\n",
      "C:\\Users\\kanha\\AppData\\Local\\Temp\\ipykernel_9164\\3029996972.py:1: SyntaxWarning: invalid escape sequence '\\M'\n",
      "  os.makedirs(\"exceptions\\MLflow\\DL_project]\")\n"
     ]
    }
   ],
   "source": [
    "os.makedirs(\"exceptions\\MLflow\\DL_project]\")"
   ]
  },
  {
   "cell_type": "code",
   "execution_count": 18,
   "id": "15d19890",
   "metadata": {},
   "outputs": [],
   "source": [
    "folder_path = r'C:\\Users\\kanha\\Desktop\\Python_work\\Python_practice_d\\exceptions\\MLflow\\DL_project]'\n",
    "file_path = os.path.join(folder_path, \"mera.txt\")"
   ]
  },
  {
   "cell_type": "code",
   "execution_count": null,
   "id": "e536793a",
   "metadata": {},
   "outputs": [],
   "source": [
    "with open(file_path, \"w\") as f: ##open(..., \"w\") creates the file and writes initial content.\n",
    "    f.write(\"This is my's file.\")"
   ]
  },
  {
   "cell_type": "code",
   "execution_count": 22,
   "id": "b7fe0f40",
   "metadata": {},
   "outputs": [],
   "source": [
    "file_path = r\"logs\\may\\2025\\kanha.txt\"\n",
    "os.remove(file_path)"
   ]
  },
  {
   "cell_type": "code",
   "execution_count": 23,
   "id": "16a4cf9e",
   "metadata": {},
   "outputs": [],
   "source": [
    "file_path = r\"C:\\Users\\kanha\\Desktop\\Python_work\\Python_practice_d\\exceptions\\MLflow\\DL_project]\\mera.txt\"\n",
    "os.remove(file_path)"
   ]
  },
  {
   "cell_type": "code",
   "execution_count": 25,
   "id": "82d9c4d0",
   "metadata": {},
   "outputs": [
    {
     "data": {
      "text/plain": [
       "['.git',\n",
       " '.gitignore',\n",
       " 'Day10_os_module.ipynb',\n",
       " 'Day9_for_while.ipynb',\n",
       " 'Day_1.ipynb',\n",
       " 'Day_2.ipynb',\n",
       " 'Day_3.ipynb',\n",
       " 'Day_4.ipynb',\n",
       " 'Day_5.ipynb',\n",
       " 'Day_6.ipynb',\n",
       " 'Day_7.ipynb',\n",
       " 'Day_8_Oops.ipynb',\n",
       " 'exceptions',\n",
       " 'LICENSE',\n",
       " 'logs',\n",
       " 'README.md',\n",
       " 'tips.csv']"
      ]
     },
     "execution_count": 25,
     "metadata": {},
     "output_type": "execute_result"
    }
   ],
   "source": [
    "os.listdir()"
   ]
  },
  {
   "cell_type": "code",
   "execution_count": 32,
   "id": "27bf770a",
   "metadata": {},
   "outputs": [],
   "source": [
    "folder_path = r\"logs\"\n",
    "os.rmdir(folder_path)"
   ]
  },
  {
   "cell_type": "markdown",
   "id": "7f0464c7",
   "metadata": {},
   "source": [
    "✅ To remove a folder with files/subfolders, use shutil.rmtree():"
   ]
  },
  {
   "cell_type": "code",
   "execution_count": 33,
   "id": "f0e5b28a",
   "metadata": {},
   "outputs": [],
   "source": [
    "import shutil\n",
    "import os"
   ]
  },
  {
   "cell_type": "code",
   "execution_count": 35,
   "id": "12455c6f",
   "metadata": {},
   "outputs": [
    {
     "name": "stdout",
     "output_type": "stream",
     "text": [
      "Folder does not exist.\n"
     ]
    }
   ],
   "source": [
    "folder_path = r\"C:\\Users\\kanha\\Desktop\\Python_work\\Python_practice_d\\exceptions\\MLflow\\DL_project]\"\n",
    "\n",
    "if os.path.exists(folder_path):\n",
    "    shutil.rmtree(folder_path)\n",
    "    print(\"Folder and all contents deleted.\")\n",
    "else:\n",
    "    print(\"Folder does not exist.\")"
   ]
  },
  {
   "cell_type": "code",
   "execution_count": 37,
   "id": "5e162fde",
   "metadata": {},
   "outputs": [],
   "source": [
    "os.mkdir(\"logs\")  # Create single folder"
   ]
  },
  {
   "cell_type": "code",
   "execution_count": 38,
   "id": "0c7b5c3e",
   "metadata": {},
   "outputs": [],
   "source": [
    "os.makedirs(\"data/logs/2025/May\")  # Create nested folders"
   ]
  },
  {
   "cell_type": "code",
   "execution_count": 39,
   "id": "9a650be7",
   "metadata": {},
   "outputs": [],
   "source": [
    "os.rmdir(\"logs\")  # Remove single empty folder"
   ]
  },
  {
   "cell_type": "code",
   "execution_count": 43,
   "id": "64d364d4",
   "metadata": {},
   "outputs": [],
   "source": [
    "path = r\"C:\\Users\\kanha\\Desktop\\Python_work\\Python_practice_d\\data\\logs\\2025\\May\"\n",
    "os.removedirs(path)"
   ]
  },
  {
   "cell_type": "code",
   "execution_count": 44,
   "id": "3c62413a",
   "metadata": {},
   "outputs": [],
   "source": [
    "os.rename(\"Day_1.ipynb\" , \"Day1.ipynb\")"
   ]
  },
  {
   "cell_type": "markdown",
   "id": "0935b8bf",
   "metadata": {},
   "source": [
    "💻 7. os.system()\n",
    "🔧 Task: Run a system command to show directory contents.\n"
   ]
  },
  {
   "cell_type": "code",
   "execution_count": 45,
   "id": "6e873c1d",
   "metadata": {},
   "outputs": [
    {
     "data": {
      "text/plain": [
       "0"
      ]
     },
     "execution_count": 45,
     "metadata": {},
     "output_type": "execute_result"
    }
   ],
   "source": [
    "os.system(\"dir\")  # Windows"
   ]
  },
  {
   "cell_type": "markdown",
   "id": "c5658965",
   "metadata": {},
   "source": [
    "## **Mini Project on OS**"
   ]
  },
  {
   "cell_type": "markdown",
   "id": "f04df7e5",
   "metadata": {},
   "source": [
    "### 🗂️ File Organizer"
   ]
  },
  {
   "cell_type": "markdown",
   "id": "76b1fa1a",
   "metadata": {},
   "source": [
    "Build a script that scans a folder and moves files into subfolders based on their file type (e.g., .txt → TextFiles, .jpg → Images, etc.). It's a great way to organize your \"Downloads\" folder or any cluttered directory."
   ]
  },
  {
   "cell_type": "markdown",
   "id": "214271a5",
   "metadata": {},
   "source": [
    "| Task                         | Concept                                 |\n",
    "| ---------------------------- | --------------------------------------- |\n",
    "| Get all files in a directory | `os.listdir()`                          |\n",
    "| Check if item is a file      | `os.path.isfile()`                      |\n",
    "| Get file extension           | `os.path.splitext()`                    |\n",
    "| Create folders dynamically   | `os.makedirs()`                         |\n",
    "| Move files to new folders    | `shutil.move()`                         |\n",
    "| Handle errors or duplicates  | `os.path.exists()` & exception handling |\n"
   ]
  },
  {
   "cell_type": "markdown",
   "id": "82449b29",
   "metadata": {},
   "source": [
    "🔧 Steps:\n",
    "- Ask user for directory path to organize.\n",
    "- List all files in the directory.\n",
    "- Detect file extensions.\n",
    "- Create folders for each extension if they don't exist.\n",
    "- Move files into the respective folders.\n",
    "- Print a summary of how many files were moved."
   ]
  },
  {
   "cell_type": "markdown",
   "id": "965f866f",
   "metadata": {},
   "source": [
    "🧠 What This Script Does:\n",
    "Scans your Downloads folder.\n",
    "\n",
    "Groups files by extension.\n",
    "\n",
    "Moves them into corresponding folders like Images, TextFiles, PDFs, etc.\n",
    "\n",
    "Skips folders, only processes files."
   ]
  },
  {
   "cell_type": "code",
   "execution_count": null,
   "id": "80d5e39f",
   "metadata": {},
   "outputs": [
    {
     "name": "stdout",
     "output_type": "stream",
     "text": [
      "\n",
      "📦 Organizing Complete!\n",
      "✅ Moved 7 file(s) to 'WordDocs'\n",
      "✅ Moved 142 file(s) to 'Images'\n",
      "✅ Moved 33 file(s) to 'PDFs'\n",
      "✅ Moved 5 file(s) to 'Executables'\n",
      "✅ Moved 5 file(s) to 'Zips'\n",
      "✅ Moved 2 file(s) to 'Excels'\n",
      "✅ Moved 2 file(s) to 'CodeFiles'\n",
      "✅ Moved 10 file(s) to 'TextFiles'\n",
      "✅ Moved 3 file(s) to 'Videos'\n",
      "✅ Moved 1 file(s) to 'Audios'\n",
      "⚠️ Skipped 25 file(s) (unknown types)\n"
     ]
    }
   ],
   "source": [
    "import os\n",
    "import shutil\n",
    "# 1. Get the Downloads folder path for Windows\n",
    "downloads_path = os.path.join(os.path.expanduser(\"~\"), \"Downloads\")\n",
    "#os.path.expanduser(\"~\") returns the path to the current user's home directory.\n",
    "\n",
    "# 2. Define extension categories\n",
    "EXTENSION_MAP = {\n",
    "    \"Images\": [\".jpg\", \".jpeg\", \".png\", \".gif\"],\n",
    "    \"TextFiles\": [\".txt\", \".md\"],\n",
    "    \"PDFs\": [\".pdf\"],\n",
    "    \"WordDocs\": [\".doc\", \".docx\"],\n",
    "    \"Excels\": [\".xls\", \".xlsx\"],\n",
    "    \"Zips\": [\".zip\", \".rar\"],\n",
    "    \"CodeFiles\": [\".py\", \".js\", \".html\", \".css\", \".java\"],\n",
    "    \"Videos\": [\".mp4\", \".mov\", \".avi\"],\n",
    "    \"Audios\": [\".mp3\", \".wav\"],\n",
    "    \"Executables\": [\".exe\", \".msi\"]\n",
    "}\n",
    "\n",
    "# 3. Create a reverse lookup: ext -> folder\n",
    "EXT_TO_FOLDER = {}\n",
    "\n",
    "for folder, exts in EXTENSION_MAP.items():\n",
    "    for ext in exts:\n",
    "        EXT_TO_FOLDER[ext] = folder\n",
    "        \n",
    "# 4. Start organizing\n",
    "files_moved = {}\n",
    "skipped = 0\n",
    "for item in os.listdir(downloads_path):\n",
    "    item_path = os.path.join(downloads_path, item)\n",
    "    \n",
    "    if os.path.isfile(item_path):\n",
    "        _, ext = os.path.splitext(item)\n",
    "        ext = ext.lower()\n",
    "        \n",
    "        folder_name = EXT_TO_FOLDER.get(ext)\n",
    "        if folder_name:\n",
    "            target_folder = os.path.join(downloads_path, folder_name)\n",
    "            os.makedirs(target_folder, exist_ok=True)\n",
    "\n",
    "            # Move the file\n",
    "            try:\n",
    "                shutil.move(item_path, os.path.join(target_folder, item))\n",
    "                files_moved[folder_name] = files_moved.get(folder_name, 0) + 1\n",
    "            except Exception as e:\n",
    "                print(f\"Error moving {item}: {e}\")\n",
    "        else:\n",
    "            skipped += 1\n",
    "\n",
    "# 5. Print Summary\n",
    "print(\"\\n📦 Organizing Complete!\")\n",
    "for folder, count in files_moved.items():\n",
    "    print(f\"✅ Moved {count} file(s) to '{folder}'\")\n",
    "\n",
    "if skipped:\n",
    "    print(f\"⚠️ Skipped {skipped} file(s) (unknown types)\")\n",
    "\n"
   ]
  },
  {
   "cell_type": "code",
   "execution_count": 2,
   "id": "67da17ab",
   "metadata": {},
   "outputs": [],
   "source": [
    "import os\n",
    "import shutil"
   ]
  },
  {
   "cell_type": "code",
   "execution_count": 3,
   "id": "43155005",
   "metadata": {},
   "outputs": [],
   "source": [
    "downloads_path = os.path.join(os.path.expanduser(\"~\"), \"Downloads\")"
   ]
  },
  {
   "cell_type": "code",
   "execution_count": 4,
   "id": "dd03fe0e",
   "metadata": {},
   "outputs": [],
   "source": [
    "EXTENSION_MAP = {\n",
    "    \"Images\": [\".jpg\", \".jpeg\", \".png\", \".gif\"],\n",
    "    \"TextFiles\": [\".txt\", \".md\"],\n",
    "    \"PDFs\": [\".pdf\"],\n",
    "    \"WordDocs\": [\".doc\", \".docx\"],\n",
    "    \"Excels\": [\".xls\", \".xlsx\"],\n",
    "    \"Zips\": [\".zip\", \".rar\"],\n",
    "    \"CodeFiles\": [\".py\", \".js\", \".html\", \".css\", \".java\"],\n",
    "    \"Videos\": [\".mp4\", \".mov\", \".avi\"],\n",
    "    \"Audios\": [\".mp3\", \".wav\"],\n",
    "    \"Executables\": [\".exe\", \".msi\"]\n",
    "}\n"
   ]
  }
 ],
 "metadata": {
  "kernelspec": {
   "display_name": "base",
   "language": "python",
   "name": "python3"
  },
  "language_info": {
   "codemirror_mode": {
    "name": "ipython",
    "version": 3
   },
   "file_extension": ".py",
   "mimetype": "text/x-python",
   "name": "python",
   "nbconvert_exporter": "python",
   "pygments_lexer": "ipython3",
   "version": "3.12.7"
  }
 },
 "nbformat": 4,
 "nbformat_minor": 5
}
