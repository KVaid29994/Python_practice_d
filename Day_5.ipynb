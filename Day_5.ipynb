{
 "cells": [
  {
   "cell_type": "markdown",
   "id": "145dd4a6",
   "metadata": {},
   "source": [
    "🔹 Problem:\n",
    "Given a list, write a function that returns the element that appears most frequently.\n",
    "\n",
    "✅ Example:\n",
    "[1, 3, 1, 3, 2, 1] → 1"
   ]
  },
  {
   "cell_type": "code",
   "execution_count": 14,
   "id": "440a7bdd",
   "metadata": {},
   "outputs": [],
   "source": [
    "\n",
    "from collections import Counter\n",
    "\n",
    "def most_frequent_element(list1):\n",
    "    if not list1:\n",
    "        return None\n",
    "    count = Counter(list1)\n",
    "    most_common = count.most_common(1)\n",
    "    return most_common[0][0]\n"
   ]
  },
  {
   "cell_type": "code",
   "execution_count": 15,
   "id": "011e605d",
   "metadata": {},
   "outputs": [
    {
     "name": "stdout",
     "output_type": "stream",
     "text": [
      "The most frequent element is: 1\n"
     ]
    }
   ],
   "source": [
    "list1 = [1, 2, 3, 1, 2, 1, 4]\n",
    "result = most_frequent_element(list1)\n",
    "\n",
    "print(\"The most frequent element is:\", result)"
   ]
  },
  {
   "cell_type": "markdown",
   "id": "2cb5d4d2",
   "metadata": {},
   "source": [
    "21.  Flatten a Nested List\n",
    "Given a list that contains nested lists, write a function to flatten it into a single list.\n",
    "\n",
    "✅ Example input:\n",
    "[1, [2, [3, 4], 5], 6]\n",
    "\n",
    "✅ Expected output:\n",
    "[1, 2, 3, 4, 5, 6]"
   ]
  },
  {
   "cell_type": "code",
   "execution_count": 24,
   "id": "6e063932",
   "metadata": {},
   "outputs": [],
   "source": [
    "def flatten_list(list1):\n",
    "    if not list1:\n",
    "        return None\n",
    "    result = []\n",
    "    for item in list1:\n",
    "        if isinstance(item, list):\n",
    "            result.extend(flatten_list(item))\n",
    "        else:\n",
    "            result.append(item)\n",
    "    return result"
   ]
  },
  {
   "cell_type": "code",
   "execution_count": 25,
   "id": "46c43322",
   "metadata": {},
   "outputs": [
    {
     "data": {
      "text/plain": [
       "[1, 1, 2, 3, 4, 1]"
      ]
     },
     "execution_count": 25,
     "metadata": {},
     "output_type": "execute_result"
    }
   ],
   "source": [
    "flatten_list([1,1,[2,3,4,1]])"
   ]
  },
  {
   "cell_type": "markdown",
   "id": "8b011f18",
   "metadata": {},
   "source": [
    "3️⃣ Check if Two Strings are Anagrams\n",
    "Write a function that checks if two strings are anagrams (contain the same letters, different order)."
   ]
  },
  {
   "cell_type": "code",
   "execution_count": 26,
   "id": "ec9e887a",
   "metadata": {},
   "outputs": [],
   "source": [
    "def check_anagram(sent1, sent2):\n",
    "    return sorted(sent1) == sorted(sent2)"
   ]
  },
  {
   "cell_type": "code",
   "execution_count": 27,
   "id": "5e39c9b6",
   "metadata": {},
   "outputs": [
    {
     "data": {
      "text/plain": [
       "True"
      ]
     },
     "execution_count": 27,
     "metadata": {},
     "output_type": "execute_result"
    }
   ],
   "source": [
    "check_anagram(\"listen\", \"silent\")"
   ]
  },
  {
   "cell_type": "code",
   "execution_count": 28,
   "id": "48c7182a",
   "metadata": {},
   "outputs": [
    {
     "data": {
      "text/plain": [
       "False"
      ]
     },
     "execution_count": 28,
     "metadata": {},
     "output_type": "execute_result"
    }
   ],
   "source": [
    "check_anagram(\"hello\", \"world\")"
   ]
  },
  {
   "cell_type": "markdown",
   "id": "aab83490",
   "metadata": {},
   "source": [
    "22. Reverse Words in a String (In-Place)\n",
    "\n",
    "🔹 Problem:\n",
    "\n",
    "Given a string like \"the sky is blue\", return \"blue is sky the\".\n",
    "\n",
    "✅ Challenge: Do it without using extra lists (only string operations)"
   ]
  },
  {
   "cell_type": "code",
   "execution_count": 64,
   "id": "cb2f0c36",
   "metadata": {},
   "outputs": [],
   "source": [
    "def reverse_words(sent1):\n",
    "    return \" \".join(sent1.strip().split()[::-1])"
   ]
  },
  {
   "cell_type": "code",
   "execution_count": 65,
   "id": "5dbccb7d",
   "metadata": {},
   "outputs": [
    {
     "data": {
      "text/plain": [
       "'blue is sky the'"
      ]
     },
     "execution_count": 65,
     "metadata": {},
     "output_type": "execute_result"
    }
   ],
   "source": [
    "reverse_words(\"the sky is blue\")"
   ]
  },
  {
   "cell_type": "code",
   "execution_count": 79,
   "id": "c29ee169",
   "metadata": {},
   "outputs": [
    {
     "name": "stdout",
     "output_type": "stream",
     "text": [
      "mango Apple\n"
     ]
    }
   ],
   "source": [
    "import string\n",
    "string_1 = \"Apple , mango\"\n",
    "translator = str.maketrans(\"\", \"\",string.punctuation)\n",
    "print (\" \".join(string_1.translate(translator).strip().split()[::-1]))"
   ]
  },
  {
   "cell_type": "markdown",
   "id": "642d0f6c",
   "metadata": {},
   "source": [
    "2️⃣ Find the Missing Number in a Sequence\n",
    "\n",
    "🔹 Problem:\n",
    "You’re given a list of numbers from 1 to n with one missing.\n",
    "Find the missing number.\n",
    "\n",
    "✅ Example: [1, 2, 4, 5] → 3"
   ]
  },
  {
   "cell_type": "code",
   "execution_count": 102,
   "id": "5012137a",
   "metadata": {},
   "outputs": [],
   "source": [
    "def missing_number(list1):\n",
    "    sum_real = sum(list1)\n",
    "    n = len(list1) +1\n",
    "\n",
    "    sum_to_be = n*(n+1)//2\n",
    "\n",
    "\n",
    "    mising_number = sum_to_be - sum_real\n",
    "    print (\"the missing number is \",mising_number)"
   ]
  },
  {
   "cell_type": "code",
   "execution_count": 103,
   "id": "d08a9fe6",
   "metadata": {},
   "outputs": [
    {
     "name": "stdout",
     "output_type": "stream",
     "text": [
      "the missing number is  3\n"
     ]
    }
   ],
   "source": [
    "missing_number([1,2,4,5])"
   ]
  },
  {
   "cell_type": "markdown",
   "id": "dfb5a34c",
   "metadata": {},
   "source": [
    "Problem:\n",
    "\n",
    "Given a list of numbers from 1 to n, but possibly with multiple missing, return all the missing numbers.\n",
    "\n",
    "\n",
    "\n",
    "✅ Example:\n",
    "Input → [1, 2, 4, 6] (n = 6)\n",
    "Output → [3, 5]"
   ]
  },
  {
   "cell_type": "code",
   "execution_count": 109,
   "id": "9747c1d7",
   "metadata": {},
   "outputs": [],
   "source": [
    "def find_missing_number(nums, n):\n",
    "    try :\n",
    "        full_set = set(range(1,n+1))\n",
    "        num_set = set(nums)\n",
    "        missing = full_set-num_set\n",
    "        return sorted(missing)\n",
    "    except ValueError as e:\n",
    "        print (\"you have entered a string\")\n",
    "    except Exception as e:\n",
    "        print (e)"
   ]
  },
  {
   "cell_type": "code",
   "execution_count": 113,
   "id": "c3ee81c3",
   "metadata": {},
   "outputs": [
    {
     "data": {
      "text/plain": [
       "[3, 6, 8, 9, 10, 11]"
      ]
     },
     "execution_count": 113,
     "metadata": {},
     "output_type": "execute_result"
    }
   ],
   "source": [
    "nums = [1,2,4,5,7]\n",
    "\n",
    "find_missing_number(nums, 11)"
   ]
  },
  {
   "cell_type": "markdown",
   "id": "bd8e97e4",
   "metadata": {},
   "source": [
    "22. Detect a Cycle in a Linked List\n",
    "\n",
    "🔹 Problem:\n",
    "\n",
    "Given the head of a linked list, write a function to check if there’s a cycle in it (i.e., a node points back to a previous node).\n",
    "\n",
    "✅ Hint: Use the Floyd’s Tortoise and Hare algorithm."
   ]
  },
  {
   "cell_type": "code",
   "execution_count": 114,
   "id": "32011369",
   "metadata": {},
   "outputs": [],
   "source": [
    "class ListNode:\n",
    "    def __init__(self, val =0, next = None):\n",
    "        self.val = val\n",
    "        self.next = next\n",
    "    def has_cycle(head):\n",
    "        slow = head\n",
    "        fast = head\n",
    "\n",
    "        while fast and fast.next:\n",
    "            slow = slow.next\n",
    "            fast = fast.next.next\n",
    "\n",
    "            if slow == fast:\n",
    "                return True\n",
    "            \n",
    "        return False\n",
    "    "
   ]
  },
  {
   "cell_type": "code",
   "execution_count": null,
   "id": "cf98500c",
   "metadata": {},
   "outputs": [],
   "source": []
  }
 ],
 "metadata": {
  "kernelspec": {
   "display_name": "base",
   "language": "python",
   "name": "python3"
  },
  "language_info": {
   "codemirror_mode": {
    "name": "ipython",
    "version": 3
   },
   "file_extension": ".py",
   "mimetype": "text/x-python",
   "name": "python",
   "nbconvert_exporter": "python",
   "pygments_lexer": "ipython3",
   "version": "3.12.7"
  }
 },
 "nbformat": 4,
 "nbformat_minor": 5
}
