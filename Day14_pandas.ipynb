{
 "cells": [
  {
   "cell_type": "markdown",
   "id": "ad58323b",
   "metadata": {},
   "source": [
    "### 🧠 What is pandas?\n",
    "pandas is an open-source Python library that provides high-performance, easy-to-use data structures and data analysis tools.\n",
    "\n",
    "It is mainly built around two key data structures:\n",
    "- Series – 1D labeled array (like a list with index)\n",
    "\n",
    "- DataFrame – 2D labeled table (like an Excel spreadsheet or SQL table)"
   ]
  },
  {
   "cell_type": "markdown",
   "id": "d8f9f62b",
   "metadata": {},
   "source": [
    "- Creating a Series\n",
    "\n",
    " data = [10, 20, 30]"
   ]
  },
  {
   "cell_type": "code",
   "execution_count": 1,
   "id": "f367a4c3",
   "metadata": {},
   "outputs": [
    {
     "name": "stdout",
     "output_type": "stream",
     "text": [
      "0    10\n",
      "1    20\n",
      "2    30\n",
      "dtype: int64\n"
     ]
    }
   ],
   "source": [
    "import pandas as pd\n",
    "\n",
    "data = [10,20,30]\n",
    "data = pd.Series(data)\n",
    "print (data)"
   ]
  },
  {
   "cell_type": "markdown",
   "id": "f1edfaa5",
   "metadata": {},
   "source": [
    "-You can also create a Series with custom labels:\n"
   ]
  },
  {
   "cell_type": "code",
   "execution_count": 4,
   "id": "24b660bd",
   "metadata": {},
   "outputs": [],
   "source": [
    "data = [10,20,30]\n",
    "data = pd.Series(data, index = [\"A\", \"B\", \"C\"])"
   ]
  },
  {
   "cell_type": "code",
   "execution_count": 5,
   "id": "e538056b",
   "metadata": {},
   "outputs": [
    {
     "data": {
      "text/plain": [
       "A    10\n",
       "B    20\n",
       "C    30\n",
       "dtype: int64"
      ]
     },
     "execution_count": 5,
     "metadata": {},
     "output_type": "execute_result"
    }
   ],
   "source": [
    "data"
   ]
  },
  {
   "cell_type": "markdown",
   "id": "27e525bb",
   "metadata": {},
   "source": [
    "### Create a Pandas Series using the list [10, 20, 30, 40, 50] and print it."
   ]
  },
  {
   "cell_type": "code",
   "execution_count": 6,
   "id": "f82dd802",
   "metadata": {},
   "outputs": [],
   "source": [
    "data_1 = [10,20,30,40,50]\n",
    "\n",
    "data_1 = pd.Series(data_1)"
   ]
  },
  {
   "cell_type": "code",
   "execution_count": 7,
   "id": "1655a16a",
   "metadata": {},
   "outputs": [
    {
     "data": {
      "text/plain": [
       "0    10\n",
       "1    20\n",
       "2    30\n",
       "3    40\n",
       "4    50\n",
       "dtype: int64"
      ]
     },
     "execution_count": 7,
     "metadata": {},
     "output_type": "execute_result"
    }
   ],
   "source": [
    "data_1"
   ]
  },
  {
   "cell_type": "code",
   "execution_count": 10,
   "id": "0fcad92d",
   "metadata": {},
   "outputs": [
    {
     "name": "stdout",
     "output_type": "stream",
     "text": [
      "A    100\n",
      "B    200\n",
      "C    300\n",
      "dtype: int64\n"
     ]
    }
   ],
   "source": [
    "data_2 = [100,200,300]\n",
    "\n",
    "data_2 = pd.Series(data_2, index = [\"A\", \"B\", \"C\"])\n",
    "print (data_2)"
   ]
  },
  {
   "cell_type": "code",
   "execution_count": 11,
   "id": "88cc6ef2",
   "metadata": {},
   "outputs": [],
   "source": [
    "dict_1 = {'apple': 3, 'banana': 5, 'cherry': 2}\n",
    "\n",
    "data = pd.Series(dict_1)"
   ]
  },
  {
   "cell_type": "code",
   "execution_count": 12,
   "id": "c82d9c7b",
   "metadata": {},
   "outputs": [
    {
     "data": {
      "text/plain": [
       "apple     3\n",
       "banana    5\n",
       "cherry    2\n",
       "dtype: int64"
      ]
     },
     "execution_count": 12,
     "metadata": {},
     "output_type": "execute_result"
    }
   ],
   "source": [
    "data"
   ]
  },
  {
   "cell_type": "markdown",
   "id": "58556fd5",
   "metadata": {},
   "source": [
    "### Given a Series of numbers from 1 to 5, square each element using .apply() or vectorized operations.\n"
   ]
  },
  {
   "cell_type": "code",
   "execution_count": 17,
   "id": "8ff6a79a",
   "metadata": {},
   "outputs": [],
   "source": [
    "data = [1,2,3,4,5]\n",
    "\n",
    "def square_1(number):\n",
    "    return number**2\n",
    "\n",
    "data = pd.Series(data)"
   ]
  },
  {
   "cell_type": "code",
   "execution_count": 18,
   "id": "5f0c8511",
   "metadata": {},
   "outputs": [
    {
     "data": {
      "text/plain": [
       "0     1\n",
       "1     4\n",
       "2     9\n",
       "3    16\n",
       "4    25\n",
       "dtype: int64"
      ]
     },
     "execution_count": 18,
     "metadata": {},
     "output_type": "execute_result"
    }
   ],
   "source": [
    "data.apply(square_1)"
   ]
  },
  {
   "cell_type": "code",
   "execution_count": 1,
   "id": "541338ca",
   "metadata": {},
   "outputs": [],
   "source": [
    "import pandas as pd"
   ]
  },
  {
   "cell_type": "code",
   "execution_count": 2,
   "id": "5df4fb7f",
   "metadata": {},
   "outputs": [],
   "source": [
    "data = pd.read_csv(r\"C:\\Users\\kanha\\Desktop\\Python_work\\Python_practice_d\\tips.csv\")"
   ]
  },
  {
   "cell_type": "code",
   "execution_count": 3,
   "id": "c16670fb",
   "metadata": {},
   "outputs": [
    {
     "data": {
      "text/html": [
       "<div>\n",
       "<style scoped>\n",
       "    .dataframe tbody tr th:only-of-type {\n",
       "        vertical-align: middle;\n",
       "    }\n",
       "\n",
       "    .dataframe tbody tr th {\n",
       "        vertical-align: top;\n",
       "    }\n",
       "\n",
       "    .dataframe thead th {\n",
       "        text-align: right;\n",
       "    }\n",
       "</style>\n",
       "<table border=\"1\" class=\"dataframe\">\n",
       "  <thead>\n",
       "    <tr style=\"text-align: right;\">\n",
       "      <th></th>\n",
       "      <th>total_bill</th>\n",
       "      <th>tip</th>\n",
       "      <th>sex</th>\n",
       "      <th>smoker</th>\n",
       "      <th>day</th>\n",
       "      <th>time</th>\n",
       "      <th>size</th>\n",
       "      <th>price_per_person</th>\n",
       "      <th>Payer Name</th>\n",
       "      <th>CC Number</th>\n",
       "      <th>Payment ID</th>\n",
       "    </tr>\n",
       "  </thead>\n",
       "  <tbody>\n",
       "    <tr>\n",
       "      <th>0</th>\n",
       "      <td>16.99</td>\n",
       "      <td>1.01</td>\n",
       "      <td>Female</td>\n",
       "      <td>No</td>\n",
       "      <td>Sun</td>\n",
       "      <td>Dinner</td>\n",
       "      <td>2</td>\n",
       "      <td>8.49</td>\n",
       "      <td>Christy Cunningham</td>\n",
       "      <td>3560325168603410</td>\n",
       "      <td>Sun2959</td>\n",
       "    </tr>\n",
       "    <tr>\n",
       "      <th>1</th>\n",
       "      <td>10.34</td>\n",
       "      <td>1.66</td>\n",
       "      <td>Male</td>\n",
       "      <td>No</td>\n",
       "      <td>Sun</td>\n",
       "      <td>Dinner</td>\n",
       "      <td>3</td>\n",
       "      <td>3.45</td>\n",
       "      <td>Douglas Tucker</td>\n",
       "      <td>4478071379779230</td>\n",
       "      <td>Sun4608</td>\n",
       "    </tr>\n",
       "    <tr>\n",
       "      <th>2</th>\n",
       "      <td>21.01</td>\n",
       "      <td>3.50</td>\n",
       "      <td>Male</td>\n",
       "      <td>No</td>\n",
       "      <td>Sun</td>\n",
       "      <td>Dinner</td>\n",
       "      <td>3</td>\n",
       "      <td>7.00</td>\n",
       "      <td>Travis Walters</td>\n",
       "      <td>6011812112971322</td>\n",
       "      <td>Sun4458</td>\n",
       "    </tr>\n",
       "    <tr>\n",
       "      <th>3</th>\n",
       "      <td>23.68</td>\n",
       "      <td>3.31</td>\n",
       "      <td>Male</td>\n",
       "      <td>No</td>\n",
       "      <td>Sun</td>\n",
       "      <td>Dinner</td>\n",
       "      <td>2</td>\n",
       "      <td>11.84</td>\n",
       "      <td>Nathaniel Harris</td>\n",
       "      <td>4676137647685994</td>\n",
       "      <td>Sun5260</td>\n",
       "    </tr>\n",
       "    <tr>\n",
       "      <th>4</th>\n",
       "      <td>24.59</td>\n",
       "      <td>3.61</td>\n",
       "      <td>Female</td>\n",
       "      <td>No</td>\n",
       "      <td>Sun</td>\n",
       "      <td>Dinner</td>\n",
       "      <td>4</td>\n",
       "      <td>6.15</td>\n",
       "      <td>Tonya Carter</td>\n",
       "      <td>4832732618637221</td>\n",
       "      <td>Sun2251</td>\n",
       "    </tr>\n",
       "  </tbody>\n",
       "</table>\n",
       "</div>"
      ],
      "text/plain": [
       "   total_bill   tip     sex smoker  day    time  size  price_per_person  \\\n",
       "0       16.99  1.01  Female     No  Sun  Dinner     2              8.49   \n",
       "1       10.34  1.66    Male     No  Sun  Dinner     3              3.45   \n",
       "2       21.01  3.50    Male     No  Sun  Dinner     3              7.00   \n",
       "3       23.68  3.31    Male     No  Sun  Dinner     2             11.84   \n",
       "4       24.59  3.61  Female     No  Sun  Dinner     4              6.15   \n",
       "\n",
       "           Payer Name         CC Number Payment ID  \n",
       "0  Christy Cunningham  3560325168603410    Sun2959  \n",
       "1      Douglas Tucker  4478071379779230    Sun4608  \n",
       "2      Travis Walters  6011812112971322    Sun4458  \n",
       "3    Nathaniel Harris  4676137647685994    Sun5260  \n",
       "4        Tonya Carter  4832732618637221    Sun2251  "
      ]
     },
     "execution_count": 3,
     "metadata": {},
     "output_type": "execute_result"
    }
   ],
   "source": [
    "data.head()"
   ]
  },
  {
   "cell_type": "code",
   "execution_count": 4,
   "id": "16fac750",
   "metadata": {},
   "outputs": [
    {
     "data": {
      "text/plain": [
       "(97, 11)"
      ]
     },
     "execution_count": 4,
     "metadata": {},
     "output_type": "execute_result"
    }
   ],
   "source": [
    "## Show all rows where the bill was greater than ₹20.\n",
    "\n",
    "data[data[\"total_bill\"]>20].shape\n",
    "\n"
   ]
  },
  {
   "cell_type": "code",
   "execution_count": 5,
   "id": "8879d812",
   "metadata": {},
   "outputs": [
    {
     "data": {
      "text/plain": [
       "(44, 11)"
      ]
     },
     "execution_count": 5,
     "metadata": {},
     "output_type": "execute_result"
    }
   ],
   "source": [
    "### Filter all dinners where the tip was more than ₹3 and the party size was 2.\n",
    "\n",
    "data[(data['tip']>3) & (data['size']==2)].shape"
   ]
  },
  {
   "cell_type": "code",
   "execution_count": 6,
   "id": "c0b9eb53",
   "metadata": {},
   "outputs": [
    {
     "data": {
      "text/plain": [
       "(54, 11)"
      ]
     },
     "execution_count": 6,
     "metadata": {},
     "output_type": "execute_result"
    }
   ],
   "source": [
    "### 3. Get all rows where the payer is female and not a smoker\n",
    "data[(data[\"sex\"] ==\"Female\") & (data[\"smoker\"] ==\"No\") ].shape"
   ]
  },
  {
   "cell_type": "code",
   "execution_count": 7,
   "id": "ba86ffa3",
   "metadata": {},
   "outputs": [],
   "source": [
    "### Create a new column tip_percent = (tip / total_bill) * 100.\n",
    "\n",
    "data[\"tip_percent\"] = round((data['tip']/ data[\"total_bill\"])*100,4)\n"
   ]
  },
  {
   "cell_type": "code",
   "execution_count": 8,
   "id": "a558502c",
   "metadata": {},
   "outputs": [
    {
     "data": {
      "text/plain": [
       "0       5.9447\n",
       "1      16.0542\n",
       "2      16.6587\n",
       "3      13.9780\n",
       "4      14.6808\n",
       "        ...   \n",
       "239    20.3927\n",
       "240     7.3584\n",
       "241     8.8222\n",
       "242     9.8204\n",
       "243    15.9744\n",
       "Name: tip_percent, Length: 244, dtype: float64"
      ]
     },
     "execution_count": 8,
     "metadata": {},
     "output_type": "execute_result"
    }
   ],
   "source": [
    "data['tip_percent']"
   ]
  },
  {
   "cell_type": "code",
   "execution_count": 9,
   "id": "55ccc99e",
   "metadata": {},
   "outputs": [],
   "source": [
    "## Round the price_per_person column to 2 decimal placess\n",
    "data[\"price_per_person\"]= data[\"price_per_person\"].round(2)"
   ]
  },
  {
   "cell_type": "code",
   "execution_count": 10,
   "id": "fb1998fe",
   "metadata": {},
   "outputs": [
    {
     "data": {
      "text/plain": [
       "0       8.49\n",
       "1       3.45\n",
       "2       7.00\n",
       "3      11.84\n",
       "4       6.15\n",
       "       ...  \n",
       "239     9.68\n",
       "240    13.59\n",
       "241    11.34\n",
       "242     8.91\n",
       "243     9.39\n",
       "Name: price_per_person, Length: 244, dtype: float64"
      ]
     },
     "execution_count": 10,
     "metadata": {},
     "output_type": "execute_result"
    }
   ],
   "source": [
    "data['price_per_person']"
   ]
  },
  {
   "cell_type": "code",
   "execution_count": 11,
   "id": "bfd20e35",
   "metadata": {},
   "outputs": [
    {
     "data": {
      "text/plain": [
       "'Kashish'"
      ]
     },
     "execution_count": 11,
     "metadata": {},
     "output_type": "execute_result"
    }
   ],
   "source": [
    "##  Extract the first name of each Payer Name into a new column.\n",
    "sent = \"Kashish Vaid\"\n",
    "sent.split()[0]\n"
   ]
  },
  {
   "cell_type": "code",
   "execution_count": 12,
   "id": "15183b17",
   "metadata": {},
   "outputs": [],
   "source": [
    "data['first_name'] = data[\"Payer Name\"].apply(lambda x : x.split()[0])"
   ]
  },
  {
   "cell_type": "code",
   "execution_count": 13,
   "id": "ac2c7693",
   "metadata": {},
   "outputs": [
    {
     "data": {
      "text/plain": [
       "0        Christy\n",
       "1        Douglas\n",
       "2         Travis\n",
       "3      Nathaniel\n",
       "4          Tonya\n",
       "         ...    \n",
       "239      Michael\n",
       "240       Monica\n",
       "241        Keith\n",
       "242       Dennis\n",
       "243     Michelle\n",
       "Name: first_name, Length: 244, dtype: object"
      ]
     },
     "execution_count": 13,
     "metadata": {},
     "output_type": "execute_result"
    }
   ],
   "source": [
    "data['first_name']"
   ]
  },
  {
   "cell_type": "code",
   "execution_count": 14,
   "id": "eac25847",
   "metadata": {},
   "outputs": [
    {
     "data": {
      "text/plain": [
       "sex\n",
       "Female    2.833448\n",
       "Male      3.089618\n",
       "Name: tip, dtype: float64"
      ]
     },
     "execution_count": 14,
     "metadata": {},
     "output_type": "execute_result"
    }
   ],
   "source": [
    "### 7. What is the average tip given by males vs. females?\n",
    "\n",
    "data.groupby(\"sex\")[\"tip\"].mean()"
   ]
  },
  {
   "cell_type": "code",
   "execution_count": 15,
   "id": "85d488d7",
   "metadata": {},
   "outputs": [
    {
     "data": {
      "text/plain": [
       "Index(['total_bill', 'tip', 'sex', 'smoker', 'day', 'time', 'size',\n",
       "       'price_per_person', 'Payer Name', 'CC Number', 'Payment ID',\n",
       "       'tip_percent', 'first_name'],\n",
       "      dtype='object')"
      ]
     },
     "execution_count": 15,
     "metadata": {},
     "output_type": "execute_result"
    }
   ],
   "source": [
    "data.columns"
   ]
  },
  {
   "cell_type": "code",
   "execution_count": 18,
   "id": "0f6f876b",
   "metadata": {},
   "outputs": [
    {
     "data": {
      "text/plain": [
       "day\n",
       "Sat     1778.40\n",
       "Sun     1627.16\n",
       "Thur    1096.33\n",
       "Fri      325.88\n",
       "Name: total_bill, dtype: float64"
      ]
     },
     "execution_count": 18,
     "metadata": {},
     "output_type": "execute_result"
    }
   ],
   "source": [
    "### Group by day and get the total bill collected on each day.\n",
    "data.groupby(\"day\")[\"total_bill\"].sum().sort_values(ascending= False)"
   ]
  },
  {
   "cell_type": "code",
   "execution_count": 19,
   "id": "88eaaa1a",
   "metadata": {},
   "outputs": [
    {
     "data": {
      "text/plain": [
       "time\n",
       "Dinner    8.109205\n",
       "Lunch     7.316176\n",
       "Name: price_per_person, dtype: float64"
      ]
     },
     "execution_count": 19,
     "metadata": {},
     "output_type": "execute_result"
    }
   ],
   "source": [
    "###  Group by time and calculate average price_per_person.\n",
    "\n",
    "data.groupby(\"time\")[\"price_per_person\"].mean()"
   ]
  },
  {
   "cell_type": "code",
   "execution_count": 25,
   "id": "b23c61f3",
   "metadata": {},
   "outputs": [
    {
     "data": {
      "text/plain": [
       "day\n",
       "Sat     260.40\n",
       "Sun     247.39\n",
       "Thur    171.83\n",
       "Fri      51.96\n",
       "Name: tip, dtype: float64"
      ]
     },
     "execution_count": 25,
     "metadata": {},
     "output_type": "execute_result"
    }
   ],
   "source": [
    "## Which day has the highest total tip amount?\n",
    "data.groupby(\"day\")[\"tip\"].sum().sort_values(ascending= False)"
   ]
  },
  {
   "cell_type": "code",
   "execution_count": 28,
   "id": "43a00dbb",
   "metadata": {},
   "outputs": [
    {
     "data": {
      "text/html": [
       "<div>\n",
       "<style scoped>\n",
       "    .dataframe tbody tr th:only-of-type {\n",
       "        vertical-align: middle;\n",
       "    }\n",
       "\n",
       "    .dataframe tbody tr th {\n",
       "        vertical-align: top;\n",
       "    }\n",
       "\n",
       "    .dataframe thead th {\n",
       "        text-align: right;\n",
       "    }\n",
       "</style>\n",
       "<table border=\"1\" class=\"dataframe\">\n",
       "  <thead>\n",
       "    <tr style=\"text-align: right;\">\n",
       "      <th></th>\n",
       "      <th>total_bill</th>\n",
       "      <th>tip</th>\n",
       "      <th>sex</th>\n",
       "      <th>smoker</th>\n",
       "      <th>day</th>\n",
       "      <th>time</th>\n",
       "      <th>size</th>\n",
       "      <th>price_per_person</th>\n",
       "      <th>Payer Name</th>\n",
       "      <th>CC Number</th>\n",
       "      <th>Payment ID</th>\n",
       "      <th>tip_percent</th>\n",
       "      <th>first_name</th>\n",
       "    </tr>\n",
       "  </thead>\n",
       "  <tbody>\n",
       "    <tr>\n",
       "      <th>170</th>\n",
       "      <td>50.81</td>\n",
       "      <td>10.00</td>\n",
       "      <td>Male</td>\n",
       "      <td>Yes</td>\n",
       "      <td>Sat</td>\n",
       "      <td>Dinner</td>\n",
       "      <td>3</td>\n",
       "      <td>16.94</td>\n",
       "      <td>Gregory Clark</td>\n",
       "      <td>5473850968388236</td>\n",
       "      <td>Sat1954</td>\n",
       "      <td>19.6812</td>\n",
       "      <td>Gregory</td>\n",
       "    </tr>\n",
       "    <tr>\n",
       "      <th>212</th>\n",
       "      <td>48.33</td>\n",
       "      <td>9.00</td>\n",
       "      <td>Male</td>\n",
       "      <td>No</td>\n",
       "      <td>Sat</td>\n",
       "      <td>Dinner</td>\n",
       "      <td>4</td>\n",
       "      <td>12.08</td>\n",
       "      <td>Alex Williamson</td>\n",
       "      <td>676218815212</td>\n",
       "      <td>Sat4590</td>\n",
       "      <td>18.6220</td>\n",
       "      <td>Alex</td>\n",
       "    </tr>\n",
       "    <tr>\n",
       "      <th>23</th>\n",
       "      <td>39.42</td>\n",
       "      <td>7.58</td>\n",
       "      <td>Male</td>\n",
       "      <td>No</td>\n",
       "      <td>Sat</td>\n",
       "      <td>Dinner</td>\n",
       "      <td>4</td>\n",
       "      <td>9.86</td>\n",
       "      <td>Lance Peterson</td>\n",
       "      <td>3542584061609808</td>\n",
       "      <td>Sat239</td>\n",
       "      <td>19.2288</td>\n",
       "      <td>Lance</td>\n",
       "    </tr>\n",
       "    <tr>\n",
       "      <th>59</th>\n",
       "      <td>48.27</td>\n",
       "      <td>6.73</td>\n",
       "      <td>Male</td>\n",
       "      <td>No</td>\n",
       "      <td>Sat</td>\n",
       "      <td>Dinner</td>\n",
       "      <td>4</td>\n",
       "      <td>12.07</td>\n",
       "      <td>Brian Ortiz</td>\n",
       "      <td>6596453823950595</td>\n",
       "      <td>Sat8139</td>\n",
       "      <td>13.9424</td>\n",
       "      <td>Brian</td>\n",
       "    </tr>\n",
       "    <tr>\n",
       "      <th>141</th>\n",
       "      <td>34.30</td>\n",
       "      <td>6.70</td>\n",
       "      <td>Male</td>\n",
       "      <td>No</td>\n",
       "      <td>Thur</td>\n",
       "      <td>Lunch</td>\n",
       "      <td>6</td>\n",
       "      <td>5.72</td>\n",
       "      <td>Steven Carlson</td>\n",
       "      <td>3526515703718508</td>\n",
       "      <td>Thur1025</td>\n",
       "      <td>19.5335</td>\n",
       "      <td>Steven</td>\n",
       "    </tr>\n",
       "    <tr>\n",
       "      <th>...</th>\n",
       "      <td>...</td>\n",
       "      <td>...</td>\n",
       "      <td>...</td>\n",
       "      <td>...</td>\n",
       "      <td>...</td>\n",
       "      <td>...</td>\n",
       "      <td>...</td>\n",
       "      <td>...</td>\n",
       "      <td>...</td>\n",
       "      <td>...</td>\n",
       "      <td>...</td>\n",
       "      <td>...</td>\n",
       "      <td>...</td>\n",
       "    </tr>\n",
       "    <tr>\n",
       "      <th>0</th>\n",
       "      <td>16.99</td>\n",
       "      <td>1.01</td>\n",
       "      <td>Female</td>\n",
       "      <td>No</td>\n",
       "      <td>Sun</td>\n",
       "      <td>Dinner</td>\n",
       "      <td>2</td>\n",
       "      <td>8.49</td>\n",
       "      <td>Christy Cunningham</td>\n",
       "      <td>3560325168603410</td>\n",
       "      <td>Sun2959</td>\n",
       "      <td>5.9447</td>\n",
       "      <td>Christy</td>\n",
       "    </tr>\n",
       "    <tr>\n",
       "      <th>236</th>\n",
       "      <td>12.60</td>\n",
       "      <td>1.00</td>\n",
       "      <td>Male</td>\n",
       "      <td>Yes</td>\n",
       "      <td>Sat</td>\n",
       "      <td>Dinner</td>\n",
       "      <td>2</td>\n",
       "      <td>6.30</td>\n",
       "      <td>Matthew Myers</td>\n",
       "      <td>3543676378973965</td>\n",
       "      <td>Sat5032</td>\n",
       "      <td>7.9365</td>\n",
       "      <td>Matthew</td>\n",
       "    </tr>\n",
       "    <tr>\n",
       "      <th>111</th>\n",
       "      <td>7.25</td>\n",
       "      <td>1.00</td>\n",
       "      <td>Female</td>\n",
       "      <td>No</td>\n",
       "      <td>Sat</td>\n",
       "      <td>Dinner</td>\n",
       "      <td>1</td>\n",
       "      <td>7.25</td>\n",
       "      <td>Terri Jones</td>\n",
       "      <td>3559221007826887</td>\n",
       "      <td>Sat4801</td>\n",
       "      <td>13.7931</td>\n",
       "      <td>Terri</td>\n",
       "    </tr>\n",
       "    <tr>\n",
       "      <th>67</th>\n",
       "      <td>3.07</td>\n",
       "      <td>1.00</td>\n",
       "      <td>Female</td>\n",
       "      <td>Yes</td>\n",
       "      <td>Sat</td>\n",
       "      <td>Dinner</td>\n",
       "      <td>1</td>\n",
       "      <td>3.07</td>\n",
       "      <td>Tiffany Brock</td>\n",
       "      <td>4359488526995267</td>\n",
       "      <td>Sat3455</td>\n",
       "      <td>32.5733</td>\n",
       "      <td>Tiffany</td>\n",
       "    </tr>\n",
       "    <tr>\n",
       "      <th>92</th>\n",
       "      <td>5.75</td>\n",
       "      <td>1.00</td>\n",
       "      <td>Female</td>\n",
       "      <td>Yes</td>\n",
       "      <td>Fri</td>\n",
       "      <td>Dinner</td>\n",
       "      <td>2</td>\n",
       "      <td>2.88</td>\n",
       "      <td>Leah Ramirez</td>\n",
       "      <td>3508911676966392</td>\n",
       "      <td>Fri3780</td>\n",
       "      <td>17.3913</td>\n",
       "      <td>Leah</td>\n",
       "    </tr>\n",
       "  </tbody>\n",
       "</table>\n",
       "<p>244 rows × 13 columns</p>\n",
       "</div>"
      ],
      "text/plain": [
       "     total_bill    tip     sex smoker   day    time  size  price_per_person  \\\n",
       "170       50.81  10.00    Male    Yes   Sat  Dinner     3             16.94   \n",
       "212       48.33   9.00    Male     No   Sat  Dinner     4             12.08   \n",
       "23        39.42   7.58    Male     No   Sat  Dinner     4              9.86   \n",
       "59        48.27   6.73    Male     No   Sat  Dinner     4             12.07   \n",
       "141       34.30   6.70    Male     No  Thur   Lunch     6              5.72   \n",
       "..          ...    ...     ...    ...   ...     ...   ...               ...   \n",
       "0         16.99   1.01  Female     No   Sun  Dinner     2              8.49   \n",
       "236       12.60   1.00    Male    Yes   Sat  Dinner     2              6.30   \n",
       "111        7.25   1.00  Female     No   Sat  Dinner     1              7.25   \n",
       "67         3.07   1.00  Female    Yes   Sat  Dinner     1              3.07   \n",
       "92         5.75   1.00  Female    Yes   Fri  Dinner     2              2.88   \n",
       "\n",
       "             Payer Name         CC Number Payment ID  tip_percent first_name  \n",
       "170       Gregory Clark  5473850968388236    Sat1954      19.6812    Gregory  \n",
       "212     Alex Williamson      676218815212    Sat4590      18.6220       Alex  \n",
       "23       Lance Peterson  3542584061609808     Sat239      19.2288      Lance  \n",
       "59          Brian Ortiz  6596453823950595    Sat8139      13.9424      Brian  \n",
       "141      Steven Carlson  3526515703718508   Thur1025      19.5335     Steven  \n",
       "..                  ...               ...        ...          ...        ...  \n",
       "0    Christy Cunningham  3560325168603410    Sun2959       5.9447    Christy  \n",
       "236       Matthew Myers  3543676378973965    Sat5032       7.9365    Matthew  \n",
       "111         Terri Jones  3559221007826887    Sat4801      13.7931      Terri  \n",
       "67        Tiffany Brock  4359488526995267    Sat3455      32.5733    Tiffany  \n",
       "92         Leah Ramirez  3508911676966392    Fri3780      17.3913       Leah  \n",
       "\n",
       "[244 rows x 13 columns]"
      ]
     },
     "execution_count": 28,
     "metadata": {},
     "output_type": "execute_result"
    }
   ],
   "source": [
    "##🔹 Sorting & Indexing\n",
    "##Sort the dataframe by tip in descending order\n",
    "\n",
    "data.sort_values(by=\"tip\", ascending= False)"
   ]
  },
  {
   "cell_type": "code",
   "execution_count": 29,
   "id": "8314a5b6",
   "metadata": {},
   "outputs": [
    {
     "data": {
      "text/html": [
       "<div>\n",
       "<style scoped>\n",
       "    .dataframe tbody tr th:only-of-type {\n",
       "        vertical-align: middle;\n",
       "    }\n",
       "\n",
       "    .dataframe tbody tr th {\n",
       "        vertical-align: top;\n",
       "    }\n",
       "\n",
       "    .dataframe thead th {\n",
       "        text-align: right;\n",
       "    }\n",
       "</style>\n",
       "<table border=\"1\" class=\"dataframe\">\n",
       "  <thead>\n",
       "    <tr style=\"text-align: right;\">\n",
       "      <th></th>\n",
       "      <th>total_bill</th>\n",
       "      <th>tip</th>\n",
       "      <th>sex</th>\n",
       "      <th>smoker</th>\n",
       "      <th>day</th>\n",
       "      <th>time</th>\n",
       "      <th>size</th>\n",
       "      <th>price_per_person</th>\n",
       "      <th>Payer Name</th>\n",
       "      <th>CC Number</th>\n",
       "      <th>Payment ID</th>\n",
       "      <th>tip_percent</th>\n",
       "      <th>first_name</th>\n",
       "    </tr>\n",
       "  </thead>\n",
       "  <tbody>\n",
       "    <tr>\n",
       "      <th>67</th>\n",
       "      <td>3.07</td>\n",
       "      <td>1.00</td>\n",
       "      <td>Female</td>\n",
       "      <td>Yes</td>\n",
       "      <td>Sat</td>\n",
       "      <td>Dinner</td>\n",
       "      <td>1</td>\n",
       "      <td>3.07</td>\n",
       "      <td>Tiffany Brock</td>\n",
       "      <td>4359488526995267</td>\n",
       "      <td>Sat3455</td>\n",
       "      <td>32.5733</td>\n",
       "      <td>Tiffany</td>\n",
       "    </tr>\n",
       "    <tr>\n",
       "      <th>92</th>\n",
       "      <td>5.75</td>\n",
       "      <td>1.00</td>\n",
       "      <td>Female</td>\n",
       "      <td>Yes</td>\n",
       "      <td>Fri</td>\n",
       "      <td>Dinner</td>\n",
       "      <td>2</td>\n",
       "      <td>2.88</td>\n",
       "      <td>Leah Ramirez</td>\n",
       "      <td>3508911676966392</td>\n",
       "      <td>Fri3780</td>\n",
       "      <td>17.3913</td>\n",
       "      <td>Leah</td>\n",
       "    </tr>\n",
       "    <tr>\n",
       "      <th>111</th>\n",
       "      <td>7.25</td>\n",
       "      <td>1.00</td>\n",
       "      <td>Female</td>\n",
       "      <td>No</td>\n",
       "      <td>Sat</td>\n",
       "      <td>Dinner</td>\n",
       "      <td>1</td>\n",
       "      <td>7.25</td>\n",
       "      <td>Terri Jones</td>\n",
       "      <td>3559221007826887</td>\n",
       "      <td>Sat4801</td>\n",
       "      <td>13.7931</td>\n",
       "      <td>Terri</td>\n",
       "    </tr>\n",
       "    <tr>\n",
       "      <th>236</th>\n",
       "      <td>12.60</td>\n",
       "      <td>1.00</td>\n",
       "      <td>Male</td>\n",
       "      <td>Yes</td>\n",
       "      <td>Sat</td>\n",
       "      <td>Dinner</td>\n",
       "      <td>2</td>\n",
       "      <td>6.30</td>\n",
       "      <td>Matthew Myers</td>\n",
       "      <td>3543676378973965</td>\n",
       "      <td>Sat5032</td>\n",
       "      <td>7.9365</td>\n",
       "      <td>Matthew</td>\n",
       "    </tr>\n",
       "    <tr>\n",
       "      <th>0</th>\n",
       "      <td>16.99</td>\n",
       "      <td>1.01</td>\n",
       "      <td>Female</td>\n",
       "      <td>No</td>\n",
       "      <td>Sun</td>\n",
       "      <td>Dinner</td>\n",
       "      <td>2</td>\n",
       "      <td>8.49</td>\n",
       "      <td>Christy Cunningham</td>\n",
       "      <td>3560325168603410</td>\n",
       "      <td>Sun2959</td>\n",
       "      <td>5.9447</td>\n",
       "      <td>Christy</td>\n",
       "    </tr>\n",
       "    <tr>\n",
       "      <th>...</th>\n",
       "      <td>...</td>\n",
       "      <td>...</td>\n",
       "      <td>...</td>\n",
       "      <td>...</td>\n",
       "      <td>...</td>\n",
       "      <td>...</td>\n",
       "      <td>...</td>\n",
       "      <td>...</td>\n",
       "      <td>...</td>\n",
       "      <td>...</td>\n",
       "      <td>...</td>\n",
       "      <td>...</td>\n",
       "      <td>...</td>\n",
       "    </tr>\n",
       "    <tr>\n",
       "      <th>141</th>\n",
       "      <td>34.30</td>\n",
       "      <td>6.70</td>\n",
       "      <td>Male</td>\n",
       "      <td>No</td>\n",
       "      <td>Thur</td>\n",
       "      <td>Lunch</td>\n",
       "      <td>6</td>\n",
       "      <td>5.72</td>\n",
       "      <td>Steven Carlson</td>\n",
       "      <td>3526515703718508</td>\n",
       "      <td>Thur1025</td>\n",
       "      <td>19.5335</td>\n",
       "      <td>Steven</td>\n",
       "    </tr>\n",
       "    <tr>\n",
       "      <th>59</th>\n",
       "      <td>48.27</td>\n",
       "      <td>6.73</td>\n",
       "      <td>Male</td>\n",
       "      <td>No</td>\n",
       "      <td>Sat</td>\n",
       "      <td>Dinner</td>\n",
       "      <td>4</td>\n",
       "      <td>12.07</td>\n",
       "      <td>Brian Ortiz</td>\n",
       "      <td>6596453823950595</td>\n",
       "      <td>Sat8139</td>\n",
       "      <td>13.9424</td>\n",
       "      <td>Brian</td>\n",
       "    </tr>\n",
       "    <tr>\n",
       "      <th>23</th>\n",
       "      <td>39.42</td>\n",
       "      <td>7.58</td>\n",
       "      <td>Male</td>\n",
       "      <td>No</td>\n",
       "      <td>Sat</td>\n",
       "      <td>Dinner</td>\n",
       "      <td>4</td>\n",
       "      <td>9.86</td>\n",
       "      <td>Lance Peterson</td>\n",
       "      <td>3542584061609808</td>\n",
       "      <td>Sat239</td>\n",
       "      <td>19.2288</td>\n",
       "      <td>Lance</td>\n",
       "    </tr>\n",
       "    <tr>\n",
       "      <th>212</th>\n",
       "      <td>48.33</td>\n",
       "      <td>9.00</td>\n",
       "      <td>Male</td>\n",
       "      <td>No</td>\n",
       "      <td>Sat</td>\n",
       "      <td>Dinner</td>\n",
       "      <td>4</td>\n",
       "      <td>12.08</td>\n",
       "      <td>Alex Williamson</td>\n",
       "      <td>676218815212</td>\n",
       "      <td>Sat4590</td>\n",
       "      <td>18.6220</td>\n",
       "      <td>Alex</td>\n",
       "    </tr>\n",
       "    <tr>\n",
       "      <th>170</th>\n",
       "      <td>50.81</td>\n",
       "      <td>10.00</td>\n",
       "      <td>Male</td>\n",
       "      <td>Yes</td>\n",
       "      <td>Sat</td>\n",
       "      <td>Dinner</td>\n",
       "      <td>3</td>\n",
       "      <td>16.94</td>\n",
       "      <td>Gregory Clark</td>\n",
       "      <td>5473850968388236</td>\n",
       "      <td>Sat1954</td>\n",
       "      <td>19.6812</td>\n",
       "      <td>Gregory</td>\n",
       "    </tr>\n",
       "  </tbody>\n",
       "</table>\n",
       "<p>244 rows × 13 columns</p>\n",
       "</div>"
      ],
      "text/plain": [
       "     total_bill    tip     sex smoker   day    time  size  price_per_person  \\\n",
       "67         3.07   1.00  Female    Yes   Sat  Dinner     1              3.07   \n",
       "92         5.75   1.00  Female    Yes   Fri  Dinner     2              2.88   \n",
       "111        7.25   1.00  Female     No   Sat  Dinner     1              7.25   \n",
       "236       12.60   1.00    Male    Yes   Sat  Dinner     2              6.30   \n",
       "0         16.99   1.01  Female     No   Sun  Dinner     2              8.49   \n",
       "..          ...    ...     ...    ...   ...     ...   ...               ...   \n",
       "141       34.30   6.70    Male     No  Thur   Lunch     6              5.72   \n",
       "59        48.27   6.73    Male     No   Sat  Dinner     4             12.07   \n",
       "23        39.42   7.58    Male     No   Sat  Dinner     4              9.86   \n",
       "212       48.33   9.00    Male     No   Sat  Dinner     4             12.08   \n",
       "170       50.81  10.00    Male    Yes   Sat  Dinner     3             16.94   \n",
       "\n",
       "             Payer Name         CC Number Payment ID  tip_percent first_name  \n",
       "67        Tiffany Brock  4359488526995267    Sat3455      32.5733    Tiffany  \n",
       "92         Leah Ramirez  3508911676966392    Fri3780      17.3913       Leah  \n",
       "111         Terri Jones  3559221007826887    Sat4801      13.7931      Terri  \n",
       "236       Matthew Myers  3543676378973965    Sat5032       7.9365    Matthew  \n",
       "0    Christy Cunningham  3560325168603410    Sun2959       5.9447    Christy  \n",
       "..                  ...               ...        ...          ...        ...  \n",
       "141      Steven Carlson  3526515703718508   Thur1025      19.5335     Steven  \n",
       "59          Brian Ortiz  6596453823950595    Sat8139      13.9424      Brian  \n",
       "23       Lance Peterson  3542584061609808     Sat239      19.2288      Lance  \n",
       "212     Alex Williamson      676218815212    Sat4590      18.6220       Alex  \n",
       "170       Gregory Clark  5473850968388236    Sat1954      19.6812    Gregory  \n",
       "\n",
       "[244 rows x 13 columns]"
      ]
     },
     "execution_count": 29,
     "metadata": {},
     "output_type": "execute_result"
    }
   ],
   "source": [
    " ## Sort by day, then by total_bill in ascending order.\n",
    "\n",
    "data.sort_values(['tip', 'total_bill'], ascending= True)"
   ]
  },
  {
   "cell_type": "code",
   "execution_count": 31,
   "id": "4be3d95b",
   "metadata": {},
   "outputs": [],
   "source": [
    "## . Set Payment ID as the index of the dataframe.\n",
    "\n",
    "data.set_index(\"Payment ID\", inplace= True)"
   ]
  },
  {
   "cell_type": "code",
   "execution_count": 32,
   "id": "c63b0ac9",
   "metadata": {},
   "outputs": [
    {
     "data": {
      "text/html": [
       "<div>\n",
       "<style scoped>\n",
       "    .dataframe tbody tr th:only-of-type {\n",
       "        vertical-align: middle;\n",
       "    }\n",
       "\n",
       "    .dataframe tbody tr th {\n",
       "        vertical-align: top;\n",
       "    }\n",
       "\n",
       "    .dataframe thead th {\n",
       "        text-align: right;\n",
       "    }\n",
       "</style>\n",
       "<table border=\"1\" class=\"dataframe\">\n",
       "  <thead>\n",
       "    <tr style=\"text-align: right;\">\n",
       "      <th></th>\n",
       "      <th>total_bill</th>\n",
       "      <th>tip</th>\n",
       "      <th>sex</th>\n",
       "      <th>smoker</th>\n",
       "      <th>day</th>\n",
       "      <th>time</th>\n",
       "      <th>size</th>\n",
       "      <th>price_per_person</th>\n",
       "      <th>Payer Name</th>\n",
       "      <th>CC Number</th>\n",
       "      <th>tip_percent</th>\n",
       "      <th>first_name</th>\n",
       "    </tr>\n",
       "    <tr>\n",
       "      <th>Payment ID</th>\n",
       "      <th></th>\n",
       "      <th></th>\n",
       "      <th></th>\n",
       "      <th></th>\n",
       "      <th></th>\n",
       "      <th></th>\n",
       "      <th></th>\n",
       "      <th></th>\n",
       "      <th></th>\n",
       "      <th></th>\n",
       "      <th></th>\n",
       "      <th></th>\n",
       "    </tr>\n",
       "  </thead>\n",
       "  <tbody>\n",
       "    <tr>\n",
       "      <th>Sun2959</th>\n",
       "      <td>16.99</td>\n",
       "      <td>1.01</td>\n",
       "      <td>Female</td>\n",
       "      <td>No</td>\n",
       "      <td>Sun</td>\n",
       "      <td>Dinner</td>\n",
       "      <td>2</td>\n",
       "      <td>8.49</td>\n",
       "      <td>Christy Cunningham</td>\n",
       "      <td>3560325168603410</td>\n",
       "      <td>5.9447</td>\n",
       "      <td>Christy</td>\n",
       "    </tr>\n",
       "    <tr>\n",
       "      <th>Sun4608</th>\n",
       "      <td>10.34</td>\n",
       "      <td>1.66</td>\n",
       "      <td>Male</td>\n",
       "      <td>No</td>\n",
       "      <td>Sun</td>\n",
       "      <td>Dinner</td>\n",
       "      <td>3</td>\n",
       "      <td>3.45</td>\n",
       "      <td>Douglas Tucker</td>\n",
       "      <td>4478071379779230</td>\n",
       "      <td>16.0542</td>\n",
       "      <td>Douglas</td>\n",
       "    </tr>\n",
       "    <tr>\n",
       "      <th>Sun4458</th>\n",
       "      <td>21.01</td>\n",
       "      <td>3.50</td>\n",
       "      <td>Male</td>\n",
       "      <td>No</td>\n",
       "      <td>Sun</td>\n",
       "      <td>Dinner</td>\n",
       "      <td>3</td>\n",
       "      <td>7.00</td>\n",
       "      <td>Travis Walters</td>\n",
       "      <td>6011812112971322</td>\n",
       "      <td>16.6587</td>\n",
       "      <td>Travis</td>\n",
       "    </tr>\n",
       "    <tr>\n",
       "      <th>Sun5260</th>\n",
       "      <td>23.68</td>\n",
       "      <td>3.31</td>\n",
       "      <td>Male</td>\n",
       "      <td>No</td>\n",
       "      <td>Sun</td>\n",
       "      <td>Dinner</td>\n",
       "      <td>2</td>\n",
       "      <td>11.84</td>\n",
       "      <td>Nathaniel Harris</td>\n",
       "      <td>4676137647685994</td>\n",
       "      <td>13.9780</td>\n",
       "      <td>Nathaniel</td>\n",
       "    </tr>\n",
       "    <tr>\n",
       "      <th>Sun2251</th>\n",
       "      <td>24.59</td>\n",
       "      <td>3.61</td>\n",
       "      <td>Female</td>\n",
       "      <td>No</td>\n",
       "      <td>Sun</td>\n",
       "      <td>Dinner</td>\n",
       "      <td>4</td>\n",
       "      <td>6.15</td>\n",
       "      <td>Tonya Carter</td>\n",
       "      <td>4832732618637221</td>\n",
       "      <td>14.6808</td>\n",
       "      <td>Tonya</td>\n",
       "    </tr>\n",
       "  </tbody>\n",
       "</table>\n",
       "</div>"
      ],
      "text/plain": [
       "            total_bill   tip     sex smoker  day    time  size  \\\n",
       "Payment ID                                                       \n",
       "Sun2959          16.99  1.01  Female     No  Sun  Dinner     2   \n",
       "Sun4608          10.34  1.66    Male     No  Sun  Dinner     3   \n",
       "Sun4458          21.01  3.50    Male     No  Sun  Dinner     3   \n",
       "Sun5260          23.68  3.31    Male     No  Sun  Dinner     2   \n",
       "Sun2251          24.59  3.61  Female     No  Sun  Dinner     4   \n",
       "\n",
       "            price_per_person          Payer Name         CC Number  \\\n",
       "Payment ID                                                           \n",
       "Sun2959                 8.49  Christy Cunningham  3560325168603410   \n",
       "Sun4608                 3.45      Douglas Tucker  4478071379779230   \n",
       "Sun4458                 7.00      Travis Walters  6011812112971322   \n",
       "Sun5260                11.84    Nathaniel Harris  4676137647685994   \n",
       "Sun2251                 6.15        Tonya Carter  4832732618637221   \n",
       "\n",
       "            tip_percent first_name  \n",
       "Payment ID                          \n",
       "Sun2959          5.9447    Christy  \n",
       "Sun4608         16.0542    Douglas  \n",
       "Sun4458         16.6587     Travis  \n",
       "Sun5260         13.9780  Nathaniel  \n",
       "Sun2251         14.6808      Tonya  "
      ]
     },
     "execution_count": 32,
     "metadata": {},
     "output_type": "execute_result"
    }
   ],
   "source": [
    "data.head()"
   ]
  },
  {
   "cell_type": "code",
   "execution_count": 36,
   "id": "b586310d",
   "metadata": {},
   "outputs": [
    {
     "data": {
      "text/plain": [
       "244"
      ]
     },
     "execution_count": 36,
     "metadata": {},
     "output_type": "execute_result"
    }
   ],
   "source": [
    "## How many unique credit card numbers are there?\n",
    "\n",
    "data[\"CC Number\"].nunique()"
   ]
  },
  {
   "cell_type": "code",
   "execution_count": 37,
   "id": "7ffcfa6c",
   "metadata": {},
   "outputs": [
    {
     "data": {
      "text/plain": [
       "time\n",
       "Dinner    176\n",
       "Lunch      68\n",
       "Name: count, dtype: int64"
      ]
     },
     "execution_count": 37,
     "metadata": {},
     "output_type": "execute_result"
    }
   ],
   "source": [
    "## Count how many people dined for lunch vs. dinner.\n",
    "data['time'].value_counts()"
   ]
  },
  {
   "cell_type": "code",
   "execution_count": 38,
   "id": "95c3f288",
   "metadata": {},
   "outputs": [
    {
     "data": {
      "text/plain": [
       "Index(['total_bill', 'tip', 'sex', 'smoker', 'day', 'time', 'size',\n",
       "       'price_per_person', 'Payer Name', 'CC Number', 'tip_percent',\n",
       "       'first_name'],\n",
       "      dtype='object')"
      ]
     },
     "execution_count": 38,
     "metadata": {},
     "output_type": "execute_result"
    }
   ],
   "source": [
    "data.columns"
   ]
  },
  {
   "cell_type": "code",
   "execution_count": 39,
   "id": "58021042",
   "metadata": {},
   "outputs": [],
   "source": [
    "## Who paid the highest tip per person? Show their name, tip, size, and tip per person.\n",
    "##(Hint: Create a tip_per_person column and sort)\n",
    "\n",
    "data['tip_per_person'] = data['tip']/data['size']\n"
   ]
  },
  {
   "cell_type": "code",
   "execution_count": 44,
   "id": "02b88c06",
   "metadata": {},
   "outputs": [
    {
     "data": {
      "text/html": [
       "<div>\n",
       "<style scoped>\n",
       "    .dataframe tbody tr th:only-of-type {\n",
       "        vertical-align: middle;\n",
       "    }\n",
       "\n",
       "    .dataframe tbody tr th {\n",
       "        vertical-align: top;\n",
       "    }\n",
       "\n",
       "    .dataframe thead th {\n",
       "        text-align: right;\n",
       "    }\n",
       "</style>\n",
       "<table border=\"1\" class=\"dataframe\">\n",
       "  <thead>\n",
       "    <tr style=\"text-align: right;\">\n",
       "      <th></th>\n",
       "      <th>Payer Name</th>\n",
       "      <th>tip</th>\n",
       "      <th>size</th>\n",
       "      <th>tip_per_person</th>\n",
       "    </tr>\n",
       "    <tr>\n",
       "      <th>Payment ID</th>\n",
       "      <th></th>\n",
       "      <th></th>\n",
       "      <th></th>\n",
       "      <th></th>\n",
       "    </tr>\n",
       "  </thead>\n",
       "  <tbody>\n",
       "    <tr>\n",
       "      <th>Sat1954</th>\n",
       "      <td>Gregory Clark</td>\n",
       "      <td>10.0</td>\n",
       "      <td>3</td>\n",
       "      <td>3.333333</td>\n",
       "    </tr>\n",
       "  </tbody>\n",
       "</table>\n",
       "</div>"
      ],
      "text/plain": [
       "               Payer Name   tip  size  tip_per_person\n",
       "Payment ID                                           \n",
       "Sat1954     Gregory Clark  10.0     3        3.333333"
      ]
     },
     "execution_count": 44,
     "metadata": {},
     "output_type": "execute_result"
    }
   ],
   "source": [
    "data.sort_values(\"tip_per_person\", ascending= False)[[\"Payer Name\",\"tip\", 'size', \"tip_per_person\"]].head(1)"
   ]
  },
  {
   "cell_type": "code",
   "execution_count": 45,
   "id": "8406f9b3",
   "metadata": {},
   "outputs": [
    {
     "data": {
      "text/plain": [
       "Index(['total_bill', 'tip', 'sex', 'smoker', 'day', 'time', 'size',\n",
       "       'price_per_person', 'Payer Name', 'CC Number', 'tip_percent',\n",
       "       'first_name', 'tip_per_person'],\n",
       "      dtype='object')"
      ]
     },
     "execution_count": 45,
     "metadata": {},
     "output_type": "execute_result"
    }
   ],
   "source": [
    "##For each day, what is the average tip_percent given by smokers vs non-smokers?\n",
    "## (Hint: Use groupby on both day and smoker)\n",
    "\n",
    "data.columns"
   ]
  },
  {
   "cell_type": "code",
   "execution_count": 48,
   "id": "4f6e629f",
   "metadata": {},
   "outputs": [
    {
     "data": {
      "text/plain": [
       "smoker  day \n",
       "No      Fri     15.165044\n",
       "        Sat     15.804766\n",
       "        Sun     16.011294\n",
       "        Thur    16.029808\n",
       "Yes     Fri     17.478305\n",
       "        Sat     14.790607\n",
       "        Sun     18.725032\n",
       "        Thur    16.386327\n",
       "Name: tip_percent, dtype: float64"
      ]
     },
     "execution_count": 48,
     "metadata": {},
     "output_type": "execute_result"
    }
   ],
   "source": [
    "data['tip_percent'] = (data['tip']/data['total_bill'])*100\n",
    "\n",
    "data.groupby([\"smoker\", \"day\"])[\"tip_percent\"].mean()"
   ]
  },
  {
   "cell_type": "code",
   "execution_count": 58,
   "id": "24264e76",
   "metadata": {},
   "outputs": [
    {
     "data": {
      "text/html": [
       "<div>\n",
       "<style scoped>\n",
       "    .dataframe tbody tr th:only-of-type {\n",
       "        vertical-align: middle;\n",
       "    }\n",
       "\n",
       "    .dataframe tbody tr th {\n",
       "        vertical-align: top;\n",
       "    }\n",
       "\n",
       "    .dataframe thead th {\n",
       "        text-align: right;\n",
       "    }\n",
       "</style>\n",
       "<table border=\"1\" class=\"dataframe\">\n",
       "  <thead>\n",
       "    <tr style=\"text-align: right;\">\n",
       "      <th></th>\n",
       "      <th>Payer Name</th>\n",
       "      <th>total_spent</th>\n",
       "    </tr>\n",
       "    <tr>\n",
       "      <th>Payment ID</th>\n",
       "      <th></th>\n",
       "      <th></th>\n",
       "    </tr>\n",
       "  </thead>\n",
       "  <tbody>\n",
       "    <tr>\n",
       "      <th>Sat1954</th>\n",
       "      <td>Gregory Clark</td>\n",
       "      <td>60.81</td>\n",
       "    </tr>\n",
       "    <tr>\n",
       "      <th>Sat4590</th>\n",
       "      <td>Alex Williamson</td>\n",
       "      <td>57.33</td>\n",
       "    </tr>\n",
       "    <tr>\n",
       "      <th>Sat8139</th>\n",
       "      <td>Brian Ortiz</td>\n",
       "      <td>55.00</td>\n",
       "    </tr>\n",
       "  </tbody>\n",
       "</table>\n",
       "</div>"
      ],
      "text/plain": [
       "                 Payer Name  total_spent\n",
       "Payment ID                              \n",
       "Sat1954       Gregory Clark        60.81\n",
       "Sat4590     Alex Williamson        57.33\n",
       "Sat8139         Brian Ortiz        55.00"
      ]
     },
     "execution_count": 58,
     "metadata": {},
     "output_type": "execute_result"
    }
   ],
   "source": [
    "##  Find the top 3 payers who spent the most after including tip (i.e., total_bill + tip).\n",
    "## (Hint: Add new column total_spent and sort)\n",
    "\n",
    "data['total_spent'] = data[\"total_bill\"] + data[\"tip\"]\n",
    "\n",
    "data[[\"Payer Name\", \"total_spent\"]].sort_values(by =\"total_spent\", ascending= False).head(3)"
   ]
  },
  {
   "cell_type": "code",
   "execution_count": 63,
   "id": "2ae0d0e1",
   "metadata": {},
   "outputs": [
    {
     "data": {
      "text/plain": [
       "sex\n",
       "Male      116\n",
       "Female     61\n",
       "Name: count, dtype: int64"
      ]
     },
     "execution_count": 63,
     "metadata": {},
     "output_type": "execute_result"
    }
   ],
   "source": [
    "## 4. How many males and females paid more than ₹6 per person on average?\n",
    "## (Hint: Use price_per_person and sex columns\n",
    "\n",
    "filtered_data = data[data['price_per_person']>6]\n",
    "\n",
    "filtered_data['sex'].value_counts()"
   ]
  },
  {
   "cell_type": "code",
   "execution_count": 70,
   "id": "b95f7286",
   "metadata": {},
   "outputs": [
    {
     "data": {
      "text/plain": [
       "day\n",
       "Fri      2\n",
       "Sat     21\n",
       "Sun     25\n",
       "Thur    22\n",
       "Name: Payer Name, dtype: int64"
      ]
     },
     "execution_count": 70,
     "metadata": {},
     "output_type": "execute_result"
    }
   ],
   "source": [
    "#5. For each day, find the number of unique customers who paid with a Visa card.\n",
    "#(Hint: Visa starts with '4', use string filtering on CC Number)\n",
    "\n",
    "data['CC Number'] = data['CC Number'].astype(str)\n",
    "visa_data = data[data['CC Number'].str.startswith(\"4\")]\n",
    "\n",
    "visa_data.groupby(\"day\")[\"Payer Name\"].nunique()"
   ]
  },
  {
   "cell_type": "code",
   "execution_count": 78,
   "id": "7d5dd4f4",
   "metadata": {},
   "outputs": [
    {
     "data": {
      "text/plain": [
       "'Fri'"
      ]
     },
     "execution_count": 78,
     "metadata": {},
     "output_type": "execute_result"
    }
   ],
   "source": [
    "## Which day had the highest average tip per person?\n",
    "\n",
    "data.groupby(\"day\")[\"tip_per_person\"].mean().idxmax()"
   ]
  },
  {
   "cell_type": "code",
   "execution_count": 80,
   "id": "9a9b3ed8",
   "metadata": {},
   "outputs": [],
   "source": [
    "###  Create a new column meal_label that labels rows as 'Light' if total_bill < 15, 'Medium' if between 15–25, and 'Heavy' if more than 25.\n",
    "import numpy as np\n",
    "\n",
    "conditions = [data['total_bill'] < 15,\n",
    "    (data['total_bill'] >= 15) & (data['total_bill'] <= 25),\n",
    "    data['total_bill'] > 25]\n",
    "\n",
    "\n",
    "choices = ['Light', 'Medium', 'Heavy']\n",
    "\n",
    "data['meal_label'] = np.select(conditions, choices)"
   ]
  },
  {
   "cell_type": "code",
   "execution_count": 82,
   "id": "3608d9a1",
   "metadata": {},
   "outputs": [
    {
     "data": {
      "text/plain": [
       "day   time  \n",
       "Fri   Dinner    8.995000\n",
       "      Lunch     6.655714\n",
       "Sat   Dinner    8.186782\n",
       "Sun   Dinner    7.863684\n",
       "Thur  Dinner    9.390000\n",
       "      Lunch     7.391967\n",
       "Name: price_per_person, dtype: float64"
      ]
     },
     "execution_count": 82,
     "metadata": {},
     "output_type": "execute_result"
    }
   ],
   "source": [
    "### What’s the average price_per_person for each combination of day and time (i.e., Lunch/Dinner)?\n",
    "## (Hint: Use multi-index groupby)\n",
    "\n",
    "data.groupby(['day', 'time'])['price_per_person'].mean()\n",
    "\n",
    "\n"
   ]
  },
  {
   "cell_type": "code",
   "execution_count": null,
   "id": "dfe12adf",
   "metadata": {},
   "outputs": [],
   "source": []
  }
 ],
 "metadata": {
  "kernelspec": {
   "display_name": "base",
   "language": "python",
   "name": "python3"
  },
  "language_info": {
   "codemirror_mode": {
    "name": "ipython",
    "version": 3
   },
   "file_extension": ".py",
   "mimetype": "text/x-python",
   "name": "python",
   "nbconvert_exporter": "python",
   "pygments_lexer": "ipython3",
   "version": "3.12.7"
  }
 },
 "nbformat": 4,
 "nbformat_minor": 5
}
